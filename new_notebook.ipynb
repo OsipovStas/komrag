{
    "cells": [
        {
            "cell_type": "code",
            "execution_count": 1,
            "id": "f0d62923",
            "metadata": {
                "id": "f0d62923",
                "executionInfo": {
                    "status": "ok",
                    "timestamp": 1725793296194,
                    "user_tz": -180,
                    "elapsed": 50146,
                    "user": {
                        "displayName": "",
                        "userId": ""
                    }
                }
            },
            "outputs": [],
            "source": [
                "%%capture\n",
                "!pip install -q dagshub dvc dvc-s3  mlflow"
            ]
        },
        {
            "cell_type": "code",
            "source": [
                "#@markdown **You need to sign up for [DagsHub](https://dagshub.com/user/sign_up) , then enter the name of the repository you'd like to create, and your username and email.**\n",
                "\n",
                "#@markdown Enter the repository name for the project:\n",
                "REPO_NAME= \"komrag\" #@param {type:\"string\"}\n",
                "\n",
                "#@markdown Enter the username of your DAGsHub account:\n",
                "USER_NAME = \"OsipovStas\" #@param {type:\"string\"}\n",
                "\n",
                "#@markdown Enter the email for your DAGsHub account:\n",
                "EMAIL = \"stasstels@gmail.com\" #@param {type:\"string\"}\n",
                "\n",
                "#@markdown ---\n",
                "\n",
                "import IPython"
            ],
            "metadata": {
                "id": "mMsHuLh9S2DA",
                "executionInfo": {
                    "status": "ok",
                    "timestamp": 1725793331306,
                    "user_tz": -180,
                    "elapsed": 377,
                    "user": {
                        "displayName": "",
                        "userId": ""
                    }
                }
            },
            "id": "mMsHuLh9S2DA",
            "execution_count": 3,
            "outputs": []
        },
        {
            "cell_type": "code",
            "source": [
                "!dagshub login\n",
                "\n",
                "import dagshub\n",
                "TOKEN = dagshub.auth.get_token()"
            ],
            "metadata": {
                "id": "Ctn4zGypTJV7",
                "executionInfo": {
                    "status": "ok",
                    "timestamp": 1725793357562,
                    "user_tz": -180,
                    "elapsed": 11763,
                    "user": {
                        "displayName": "",
                        "userId": ""
                    }
                },
                "outputId": "079f5dfb-23ae-4965-c90d-0a151d500031",
                "colab": {
                    "base_uri": "https://localhost:8080/",
                    "height": 214
                }
            },
            "id": "Ctn4zGypTJV7",
            "execution_count": 4,
            "outputs": [
                {
                    "output_type": "stream",
                    "name": "stdout",
                    "text": [
                        "                                \u001b[1m\u2757\u2757\u2757 AUTHORIZATION REQUIRED \u2757\u2757\u2757\u001b[0m                                \n",
                        "\n",
                        "\n",
                        "Open the following link in your browser to authorize the client:\n",
                        "https://dagshub.com/login/oauth/authorize?state=f4f13886-5f83-4a31-8143-774d4b723d22&client_id=32b60ba385aa7cecf24046d8195a71c07dd345d9657977863b52e7748e0f0f28&middleman_request_id=0e670d234f0a537a4e00b05343923ea0c488c9df2580b6e66572f6887eefa199\n",
                        "\n",
                        "\n",
                        "\u001b[2K\u001b[32m\u280b\u001b[0m Waiting for authorization\n",
                        "\u001b[1A\u001b[2K\u2705 OAuth token added\n"
                    ]
                },
                {
                    "output_type": "display_data",
                    "data": {
                        "text/plain": [
                            "Accessing as OsipovStas\n"
                        ],
                        "text/html": [
                            "<pre style=\"white-space:pre;overflow-x:auto;line-height:normal;font-family:Menlo,'DejaVu Sans Mono',consolas,'Courier New',monospace\">Accessing as OsipovStas\n",
                            "</pre>\n"
                        ]
                    },
                    "metadata": {}
                }
            ]
        },
        {
            "cell_type": "code",
            "source": [
                "import mlflow\n",
                "username = f'{USER_NAME}'  # Replace with your DagsHub username\n",
                "repository = f'{REPO_NAME}'  # Replace with your repository name\n",
                "token = f'{TOKEN}'  # Replace with your DagsHub token\n",
                "!git config --global user.email {EMAIL}\n",
                "!git config --global user.name {USER_NAME}\n",
                "dagshub.init(repo_name=REPO_NAME, repo_owner=USER_NAME)\n",
                "mlflow.set_tracking_uri(f\"https://dagshub.com/{USER_NAME}/{REPO_NAME}.mlflow\")"
            ],
            "metadata": {
                "id": "LiMA19WaTSH3",
                "executionInfo": {
                    "status": "ok",
                    "timestamp": 1725795950869,
                    "user_tz": -180,
                    "elapsed": 1206,
                    "user": {
                        "displayName": "",
                        "userId": ""
                    }
                },
                "outputId": "31a4d270-1c0c-4271-dd85-ebe87ec5d52d",
                "colab": {
                    "base_uri": "https://localhost:8080/",
                    "height": 50
                }
            },
            "id": "LiMA19WaTSH3",
            "execution_count": 6,
            "outputs": [
                {
                    "output_type": "display_data",
                    "data": {
                        "text/plain": [
                            "Initialized MLflow to track repo \u001b[32m\"OsipovStas/komrag\"\u001b[0m\n"
                        ],
                        "text/html": [
                            "<pre style=\"white-space:pre;overflow-x:auto;line-height:normal;font-family:Menlo,'DejaVu Sans Mono',consolas,'Courier New',monospace\">Initialized MLflow to track repo <span style=\"color: #008000; text-decoration-color: #008000\">\"OsipovStas/komrag\"</span>\n",
                            "</pre>\n"
                        ]
                    },
                    "metadata": {}
                },
                {
                    "output_type": "display_data",
                    "data": {
                        "text/plain": [
                            "Repository OsipovStas/komrag initialized!\n"
                        ],
                        "text/html": [
                            "<pre style=\"white-space:pre;overflow-x:auto;line-height:normal;font-family:Menlo,'DejaVu Sans Mono',consolas,'Courier New',monospace\">Repository OsipovStas/komrag initialized!\n",
                            "</pre>\n"
                        ]
                    },
                    "metadata": {}
                }
            ]
        },
        {
            "cell_type": "markdown",
            "id": "fd2e0fe4",
            "metadata": {
                "id": "fd2e0fe4"
            },
            "source": [
                "## Run this to save the notebook to DagsHub \ud83d\udc47"
            ]
        },
        {
            "cell_type": "code",
            "execution_count": 7,
            "metadata": {
                "id": "2JvR9_vR4VyK",
                "executionInfo": {
                    "status": "ok",
                    "timestamp": 1725795967735,
                    "user_tz": -180,
                    "elapsed": 5608,
                    "user": {
                        "displayName": "",
                        "userId": ""
                    }
                }
            },
            "outputs": [],
            "source": [
                "# Install the DagsHub python client\n",
                "!pip install -q dagshub\n"
            ],
            "id": "2JvR9_vR4VyK"
        },
        {
            "cell_type": "code",
            "execution_count": null,
            "id": "f7fd65e3",
            "metadata": {
                "id": "f7fd65e3"
            },
            "outputs": [],
            "source": [
                "from dagshub.notebook import save_notebook\n",
                "\n",
                "save_notebook(repo=\"OsipovStas/komrag\", path=\".\")"
            ]
        }
    ],
    "metadata": {
        "kernelspec": {
            "display_name": "Python 3 (ipykernel)",
            "language": "python",
            "name": "python3"
        },
        "language_info": {
            "codemirror_mode": {
                "name": "ipython",
                "version": 3
            },
            "file_extension": ".py",
            "mimetype": "text/x-python",
            "name": "python",
            "nbconvert_exporter": "python",
            "pygments_lexer": "ipython3",
            "version": "3.9.5"
        },
        "colab": {
            "provenance": []
        }
    },
    "nbformat": 4,
    "nbformat_minor": 5
}