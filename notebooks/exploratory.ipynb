{
 "cells": [
  {
   "cell_type": "code",
   "execution_count": 1,
   "id": "33c630d9",
   "metadata": {},
   "outputs": [],
   "source": [
    "%%capture\n",
    "!pip install -q dagshub mlflow python-dotenv langchain langchain-openai langchain-together langchain-community pypdf pinecone-client[grpc] langchain-pinecone langchain-huggingface"
   ]
  },
  {
   "cell_type": "code",
   "execution_count": 2,
   "id": "244ca647",
   "metadata": {},
   "outputs": [],
   "source": [
    "#@markdown **You need to sign up for [DagsHub](https://dagshub.com/user/sign_up) , then enter the name of the repository you'd like to create, and your username and email.**\n",
    "\n",
    "#@markdown Enter the repository name for the project:\n",
    "REPO_NAME= \"komrag\" #@param {type:\"string\"}\n",
    "\n",
    "#@markdown Enter the username of your DAGsHub account:\n",
    "USER_NAME = \"OsipovStas\" #@param {type:\"string\"}\n",
    "\n",
    "#@markdown Enter the email for your DAGsHub account:\n",
    "EMAIL = \"stasstels@gmail.com\" #@param {type:\"string\"}\n",
    "\n",
    "#@markdown ---\n",
    "\n",
    "import IPython"
   ]
  },
  {
   "cell_type": "code",
   "execution_count": 3,
   "id": "435794a9",
   "metadata": {},
   "outputs": [],
   "source": [
    "from dotenv import load_dotenv\n",
    "\n",
    "load_dotenv(\"../.env\")"
   ]
  },
  {
   "cell_type": "code",
   "execution_count": 4,
   "id": "08f92caa",
   "metadata": {},
   "outputs": [],
   "source": [
    "import os\n",
    "\n",
    "DH_TOKEN = os.environ['LLM_MATH_COMP_DH_TOKEN']"
   ]
  },
  {
   "cell_type": "code",
   "execution_count": 5,
   "id": "129864c1",
   "metadata": {},
   "outputs": [],
   "source": [
    "import mlflow\n",
    "import dagshub\n",
    "import os\n",
    "#DH_TOKEN = os.environ['LLM_MATH_COMP_DH_TOKEN']\n",
    "username = f'{USER_NAME}'  # Replace with your DagsHub username\n",
    "repository = f'{REPO_NAME}'  # Replace with your repository name\n",
    "token = f'{DH_TOKEN}'  # Replace with your DagsHub token\n",
    "os.environ['MLFLOW_TRACKING_USERNAME'] = username\n",
    "os.environ['MLFLOW_TRACKING_PASSWORD'] = token\n",
    "dagshub.auth.add_app_token(token)\n",
    "dagshub.init(repo_name=REPO_NAME, repo_owner=USER_NAME)\n",
    "mlflow.set_tracking_uri(f\"https://dagshub.com/{USER_NAME}/{REPO_NAME}.mlflow\")"
   ]
  },
  {
   "cell_type": "code",
   "execution_count": 6,
   "id": "9b9f3bfb",
   "metadata": {},
   "outputs": [],
   "source": [
    "from dotenv import load_dotenv\n",
    "\n",
    "load_dotenv(\"../.env\", override=True)"
   ]
  }
 ],
 "metadata": {},
 "nbformat": 4,
 "nbformat_minor": 5
}
