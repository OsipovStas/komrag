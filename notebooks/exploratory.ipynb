{
    "nbformat": 4,
    "nbformat_minor": 0,
    "metadata": {
        "colab": {
            "provenance": []
        },
        "kernelspec": {
            "name": "python3",
            "display_name": "Python 3"
        },
        "language_info": {
            "name": "python"
        }
    },
    "cells": [
        {
            "cell_type": "code",
            "execution_count": 31,
            "metadata": {
                "id": "Oe_WTA_NvdA7",
                "executionInfo": {
                    "status": "ok",
                    "timestamp": 1729166429498,
                    "user_tz": -180,
                    "elapsed": 7514,
                    "user": {
                        "displayName": "",
                        "userId": ""
                    }
                }
            },
            "outputs": [],
            "source": [
                "%%capture\n",
                "!pip install -q dagshub mlflow langchain langchain-openai langchain-together langchain-community"
            ]
        },
        {
            "cell_type": "code",
            "source": [
                "#@markdown **You need to sign up for [DagsHub](https://dagshub.com/user/sign_up) , then enter the name of the repository you'd like to create, and your username and email.**\n",
                "\n",
                "#@markdown Enter the repository name for the project:\n",
                "REPO_NAME= \"komrag\" #@param {type:\"string\"}\n",
                "\n",
                "#@markdown Enter the username of your DAGsHub account:\n",
                "USER_NAME = \"OsipovStas\" #@param {type:\"string\"}\n",
                "\n",
                "#@markdown Enter the email for your DAGsHub account:\n",
                "EMAIL = \"stasstels@gmail.com\" #@param {type:\"string\"}\n",
                "\n",
                "#@markdown ---\n",
                "\n",
                "import IPython"
            ],
            "metadata": {
                "id": "GJfZ4jjEvsDv",
                "executionInfo": {
                    "status": "ok",
                    "timestamp": 1729170234899,
                    "user_tz": -180,
                    "elapsed": 295,
                    "user": {
                        "displayName": "",
                        "userId": ""
                    }
                }
            },
            "execution_count": 2,
            "outputs": []
        },
        {
            "cell_type": "code",
            "source": [
                "!dagshub login\n",
                "\n",
                "import dagshub\n",
                "TOKEN = dagshub.auth.get_token()"
            ],
            "metadata": {
                "id": "lJNXXvnEwhpn"
            },
            "execution_count": null,
            "outputs": []
        },
        {
            "cell_type": "markdown",
            "source": [],
            "metadata": {
                "id": "d-NX0UGfk_k7"
            }
        },
        {
            "cell_type": "code",
            "source": [
                "from google.colab import userdata\n",
                "DH_TOKEN = userdata.get('LLM_MATH_COMP_DH_TOKEN')\n"
            ],
            "metadata": {
                "id": "l12vwEkGv8gD",
                "executionInfo": {
                    "status": "ok",
                    "timestamp": 1729170291334,
                    "user_tz": -180,
                    "elapsed": 1429,
                    "user": {
                        "displayName": "",
                        "userId": ""
                    }
                }
            },
            "execution_count": 4,
            "outputs": []
        },
        {
            "cell_type": "code",
            "source": [
                "import mlflow\n",
                "import dagshub\n",
                "import os\n",
                "#DH_TOKEN = os.environ['LLM_MATH_COMP_DH_TOKEN']\n",
                "username = f'{USER_NAME}'  # Replace with your DagsHub username\n",
                "repository = f'{REPO_NAME}'  # Replace with your repository name\n",
                "token = f'{DH_TOKEN}'  # Replace with your DagsHub token\n",
                "os.environ['MLFLOW_TRACKING_USERNAME'] = username\n",
                "os.environ['MLFLOW_TRACKING_PASSWORD'] = token\n",
                "dagshub.auth.add_app_token(token)\n",
                "dagshub.init(repo_name=REPO_NAME, repo_owner=USER_NAME)\n",
                "mlflow.set_tracking_uri(f\"https://dagshub.com/{USER_NAME}/{REPO_NAME}.mlflow\")"
            ],
            "metadata": {
                "colab": {
                    "base_uri": "https://localhost:8080/",
                    "height": 66
                },
                "id": "vCUHiCXcwW6r",
                "executionInfo": {
                    "status": "ok",
                    "timestamp": 1729170306427,
                    "user_tz": -180,
                    "elapsed": 2421,
                    "user": {
                        "displayName": "",
                        "userId": ""
                    }
                },
                "outputId": "fd6f05e0-98e2-4c03-abae-f07252cb3472"
            },
            "execution_count": 5,
            "outputs": [
                {
                    "output_type": "stream",
                    "name": "stderr",
                    "text": [
                        "WARNING:dagshub.auth.tokens:The added token already exists in the token cache, skipping\n"
                    ]
                },
                {
                    "output_type": "display_data",
                    "data": {
                        "text/plain": [
                            "Initialized MLflow to track repo \u001b[32m\"OsipovStas/komrag\"\u001b[0m\n"
                        ],
                        "text/html": [
                            "<pre style=\"white-space:pre;overflow-x:auto;line-height:normal;font-family:Menlo,'DejaVu Sans Mono',consolas,'Courier New',monospace\">Initialized MLflow to track repo <span style=\"color: #008000; text-decoration-color: #008000\">\"OsipovStas/komrag\"</span>\n",
                            "</pre>\n"
                        ]
                    },
                    "metadata": {}
                },
                {
                    "output_type": "display_data",
                    "data": {
                        "text/plain": [
                            "Repository OsipovStas/komrag initialized!\n"
                        ],
                        "text/html": [
                            "<pre style=\"white-space:pre;overflow-x:auto;line-height:normal;font-family:Menlo,'DejaVu Sans Mono',consolas,'Courier New',monospace\">Repository OsipovStas/komrag initialized!\n",
                            "</pre>\n"
                        ]
                    },
                    "metadata": {}
                }
            ]
        },
        {
            "cell_type": "code",
            "source": [
                "os.environ['LANGCHAIN_API_KEY'] = userdata.get(\"LANGCHAIN_API_KEY\")\n",
                "os.environ['LANGCHAIN_TRACING_V2'] = \"true\"\n",
                "os.environ['LANGCHAIN_ENDPOINT'] = \"https://api.smith.langchain.com\"\n",
                "os.environ['LANGCHAIN_PROJECT'] = \"komrag\""
            ],
            "metadata": {
                "id": "ypT0z9bxkW-K",
                "executionInfo": {
                    "status": "ok",
                    "timestamp": 1729170309394,
                    "user_tz": -180,
                    "elapsed": 1273,
                    "user": {
                        "displayName": "",
                        "userId": ""
                    }
                }
            },
            "execution_count": 6,
            "outputs": []
        },
        {
            "cell_type": "code",
            "source": [
                "from dagshub.notebook import save_notebook\n",
                "\n",
                "save_notebook(repo=f\"{USER_NAME}/{REPO_NAME}\", path=\"./notebooks/exploratory.ipynb\")"
            ],
            "metadata": {
                "id": "kd9XJ6_ew8Uq"
            },
            "execution_count": null,
            "outputs": []
        },
        {
            "cell_type": "code",
            "source": [
                "from dagshub import get_repo_bucket_client\n",
                "# Get a boto3.client object\n",
                "s3 = get_repo_bucket_client(\"OsipovStas/komrag\")\n",
                "\n",
                "# Upload file\n",
                "s3.upload_file(\n",
                "    Bucket=\"komrag\",  # name of the repo\n",
                "    Filename=\"./life_begin.pdf\",  # local path of file to upload\n",
                "    Key=\"life_begin.pdf\",  # remote path where to upload the file\n",
                ")"
            ],
            "metadata": {
                "colab": {
                    "base_uri": "https://localhost:8080/",
                    "height": 33
                },
                "id": "4MtgrIfqI63d",
                "executionInfo": {
                    "status": "ok",
                    "timestamp": 1729162965768,
                    "user_tz": -180,
                    "elapsed": 3207,
                    "user": {
                        "displayName": "",
                        "userId": ""
                    }
                },
                "outputId": "7b9d3ab6-4f17-4fea-ab37-185ed2c5da7e"
            },
            "execution_count": 5,
            "outputs": [
                {
                    "output_type": "display_data",
                    "data": {
                        "text/plain": [
                            "Client created. Use the name of the repo \u001b[1m(\u001b[0mkomrag\u001b[1m)\u001b[0m as the name of the bucket\n"
                        ],
                        "text/html": [
                            "<pre style=\"white-space:pre;overflow-x:auto;line-height:normal;font-family:Menlo,'DejaVu Sans Mono',consolas,'Courier New',monospace\">Client created. Use the name of the repo <span style=\"font-weight: bold\">(</span>komrag<span style=\"font-weight: bold\">)</span> as the name of the bucket\n",
                            "</pre>\n"
                        ]
                    },
                    "metadata": {}
                }
            ]
        },
        {
            "cell_type": "code",
            "source": [
                "from dagshub import get_repo_bucket_client\n",
                "# Get a boto3.client object\n",
                "s3 = get_repo_bucket_client(\"OsipovStas/komrag\")\n",
                "\n",
                "\n",
                "s3.download_file(\n",
                "    Bucket=\"komrag\",  # name of the repo\n",
                "    Key=\"life_begin.pdf\",  #  remote path from where to download the file\n",
                "    Filename=\"life_begin_copy.pdf\",  # local path where to download the file\n",
                ")"
            ],
            "metadata": {
                "colab": {
                    "base_uri": "https://localhost:8080/",
                    "height": 33
                },
                "id": "80xwtRM1Jb6i",
                "executionInfo": {
                    "status": "ok",
                    "timestamp": 1729163048846,
                    "user_tz": -180,
                    "elapsed": 660,
                    "user": {
                        "displayName": "",
                        "userId": ""
                    }
                },
                "outputId": "9d7962f9-9d5a-4139-b366-db0374aaab52"
            },
            "execution_count": 6,
            "outputs": [
                {
                    "output_type": "display_data",
                    "data": {
                        "text/plain": [
                            "Client created. Use the name of the repo \u001b[1m(\u001b[0mkomrag\u001b[1m)\u001b[0m as the name of the bucket\n"
                        ],
                        "text/html": [
                            "<pre style=\"white-space:pre;overflow-x:auto;line-height:normal;font-family:Menlo,'DejaVu Sans Mono',consolas,'Courier New',monospace\">Client created. Use the name of the repo <span style=\"font-weight: bold\">(</span>komrag<span style=\"font-weight: bold\">)</span> as the name of the bucket\n",
                            "</pre>\n"
                        ]
                    },
                    "metadata": {}
                }
            ]
        },
        {
            "cell_type": "markdown",
            "source": [
                "# LLM Configuration"
            ],
            "metadata": {
                "id": "80kmGnxfLJfb"
            }
        },
        {
            "cell_type": "code",
            "source": [
                "import os\n",
                "\n",
                "os.environ['AZURE_OPENAI_ENDPOINT'] = userdata.get(\"AZURE_OPENAI_ENDPOINT\")\n",
                "os.environ['AZURE_OPENAI_API_KEY'] = userdata.get('AZURE_KEY')\n",
                "os.environ['OPENAI_API_VERSION'] = '2024-02-01'"
            ],
            "metadata": {
                "id": "yew6ZCtvKOQY",
                "executionInfo": {
                    "status": "ok",
                    "timestamp": 1729163408205,
                    "user_tz": -180,
                    "elapsed": 7648,
                    "user": {
                        "displayName": "",
                        "userId": ""
                    }
                }
            },
            "execution_count": 9,
            "outputs": []
        },
        {
            "cell_type": "code",
            "source": [
                "model=\"gpt-4o-mini-2024-07-18\""
            ],
            "metadata": {
                "id": "yG86TsWKMF5l",
                "executionInfo": {
                    "status": "ok",
                    "timestamp": 1729163724398,
                    "user_tz": -180,
                    "elapsed": 5,
                    "user": {
                        "displayName": "",
                        "userId": ""
                    }
                }
            },
            "execution_count": 12,
            "outputs": []
        },
        {
            "cell_type": "code",
            "source": [
                "from langchain_openai import AzureChatOpenAI\n",
                "\n",
                "llm = AzureChatOpenAI(model=model, temperature=0)"
            ],
            "metadata": {
                "id": "toxV3XWTKRmj",
                "executionInfo": {
                    "status": "ok",
                    "timestamp": 1729164829430,
                    "user_tz": -180,
                    "elapsed": 1335,
                    "user": {
                        "displayName": "",
                        "userId": ""
                    }
                }
            },
            "execution_count": 19,
            "outputs": []
        },
        {
            "cell_type": "code",
            "source": [
                "from langchain_together import ChatTogether\n",
                "\n",
                "# choose from our 50+ models here: https://docs.together.ai/docs/inference-models\n",
                "chat = ChatTogether(\n",
                "    together_api_key=userdata.get(\"TOGETHER_KEY\"),\n",
                "    model=\"meta-llama/Llama-3.2-11B-Vision-Instruct-Turbo\",\n",
                ")"
            ],
            "metadata": {
                "id": "GF5UkRJKSmrM",
                "executionInfo": {
                    "status": "ok",
                    "timestamp": 1729165677709,
                    "user_tz": -180,
                    "elapsed": 2610,
                    "user": {
                        "displayName": "",
                        "userId": ""
                    }
                }
            },
            "execution_count": 26,
            "outputs": []
        },
        {
            "cell_type": "code",
            "source": [
                "chat.invoke(\"Hello, do you know russian? Write a response in it\")"
            ],
            "metadata": {
                "id": "7GVkZW3JTmBX",
                "executionInfo": {
                    "status": "ok",
                    "timestamp": 1729169865860,
                    "user_tz": -180,
                    "elapsed": 939,
                    "user": {
                        "displayName": "",
                        "userId": ""
                    }
                },
                "outputId": "8e7c4b26-5b37-45ce-b4b4-6e51f6e44666",
                "colab": {
                    "base_uri": "https://localhost:8080/"
                }
            },
            "execution_count": 32,
            "outputs": [
                {
                    "output_type": "execute_result",
                    "data": {
                        "text/plain": [
                            "AIMessage(content='\u0414\u0430, \u044f \u0437\u043d\u0430\u044e \u0440\u0443\u0441\u0441\u043a\u0438\u0439 \u044f\u0437\u044b\u043a. \u041a\u0430\u043a \u044f \u043c\u043e\u0433\u0443 \u043f\u043e\u043c\u043e\u0447\u044c?', additional_kwargs={'refusal': None}, response_metadata={'token_usage': {'completion_tokens': 17, 'prompt_tokens': 22, 'total_tokens': 39, 'completion_tokens_details': None, 'prompt_tokens_details': None}, 'model_name': 'meta-llama/Llama-3.2-11B-Vision-Instruct-Turbo', 'system_fingerprint': None, 'finish_reason': 'stop', 'logprobs': None}, id='run-e27be930-7dd4-41b5-8e65-f4b48ff07bf2-0', usage_metadata={'input_tokens': 22, 'output_tokens': 17, 'total_tokens': 39, 'input_token_details': {}, 'output_token_details': {}})"
                        ]
                    },
                    "metadata": {},
                    "execution_count": 32
                }
            ]
        },
        {
            "cell_type": "code",
            "source": [],
            "metadata": {
                "id": "yZhXbzvvTvU0"
            },
            "execution_count": null,
            "outputs": []
        }
    ]
}