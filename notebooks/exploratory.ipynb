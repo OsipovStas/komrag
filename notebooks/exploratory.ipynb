{
    "nbformat": 4,
    "nbformat_minor": 0,
    "metadata": {
        "colab": {
            "provenance": []
        },
        "kernelspec": {
            "name": "python3",
            "display_name": "Python 3"
        },
        "language_info": {
            "name": "python"
        }
    },
    "cells": [
        {
            "cell_type": "code",
            "execution_count": 1,
            "metadata": {
                "id": "Oe_WTA_NvdA7",
                "executionInfo": {
                    "status": "ok",
                    "timestamp": 1729317609312,
                    "user_tz": -180,
                    "elapsed": 58499,
                    "user": {
                        "displayName": "",
                        "userId": ""
                    }
                }
            },
            "outputs": [],
            "source": [
                "%%capture\n",
                "!pip install -q dagshub mlflow python-dotenv langchain langchain-openai langchain-together langchain-community pypdf pinecone-client[grpc] langchain-pinecone langchain-huggingface"
            ]
        },
        {
            "cell_type": "code",
            "source": [
                "#@markdown **You need to sign up for [DagsHub](https://dagshub.com/user/sign_up) , then enter the name of the repository you'd like to create, and your username and email.**\n",
                "\n",
                "#@markdown Enter the repository name for the project:\n",
                "REPO_NAME= \"komrag\" #@param {type:\"string\"}\n",
                "\n",
                "#@markdown Enter the username of your DAGsHub account:\n",
                "USER_NAME = \"OsipovStas\" #@param {type:\"string\"}\n",
                "\n",
                "#@markdown Enter the email for your DAGsHub account:\n",
                "EMAIL = \"stasstels@gmail.com\" #@param {type:\"string\"}\n",
                "\n",
                "#@markdown ---\n",
                "\n",
                "import IPython"
            ],
            "metadata": {
                "id": "GJfZ4jjEvsDv",
                "executionInfo": {
                    "status": "ok",
                    "timestamp": 1729317609312,
                    "user_tz": -180,
                    "elapsed": 4,
                    "user": {
                        "displayName": "",
                        "userId": ""
                    }
                }
            },
            "execution_count": 2,
            "outputs": []
        },
        {
            "cell_type": "code",
            "source": [
                "from dotenv import load_dotenv\n",
                "\n",
                "load_dotenv(\"../.env\")"
            ],
            "metadata": {
                "id": "2Sn4Ta4rMwjR"
            },
            "execution_count": null,
            "outputs": []
        },
        {
            "cell_type": "code",
            "source": [
                "!dagshub login\n",
                "\n",
                "import dagshub\n",
                "TOKEN = dagshub.auth.get_token()"
            ],
            "metadata": {
                "id": "lJNXXvnEwhpn"
            },
            "execution_count": null,
            "outputs": []
        },
        {
            "cell_type": "markdown",
            "source": [],
            "metadata": {
                "id": "d-NX0UGfk_k7"
            }
        },
        {
            "cell_type": "code",
            "source": [
                "from google.colab import userdata\n",
                "DH_TOKEN = userdata.get('LLM_MATH_COMP_DH_TOKEN')\n"
            ],
            "metadata": {
                "id": "l12vwEkGv8gD",
                "executionInfo": {
                    "status": "ok",
                    "timestamp": 1729317665117,
                    "user_tz": -180,
                    "elapsed": 1998,
                    "user": {
                        "displayName": "",
                        "userId": ""
                    }
                }
            },
            "execution_count": 3,
            "outputs": []
        },
        {
            "cell_type": "code",
            "source": [
                "import os\n",
                "\n",
                "DH_TOKEN = os.environ['LLM_MATH_COMP_DH_TOKEN']"
            ],
            "metadata": {
                "id": "CStTcQcIM3Sv"
            },
            "execution_count": null,
            "outputs": []
        },
        {
            "cell_type": "code",
            "source": [
                "import mlflow\n",
                "import dagshub\n",
                "import os\n",
                "#DH_TOKEN = os.environ['LLM_MATH_COMP_DH_TOKEN']\n",
                "username = f'{USER_NAME}'  # Replace with your DagsHub username\n",
                "repository = f'{REPO_NAME}'  # Replace with your repository name\n",
                "token = f'{DH_TOKEN}'  # Replace with your DagsHub token\n",
                "os.environ['MLFLOW_TRACKING_USERNAME'] = username\n",
                "os.environ['MLFLOW_TRACKING_PASSWORD'] = token\n",
                "dagshub.auth.add_app_token(token)\n",
                "dagshub.init(repo_name=REPO_NAME, repo_owner=USER_NAME)\n",
                "mlflow.set_tracking_uri(f\"https://dagshub.com/{USER_NAME}/{REPO_NAME}.mlflow\")"
            ],
            "metadata": {
                "colab": {
                    "base_uri": "https://localhost:8080/",
                    "height": 65
                },
                "id": "vCUHiCXcwW6r",
                "executionInfo": {
                    "status": "ok",
                    "timestamp": 1729317671614,
                    "user_tz": -180,
                    "elapsed": 4309,
                    "user": {
                        "displayName": "",
                        "userId": ""
                    }
                },
                "outputId": "d6ce775c-9bd0-43a8-9f9e-7881f43726a1"
            },
            "execution_count": 4,
            "outputs": [
                {
                    "output_type": "display_data",
                    "data": {
                        "text/plain": [
                            "Accessing as OsipovStas\n"
                        ],
                        "text/html": [
                            "<pre style=\"white-space:pre;overflow-x:auto;line-height:normal;font-family:Menlo,'DejaVu Sans Mono',consolas,'Courier New',monospace\">Accessing as OsipovStas\n",
                            "</pre>\n"
                        ]
                    },
                    "metadata": {}
                },
                {
                    "output_type": "display_data",
                    "data": {
                        "text/plain": [
                            "Initialized MLflow to track repo \u001b[32m\"OsipovStas/komrag\"\u001b[0m\n"
                        ],
                        "text/html": [
                            "<pre style=\"white-space:pre;overflow-x:auto;line-height:normal;font-family:Menlo,'DejaVu Sans Mono',consolas,'Courier New',monospace\">Initialized MLflow to track repo <span style=\"color: #008000; text-decoration-color: #008000\">\"OsipovStas/komrag\"</span>\n",
                            "</pre>\n"
                        ]
                    },
                    "metadata": {}
                },
                {
                    "output_type": "display_data",
                    "data": {
                        "text/plain": [
                            "Repository OsipovStas/komrag initialized!\n"
                        ],
                        "text/html": [
                            "<pre style=\"white-space:pre;overflow-x:auto;line-height:normal;font-family:Menlo,'DejaVu Sans Mono',consolas,'Courier New',monospace\">Repository OsipovStas/komrag initialized!\n",
                            "</pre>\n"
                        ]
                    },
                    "metadata": {}
                }
            ]
        },
        {
            "cell_type": "code",
            "source": [
                "os.environ['LANGCHAIN_API_KEY'] = userdata.get(\"LANGCHAIN_API_KEY\")\n",
                "os.environ['LANGCHAIN_TRACING_V2'] = \"true\"\n",
                "os.environ['LANGCHAIN_ENDPOINT'] = \"https://api.smith.langchain.com\"\n",
                "os.environ['LANGCHAIN_PROJECT'] = \"komrag\""
            ],
            "metadata": {
                "id": "ypT0z9bxkW-K",
                "executionInfo": {
                    "status": "ok",
                    "timestamp": 1729317682109,
                    "user_tz": -180,
                    "elapsed": 2260,
                    "user": {
                        "displayName": "",
                        "userId": ""
                    }
                }
            },
            "execution_count": 5,
            "outputs": []
        },
        {
            "cell_type": "code",
            "source": [
                "from dagshub.notebook import save_notebook\n",
                "\n",
                "save_notebook(repo=f\"{USER_NAME}/{REPO_NAME}\", path=\"./notebooks/exploratory.ipynb\")"
            ],
            "metadata": {
                "id": "kd9XJ6_ew8Uq"
            },
            "execution_count": null,
            "outputs": []
        },
        {
            "cell_type": "code",
            "source": [
                "from dagshub import get_repo_bucket_client\n",
                "# Get a boto3.client object\n",
                "s3 = get_repo_bucket_client(\"OsipovStas/komrag\")\n",
                "\n",
                "# Upload file\n",
                "s3.upload_file(\n",
                "    Bucket=\"komrag\",  # name of the repo\n",
                "    Filename=\"./life_begin.pdf\",  # local path of file to upload\n",
                "    Key=\"life_begin.pdf\",  # remote path where to upload the file\n",
                ")"
            ],
            "metadata": {
                "colab": {
                    "base_uri": "https://localhost:8080/",
                    "height": 33
                },
                "id": "4MtgrIfqI63d",
                "executionInfo": {
                    "status": "ok",
                    "timestamp": 1729162965768,
                    "user_tz": -180,
                    "elapsed": 3207,
                    "user": {
                        "displayName": "",
                        "userId": ""
                    }
                },
                "outputId": "7b9d3ab6-4f17-4fea-ab37-185ed2c5da7e"
            },
            "execution_count": 5,
            "outputs": [
                {
                    "output_type": "display_data",
                    "data": {
                        "text/plain": [
                            "Client created. Use the name of the repo \u001b[1m(\u001b[0mkomrag\u001b[1m)\u001b[0m as the name of the bucket\n"
                        ],
                        "text/html": [
                            "<pre style=\"white-space:pre;overflow-x:auto;line-height:normal;font-family:Menlo,'DejaVu Sans Mono',consolas,'Courier New',monospace\">Client created. Use the name of the repo <span style=\"font-weight: bold\">(</span>komrag<span style=\"font-weight: bold\">)</span> as the name of the bucket\n",
                            "</pre>\n"
                        ]
                    },
                    "metadata": {}
                }
            ]
        },
        {
            "cell_type": "code",
            "source": [
                "from dagshub import get_repo_bucket_client\n",
                "# Get a boto3.client object\n",
                "s3 = get_repo_bucket_client(\"OsipovStas/komrag\")\n",
                "\n",
                "\n",
                "s3.download_file(\n",
                "    Bucket=\"komrag\",  # name of the repo\n",
                "    Key=\"life_begin.pdf\",  #  remote path from where to download the file\n",
                "    Filename=\"life_begin_copy.pdf\",  # local path where to download the file\n",
                ")"
            ],
            "metadata": {
                "colab": {
                    "base_uri": "https://localhost:8080/",
                    "height": 33
                },
                "id": "80xwtRM1Jb6i",
                "executionInfo": {
                    "status": "ok",
                    "timestamp": 1729317689430,
                    "user_tz": -180,
                    "elapsed": 1930,
                    "user": {
                        "displayName": "",
                        "userId": ""
                    }
                },
                "outputId": "b8b550dc-6216-41a0-e7ab-30de48daa9f1"
            },
            "execution_count": 6,
            "outputs": [
                {
                    "output_type": "display_data",
                    "data": {
                        "text/plain": [
                            "Client created. Use the name of the repo \u001b[1m(\u001b[0mkomrag\u001b[1m)\u001b[0m as the name of the bucket\n"
                        ],
                        "text/html": [
                            "<pre style=\"white-space:pre;overflow-x:auto;line-height:normal;font-family:Menlo,'DejaVu Sans Mono',consolas,'Courier New',monospace\">Client created. Use the name of the repo <span style=\"font-weight: bold\">(</span>komrag<span style=\"font-weight: bold\">)</span> as the name of the bucket\n",
                            "</pre>\n"
                        ]
                    },
                    "metadata": {}
                }
            ]
        },
        {
            "cell_type": "markdown",
            "source": [
                "# LLM Configuration"
            ],
            "metadata": {
                "id": "80kmGnxfLJfb"
            }
        },
        {
            "cell_type": "code",
            "source": [
                "import os\n",
                "\n",
                "os.environ['AZURE_OPENAI_ENDPOINT'] = userdata.get(\"AZURE_OPENAI_ENDPOINT\")\n",
                "os.environ['AZURE_OPENAI_API_KEY'] = userdata.get('AZURE_KEY')\n",
                "os.environ['OPENAI_API_VERSION'] = '2024-02-01'"
            ],
            "metadata": {
                "id": "yew6ZCtvKOQY",
                "executionInfo": {
                    "status": "ok",
                    "timestamp": 1729317697474,
                    "user_tz": -180,
                    "elapsed": 2302,
                    "user": {
                        "displayName": "",
                        "userId": ""
                    }
                }
            },
            "execution_count": 7,
            "outputs": []
        },
        {
            "cell_type": "code",
            "source": [
                "model=\"gpt-4o-mini-2024-07-18\""
            ],
            "metadata": {
                "id": "yG86TsWKMF5l",
                "executionInfo": {
                    "status": "ok",
                    "timestamp": 1729163724398,
                    "user_tz": -180,
                    "elapsed": 5,
                    "user": {
                        "displayName": "",
                        "userId": ""
                    }
                }
            },
            "execution_count": 12,
            "outputs": []
        },
        {
            "cell_type": "code",
            "source": [
                "from langchain_openai import AzureChatOpenAI\n",
                "\n",
                "llm = AzureChatOpenAI(model=model, temperature=0)"
            ],
            "metadata": {
                "id": "toxV3XWTKRmj",
                "executionInfo": {
                    "status": "ok",
                    "timestamp": 1729164829430,
                    "user_tz": -180,
                    "elapsed": 1335,
                    "user": {
                        "displayName": "",
                        "userId": ""
                    }
                }
            },
            "execution_count": 19,
            "outputs": []
        },
        {
            "cell_type": "code",
            "source": [
                "from langchain_together import ChatTogether\n",
                "\n",
                "# choose from our 50+ models here: https://docs.together.ai/docs/inference-models\n",
                "chat = ChatTogether(\n",
                "    together_api_key=userdata.get(\"TOGETHER_KEY\"),\n",
                "    model=\"meta-llama/Llama-3.2-11B-Vision-Instruct-Turbo\",\n",
                "    timeout=120\n",
                ")"
            ],
            "metadata": {
                "id": "GF5UkRJKSmrM",
                "executionInfo": {
                    "status": "ok",
                    "timestamp": 1729317812679,
                    "user_tz": -180,
                    "elapsed": 1589,
                    "user": {
                        "displayName": "",
                        "userId": ""
                    }
                }
            },
            "execution_count": 9,
            "outputs": []
        },
        {
            "cell_type": "code",
            "source": [
                "chat.invoke(\"Hello, do you know russian? Write a response in it\")"
            ],
            "metadata": {
                "colab": {
                    "base_uri": "https://localhost:8080/"
                },
                "id": "7GVkZW3JTmBX",
                "executionInfo": {
                    "status": "ok",
                    "timestamp": 1729317816740,
                    "user_tz": -180,
                    "elapsed": 588,
                    "user": {
                        "displayName": "",
                        "userId": ""
                    }
                },
                "outputId": "880fcf8c-a533-44ed-8baa-665698601564"
            },
            "execution_count": 10,
            "outputs": [
                {
                    "output_type": "execute_result",
                    "data": {
                        "text/plain": [
                            "AIMessage(content='\u0414\u0430, \u044f \u0437\u043d\u0430\u044e \u0440\u0443\u0441\u0441\u043a\u0438\u0439 \u044f\u0437\u044b\u043a. \u0427\u0435\u0433\u043e \u0432\u044b \u0445\u043e\u0442\u0438\u0442\u0435? (Yes, I know Russian. What do you want?)', additional_kwargs={'refusal': None}, response_metadata={'token_usage': {'completion_tokens': 29, 'prompt_tokens': 22, 'total_tokens': 51, 'completion_tokens_details': None, 'prompt_tokens_details': None}, 'model_name': 'meta-llama/Llama-3.2-11B-Vision-Instruct-Turbo', 'system_fingerprint': None, 'finish_reason': 'stop', 'logprobs': None}, id='run-05565828-d786-4dfe-8139-d1e460b7a70f-0', usage_metadata={'input_tokens': 22, 'output_tokens': 29, 'total_tokens': 51, 'input_token_details': {}, 'output_token_details': {}})"
                        ]
                    },
                    "metadata": {},
                    "execution_count": 10
                }
            ]
        },
        {
            "cell_type": "code",
            "source": [
                "from langchain_together import TogetherEmbeddings\n",
                "\n",
                "embeddings = TogetherEmbeddings(\n",
                "    together_api_key=userdata.get(\"TOGETHER_KEY\"),\n",
                "    model=\"togethercomputer/m2-bert-80M-8k-retrieval\",\n",
                ")\n",
                "\n"
            ],
            "metadata": {
                "id": "yZhXbzvvTvU0",
                "executionInfo": {
                    "status": "ok",
                    "timestamp": 1729179202435,
                    "user_tz": -180,
                    "elapsed": 1530,
                    "user": {
                        "displayName": "",
                        "userId": ""
                    }
                }
            },
            "execution_count": 78,
            "outputs": []
        },
        {
            "cell_type": "code",
            "source": [
                "len(embeddings.embed_query(\"\u041f\u0440\u0438\u0432\u0435\u0442\u044b, \u043a\u0430\u043a \u0434\u0435\u043b\u0430?\"))"
            ],
            "metadata": {
                "colab": {
                    "base_uri": "https://localhost:8080/"
                },
                "id": "Rup_6mIBHWiw",
                "executionInfo": {
                    "status": "ok",
                    "timestamp": 1729179342524,
                    "user_tz": -180,
                    "elapsed": 579,
                    "user": {
                        "displayName": "",
                        "userId": ""
                    }
                },
                "outputId": "1989b907-44b6-4087-bfc7-109526795a3e"
            },
            "execution_count": 82,
            "outputs": [
                {
                    "output_type": "execute_result",
                    "data": {
                        "text/plain": [
                            "768"
                        ]
                    },
                    "metadata": {},
                    "execution_count": 82
                }
            ]
        },
        {
            "cell_type": "markdown",
            "source": [
                "# Load Pdf"
            ],
            "metadata": {
                "id": "NHDo-1ublvnL"
            }
        },
        {
            "cell_type": "code",
            "source": [
                "file_path = \"life_begin_copy.pdf\""
            ],
            "metadata": {
                "id": "M1coo8F8mKGH",
                "executionInfo": {
                    "status": "ok",
                    "timestamp": 1729318040772,
                    "user_tz": -180,
                    "elapsed": 275,
                    "user": {
                        "displayName": "",
                        "userId": ""
                    }
                }
            },
            "execution_count": 11,
            "outputs": []
        },
        {
            "cell_type": "code",
            "source": [
                "from langchain_community.document_loaders import PyPDFLoader\n",
                "\n",
                "loader = PyPDFLoader(file_path)\n",
                "pages = []\n",
                "async for page in loader.alazy_load():\n",
                "    pages.append(page)"
            ],
            "metadata": {
                "id": "bdUq_bwAm_1j",
                "executionInfo": {
                    "status": "ok",
                    "timestamp": 1729318068625,
                    "user_tz": -180,
                    "elapsed": 18288,
                    "user": {
                        "displayName": "",
                        "userId": ""
                    }
                }
            },
            "execution_count": 12,
            "outputs": []
        },
        {
            "cell_type": "code",
            "source": [
                "len(pages)"
            ],
            "metadata": {
                "colab": {
                    "base_uri": "https://localhost:8080/"
                },
                "id": "324Xi2VJnz8F",
                "executionInfo": {
                    "status": "ok",
                    "timestamp": 1729318173236,
                    "user_tz": -180,
                    "elapsed": 295,
                    "user": {
                        "displayName": "",
                        "userId": ""
                    }
                },
                "outputId": "0b2b6c57-86cb-4ca1-ab82-6b43b35d5c11"
            },
            "execution_count": 13,
            "outputs": [
                {
                    "output_type": "execute_result",
                    "data": {
                        "text/plain": [
                            "449"
                        ]
                    },
                    "metadata": {},
                    "execution_count": 13
                }
            ]
        },
        {
            "cell_type": "code",
            "source": [
                "type(pages[30])"
            ],
            "metadata": {
                "colab": {
                    "base_uri": "https://localhost:8080/",
                    "height": 187
                },
                "id": "xPSbZxvmoxii",
                "executionInfo": {
                    "status": "ok",
                    "timestamp": 1729171243824,
                    "user_tz": -180,
                    "elapsed": 316,
                    "user": {
                        "displayName": "",
                        "userId": ""
                    }
                },
                "outputId": "f4bb7831-0672-4684-8168-251a34ca9b48"
            },
            "execution_count": 15,
            "outputs": [
                {
                    "output_type": "execute_result",
                    "data": {
                        "text/plain": [
                            "langchain_core.documents.base.Document"
                        ],
                        "text/html": [
                            "<div style=\"max-width:800px; border: 1px solid var(--colab-border-color);\"><style>\n",
                            "      pre.function-repr-contents {\n",
                            "        overflow-x: auto;\n",
                            "        padding: 8px 12px;\n",
                            "        max-height: 500px;\n",
                            "      }\n",
                            "\n",
                            "      pre.function-repr-contents.function-repr-contents-collapsed {\n",
                            "        cursor: pointer;\n",
                            "        max-height: 100px;\n",
                            "      }\n",
                            "    </style>\n",
                            "    <pre style=\"white-space: initial; background:\n",
                            "         var(--colab-secondary-surface-color); padding: 8px 12px;\n",
                            "         border-bottom: 1px solid var(--colab-border-color);\"><b>langchain_core.documents.base.Document</b><br/>def __init__(page_content: str, **kwargs: Any) -&gt; None</pre><pre class=\"function-repr-contents function-repr-contents-collapsed\" style=\"\"><a class=\"filepath\" style=\"display:none\" href=\"#\">/usr/local/lib/python3.10/dist-packages/langchain_core/documents/base.py</a>Class for storing a piece of text and associated metadata.\n",
                            "\n",
                            "Example:\n",
                            "\n",
                            "    .. code-block:: python\n",
                            "\n",
                            "        from langchain_core.documents import Document\n",
                            "\n",
                            "        document = Document(\n",
                            "            page_content=&quot;Hello, world!&quot;,\n",
                            "            metadata={&quot;source&quot;: &quot;https://example.com&quot;}\n",
                            "        )</pre>\n",
                            "      <script>\n",
                            "      if (google.colab.kernel.accessAllowed && google.colab.files && google.colab.files.view) {\n",
                            "        for (const element of document.querySelectorAll('.filepath')) {\n",
                            "          element.style.display = 'block'\n",
                            "          element.onclick = (event) => {\n",
                            "            event.preventDefault();\n",
                            "            event.stopPropagation();\n",
                            "            google.colab.files.view(element.textContent, 262);\n",
                            "          };\n",
                            "        }\n",
                            "      }\n",
                            "      for (const element of document.querySelectorAll('.function-repr-contents')) {\n",
                            "        element.onclick = (event) => {\n",
                            "          event.preventDefault();\n",
                            "          event.stopPropagation();\n",
                            "          element.classList.toggle('function-repr-contents-collapsed');\n",
                            "        };\n",
                            "      }\n",
                            "      </script>\n",
                            "      </div>"
                        ]
                    },
                    "metadata": {},
                    "execution_count": 15
                }
            ]
        },
        {
            "cell_type": "code",
            "source": [
                "print(f\"{pages[30].metadata}\\n\")\n",
                "print(pages[30].page_content)"
            ],
            "metadata": {
                "colab": {
                    "base_uri": "https://localhost:8080/"
                },
                "id": "xRlunj30o5tO",
                "executionInfo": {
                    "status": "ok",
                    "timestamp": 1729172401076,
                    "user_tz": -180,
                    "elapsed": 314,
                    "user": {
                        "displayName": "",
                        "userId": ""
                    }
                },
                "outputId": "da31cd18-bc2b-4965-8549-d55133d0a009"
            },
            "execution_count": 23,
            "outputs": [
                {
                    "output_type": "stream",
                    "name": "stdout",
                    "text": [
                        "{'source': 'life_begin.pdf', 'page': 30}\n",
                        "\n",
                        "\u0414\u041e \u0411\u0415\u0420\u0415\u041c\u0415\u041d\u041d\u041e\u0421\u0422\u0418\n",
                        "\u043b\u0435\u041a \u0430\u0440\u0441\u0442\u0432\u0430 \n",
                        "\u0438\u00a0\u043c\u0435\u0434\u0438\u0446\u0438\u043d\u0441\u041a\u0438\u0435 \n",
                        "\u041f\u0440\u043e\u0446\u0435\u0434\u0443\u0440\u044b \n",
                        "  1.3.1. \u041f\u0420\u0418\u0412\u0418\u0412\u041a\u0418. \u041a\u0410\u041a\u0418\u0415, \u041a\u041e\u041c\u0423 , \u041a\u041e\u0413\u0414\u0410?\n",
                        "\u0422\u0435\u043c\u0430 \u0432\u0430\u043a\u0446\u0438\u043d\u0430\u0446\u0438\u0438\u00a0\u2014 \u043e\u0431\u044f\u0437\u0430\u0442\u0435\u043b\u044c\u043d\u0430 \u043a\u00a0\u043e\u0431\u0441\u0443\u0436\u0434\u0435\u043d\u0438\u044e \u0441\u00a0\u0432\u0430\u0448\u0438\u043c \u0441\u0435\u043c\u0435\u0439-\n",
                        "\u043d\u044b\u043c \u0432\u0440\u0430\u0447\u043e\u043c. \n",
                        "\u041d\u0430\u0434\u0435\u044e\u0441\u044c, \u0432\u044b \u043f\u0440\u0438\u0432\u0438\u0442\u044b \u0432\u00a0\u0441\u043e\u043e\u0442\u0432\u0435\u0442\u0441\u0442\u0432\u0438\u0438 \u0441\u00a0\u043d\u0430\u0446\u0438\u043e\u043d\u0430\u043b\u044c\u043d\u044b\u043c \u043a\u0430\u043b\u0435\u043d-\n",
                        "\u0434\u0430\u0440\u0435\u043c. \u00ab\u0412\u044b\u00bb\u00a0\u2014 \u044d\u0442\u043e \u0431\u0443\u0434\u0443\u0449\u0438\u0435 \u0440\u043e\u0434\u0438\u0442\u0435\u043b\u0438, \u0441\u0442\u0430\u0440\u0448\u0438\u0435 \u0434\u0435\u0442\u0438, \u0434\u0440\u0443\u0433\u0438\u0435 \u0447\u043b\u0435\u043d\u044b \u0441\u0435\u043c\u044c\u0438.\n",
                        "\u041e \u0447\u0435\u043c \u0441\u043b\u0435\u0434\u0443\u0435\u0442 \u043f\u043e\u043c\u043d\u0438\u0442\u044c \u0438\u00a0\u043d\u0430\u00a0\u0447\u0442\u043e \u043e\u0431\u0440\u0430\u0442\u0438\u0442\u044c \u0432\u043d\u0438\u043c\u0430\u043d\u0438\u0435:\n",
                        " !\u0432\u0430\u043a\u0446\u0438\u043d\u0430\u0446\u0438\u044f \u043e\u0442\u00a0 \u043a\u043e\u043a\u043b\u044e\u0448 \u0430, \u0434\u0438\u0444\u0442\u0435\u0440\u0438\u0438  \u0438\u00a0\u0441\u0442\u043e\u043b\u0431\u043d\u044f\u043a \u0430. \u041f\u043e\u0441\u043b\u0435\u0434\u043d\u044f\u044f \u00ab\u0434\u0435\u0442-\n",
                        "\u0441\u043a\u0430\u044f\u00bb \u0438\u043d\u044a\u0435\u043a\u0446\u0438\u044f \u0434\u0435\u043b\u0430\u0435\u0442\u0441\u044f \u0432\u00a016\u00a0\u043b\u0435\u0442. \u041f\u043e\u0441\u043b\u0435 \u044d\u0442\u043e\u0433\u043e \u043d\u0430\u0434\u043e \u043f\u0440\u0438\u0432\u0438\u0432\u0430\u0442\u044c\u0441\u044f \u043a\u0430\u0436\u0434\u044b\u0435 10\u00a0\u043b\u0435\u0442. \u0412\u0441\u0435\u043c. \u0414\u0430\u0436\u0435 \u0442\u0435\u043c, \u043a\u0442\u043e \u043d\u0435\u00a0\u043f\u043b\u0430\u043d\u0438\u0440\u0443\u0435\u0442 \u0431\u0435\u0440\u0435\u043c\u0435\u043d\u043d\u043e\u0441\u0442\u044c. \u0421\u043b\u0435\u0434\u0443\u0435\u0442 \u0437\u043d\u0430\u0442\u044c, \u0447\u0442\u043e \u0447\u0443\u0442\u044c\u00a0\u043b\u0438 \u043d\u0435\u00a0\u0441\u0430\u043c\u0430\u044f \u043e\u043f\u0430\u0441\u043d\u0430\u044f \u0438\u043d\u0444\u0435\u043a\u0446\u0438\u044f \u0434\u043b\u044f \u043c\u0430-\u043b\u044b\u0448\u0430\u00a0\u2014 \u043a\u043e\u043a\u043b\u044e\u0448 , \u043a\u043e\u0442\u043e\u0440\u044b\u0439 \u043e\u043d \u043c\u043e\u0436\u0435\u0442 \u00ab\u043f\u043e\u043b\u0443\u0447\u0438\u0442\u044c\u00bb \u043e\u0442\u00a0\u0431\u043b\u0438\u0436\u0430\u0439\u0448\u0438\u0445 \n",
                        "\u043d\u0435\u043f\u0440\u0438\u0432\u0438\u0442\u044b\u0445 \u0440\u043e\u0434\u0441\u0442\u0432\u0435\u043d\u043d\u0438\u043a\u043e\u0432. \u0418\u043c\u0435\u043d\u043d\u043e \u043f\u043e\u044d\u0442\u043e\u043c\u0443 \u0441\u043b\u0435\u0434\u0443\u0435\u0442 \u0443\u0431\u0435\u0434\u0438\u0442\u044c\u0441\u044f \u0432\u00a0\u0442\u043e\u043c, \u0447\u0442\u043e \u043e\u0442\u00a0\u043a\u043e\u043a\u043b\u044e\u0448\u0430 \u043f\u0440\u0438\u0432\u0438\u0442\u044b \u0432\u0441\u0435 \u0442\u0435, \u043a\u0442\u043e \u0431\u0443\u0434\u0435\u0442 \u043a\u043e\u043d\u0442\u0430\u043a\u0442\u0438\u0440\u043e\u0432\u0430\u0442\u044c \u0441\u00a0\u043c\u043b\u0430\u0434\u0435\u043d\u0446\u0435\u043c \u0432\u00a0\u043f\u0435\u0440\u0432\u044b\u0435 2\u00a0\u043c\u0435\u0441\u044f\u0446\u0430 \u0435\u0433\u043e \u0436\u0438\u0437\u043d\u0438 (\u0442.\u00a0\u0435. \u0434\u043e \u0442\u043e\u0433\u043e, \u043a\u0430\u043a \u043f\u0440\u0438-\u0432\u0438\u0432\u043a\u0438 \u043d\u0430\u0447\u043d\u0443\u0442 \u0434\u0435\u043b\u0430\u0442\u044c \u0441\u0430\u043c\u043e\u043c\u0443 \u0440\u0435\u0431\u0435\u043d\u043a\u0443); \n",
                        " !\u043a\u0440\u0430\u0441\u043d\u0443\u0445\u0430\u00a0\u2014 \u0447\u0440\u0435\u0437\u0432\u044b\u0447\u0430\u0439\u043d\u043e \u043e\u043f\u0430\u0441\u043d\u0430\u044f \u0438\u043d\u0444\u0435\u043a\u0446\u0438\u044f \u0438\u043c\u0435\u043d\u043d\u043e \u0434\u043b\u044f \u043f\u043b\u043e\u0434\u0430. \u0415\u0441\u0442\u044c\u00a0\u043b\u0438 \u0434\u043e\u043a\u0443\u043c\u0435\u043d\u0442\u0430\u043b\u044c\u043d\u043e\u0435 \u043f\u043e\u0434\u0442\u0432\u0435\u0440\u0436\u0434\u0435\u043d\u0438\u0435 \u0442\u043e\u043c\u0443, \u0447\u0442\u043e \u0432\u044b \u043f\u043e\u043b\u0443\u0447\u0438\u043b\u0438 2\u00a0\u0434\u043e\u0437\u044b \u0432\u0430\u043a\u0446\u0438\u043d\u044b \u041a\u041f\u041a (\u043a\u043e\u0440\u044c , \u043f\u0430\u0440\u043e\u0442\u0438\u0442 , \u043a\u0440\u0430\u0441\u043d\u0443\u0445\u0430)? \u041d\u0435\u0442 \u043f\u043e\u0434\u0442\u0432\u0435\u0440\u0436\u0434\u0435-\n",
                        "\u043d\u0438\u044f, \u043f\u0440\u0438\u0441\u0443\u0442\u0441\u0442\u0432\u0443\u044e\u0442 \u0441\u043e\u043c\u043d\u0435\u043d\u0438\u044f? \u0412\u00a0\u044d\u0442\u043e\u0439 \u0441\u0438\u0442\u0443\u0430\u0446\u0438\u0438 \u043c\u043e\u0436\u043d\u043e \u043f\u0440\u043e\u0432\u0435\u0441\u0442\u0438 \u0438\u0441\u0441\u043b\u0435\u0434\u043e\u0432\u0430\u043d\u0438\u0435 \u043a\u0440\u043e\u0432\u0438 \u0438\u00a0\u043f\u043e\u0434\u0442\u0432\u0435\u0440\u0434\u0438\u0442\u044c \u043d\u0430\u043b\u0438\u0447\u0438\u0435 \u0437\u0430\u0449\u0438\u0442\u043d\u044b\u0445 \u0430\u043d\u0442\u0438\u0442\u0435\u043b. \u0415\u0441\u0442\u044c \u0430\u043d\u0442\u0438\u0442\u0435\u043b\u0430\u00a0\u2014 \u0440\u0430\u0441\u0441\u043b\u0430\u0431\u0438\u043b\u0438\u0441\u044c, \u043d\u0435\u0442\u00a0\u2014 \u043f\u043e\u043a\u0430\u0437\u0430\u043d\u0430 \u0432\u0430\u043a\u0446\u0438\u043d\u0430\u0446\u0438\u044f;\n",
                        " !\u0435\u0441\u043b\u0438 \u0432\u044b \u043d\u0435\u00a0\u0431\u043e\u043b\u0435\u043b\u0438 \u0432\u0435\u0442\u0440\u044f\u043d\u043e\u0439 \u043e\u0441\u043f\u043e \u0439 (\u0438\u00a0\u043d\u0435\u00a0\u043f\u0440\u0438\u0432\u0438\u0442\u044b)\u00a0\u2014 \u043e\u0431\u0441\u0443\u0434\u0438\u0442\u0435 \n",
                        "\u0441\u00a0\u0432\u0440\u0430\u0447\u043e\u043c \u0432\u043e\u0437\u043c\u043e\u0436\u043d\u043e\u0441\u0442\u044c \u0432\u0430\u043a\u0446\u0438\u043d\u0430\u0446\u0438\u0438 \u043e\u0442\u00a0\u0432\u0435\u0442\u0440\u044f\u043d\u043a\u0438;\n",
                        " !\u0434\u043b\u044f \u0431\u0443\u0434\u0443\u0449\u0435\u0439 \u043c\u0430\u043c\u044b \u043e\u0447\u0435\u043d\u044c \u0430\u043a\u0442\u0443\u0430\u043b\u044c\u043d\u0430 \u0432\u0430\u043a\u0446\u0438\u043d\u0430\u0446\u0438\u044f \u043e\u0442\u00a0 \u0433\u0435\u043f\u0430\u0442\u0438\u0442\u0430 \n",
                        "\u0412. \u0423\u0442\u043e\u0447\u043d\u0438\u0442\u0435!\n",
                        " !\u0438\u043c\u0435\u043d\u043d\u043e \u0443\u00a0\u0431\u0435\u0440\u0435\u043c\u0435\u043d\u043d\u044b\u0445 \u0433\u0440\u0438\u043f\u043f  \u043f\u0440\u043e\u0442\u0435\u043a\u0430\u0435\u0442 \u043e\u0441\u043e\u0431\u0435\u043d\u043d\u043e \u0442\u044f\u0436\u0435\u043b\u043e! \u041f\u0440\u0438-\n",
                        "\u0448\u0435\u043b \u0433\u0440\u0438\u043f\u043f\u043e\u0437\u043d\u044b\u0439 \u0441\u0435\u0437\u043e\u043d, \u043f\u043e\u044f\u0432\u0438\u043b\u0438\u0441\u044c \u0430\u043a\u0442\u0443\u0430\u043b\u044c\u043d\u044b\u0435 \u0434\u043b\u044f \u044d\u0442\u043e\u0433\u043e \u0441\u0435\u0437\u043e\u043d\u0430 \u0432\u0430\u043a\u0446\u0438\u043d\u044b\u00a0\u2014 \u0437\u0430\u0449\u0438\u0442\u0438\u0442\u0435 \u0432\u0441\u0435\u0445 \u0447\u043b\u0435\u043d\u043e\u0432 \u0441\u0435\u043c\u044c\u0438. \n"
                    ]
                }
            ]
        },
        {
            "cell_type": "code",
            "source": [
                "p = pages[30]"
            ],
            "metadata": {
                "id": "vJITQN6kr_Z2",
                "executionInfo": {
                    "status": "ok",
                    "timestamp": 1729172085782,
                    "user_tz": -180,
                    "elapsed": 315,
                    "user": {
                        "displayName": "",
                        "userId": ""
                    }
                }
            },
            "execution_count": 17,
            "outputs": []
        },
        {
            "cell_type": "code",
            "source": [],
            "metadata": {
                "colab": {
                    "base_uri": "https://localhost:8080/",
                    "height": 35
                },
                "id": "QAONszqjsBiv",
                "executionInfo": {
                    "status": "ok",
                    "timestamp": 1729172104524,
                    "user_tz": -180,
                    "elapsed": 283,
                    "user": {
                        "displayName": "",
                        "userId": ""
                    }
                },
                "outputId": "c75312bf-220c-430d-fc0a-b504e3e9f863"
            },
            "execution_count": 20,
            "outputs": [
                {
                    "output_type": "execute_result",
                    "data": {
                        "text/plain": [
                            "'fsfsfsdf'"
                        ],
                        "application/vnd.google.colaboratory.intrinsic+json": {
                            "type": "string"
                        }
                    },
                    "metadata": {},
                    "execution_count": 20
                }
            ]
        },
        {
            "cell_type": "code",
            "source": [],
            "metadata": {
                "id": "yzHLkWaOsCst"
            },
            "execution_count": null,
            "outputs": []
        },
        {
            "cell_type": "markdown",
            "source": [
                "# Text cleanup"
            ],
            "metadata": {
                "id": "2z_Dlnqhtfz7"
            }
        },
        {
            "cell_type": "code",
            "source": [
                "template=\"\"\"\n",
                "You will receive a text in Russian extracted using an OCR tool.\n",
                "Your task is to clean and format this text to enhance readability.\n",
                "The text may contain various artifacts introduced during the OCR process, such as:\n",
                "\n",
                " - Special characters or symbols that do not belong.\n",
                " - Inconsistent casing of letters (e.g., random uppercase or lowercase letters).\n",
                " - Incorrect spacing within words or between words (e.g., words glued together or unnecessary spaces).\n",
                " - Hyphenation errors, such as words split across lines.\n",
                " - Incorrect punctuation or misplaced commas and periods.\n",
                " - New line characters\n",
                "\n",
                "Please ensure the final output is free from these artifacts and is well-formatted.\n",
                "Pay attention to punctuation, paragraph structure, and overall coherence.\n",
                "The goal is to produce a clean, easy-to-read text.\n",
                "Output ONLY the cleaned text.\n",
                "\n",
                "\n",
                "### TEXT ###\n",
                "\n",
                "{text}\n",
                "\n",
                "\"\"\""
            ],
            "metadata": {
                "id": "nsCo2k9HtkIV",
                "executionInfo": {
                    "status": "ok",
                    "timestamp": 1729318179270,
                    "user_tz": -180,
                    "elapsed": 294,
                    "user": {
                        "displayName": "",
                        "userId": ""
                    }
                }
            },
            "execution_count": 14,
            "outputs": []
        },
        {
            "cell_type": "code",
            "source": [
                "from langchain_core.output_parsers import StrOutputParser\n",
                "from langchain_core.prompts import ChatPromptTemplate\n",
                "\n",
                "prompt = ChatPromptTemplate.from_template(template)"
            ],
            "metadata": {
                "id": "jnD-OpMktiHL",
                "executionInfo": {
                    "status": "ok",
                    "timestamp": 1729318182893,
                    "user_tz": -180,
                    "elapsed": 306,
                    "user": {
                        "displayName": "",
                        "userId": ""
                    }
                }
            },
            "execution_count": 15,
            "outputs": []
        },
        {
            "cell_type": "code",
            "source": [
                "chain = prompt | chat | StrOutputParser()"
            ],
            "metadata": {
                "id": "xqWI2UMOwUYl",
                "executionInfo": {
                    "status": "ok",
                    "timestamp": 1729318183883,
                    "user_tz": -180,
                    "elapsed": 2,
                    "user": {
                        "displayName": "",
                        "userId": ""
                    }
                }
            },
            "execution_count": 16,
            "outputs": []
        },
        {
            "cell_type": "code",
            "source": [
                "print(chain.invoke({\"text\": pages[30].page_content}))"
            ],
            "metadata": {
                "colab": {
                    "base_uri": "https://localhost:8080/"
                },
                "id": "WW0rdpfOweJ3",
                "executionInfo": {
                    "status": "ok",
                    "timestamp": 1729318190745,
                    "user_tz": -180,
                    "elapsed": 3826,
                    "user": {
                        "displayName": "",
                        "userId": ""
                    }
                },
                "outputId": "66f8dd00-4346-4110-c670-498a39728e79"
            },
            "execution_count": 17,
            "outputs": [
                {
                    "output_type": "stream",
                    "name": "stdout",
                    "text": [
                        "\u0414\u041e \u0411\u0415\u0420\u0415\u041c\u0415\u041d\u041d\u041e\u0421\u0422\u0418\n",
                        "\n",
                        "\u041b\u0435\u0447\u0435\u043d\u0438\u0435 \u0430\u0440therosclerosis \u0438 \u043c\u0435\u0434\u0438\u0446\u0438\u043d\u0441\u043a\u0438\u0435 \u043f\u0440\u043e\u0446\u0435\u0434\u0443\u0440\u044b\n",
                        "\n",
                        "1.3.1. \u041f\u0420\u0418\u0412\u0418\u0412\u041a\u0418. \u041a\u0410\u041a\u0418\u0415, \u041a\u041e\u041c\u0423, \u041a\u041e\u0413\u0414\u0410?\n",
                        "\n",
                        "\u0422\u0435\u043c\u0430 \u0432\u0430\u043a\u0446\u0438\u043d\u0430\u0446\u0438\u0438 \u043e\u0431\u044f\u0437\u0430\u0442\u0435\u043b\u044c\u043d\u0430 \u043a \u043e\u0431\u0441\u0443\u0436\u0434\u0435\u043d\u0438\u044e \u0441 \u0432\u0430\u0448\u0438\u043c \u0441\u0435\u043c\u0435\u0439\u043d\u044b\u043c \u0432\u0440\u0430\u0447\u043e\u043c.\n",
                        "\n",
                        "\u041d\u0430\u0434\u0435\u044e\u0441\u044c, \u0432\u044b \u043f\u0440\u0438\u0432\u0438\u0442\u044b \u0432 \u0441\u043e\u043e\u0442\u0432\u0435\u0442\u0441\u0442\u0432\u0438\u0438 \u0441 \u043d\u0430\u0446\u0438\u043e\u043d\u0430\u043b\u044c\u043d\u044b\u043c \u043a\u0430\u043b\u0435\u043d\u0434\u0430\u0440\u0435\u043c. \"\u0412\u044b\" \u2014 \u044d\u0442\u043e \u0431\u0443\u0434\u0443\u0449\u0438\u0435 \u0440\u043e\u0434\u0438\u0442\u0435\u043b\u0438, \u0441\u0442\u0430\u0440\u0448\u0438\u0435 \u0434\u0435\u0442\u0438, \u0434\u0440\u0443\u0433\u0438\u0435 \u0447\u043b\u0435\u043d\u044b \u0441\u0435\u043c\u044c\u0438.\n",
                        "\n",
                        "\u041e \u0447\u0435\u043c \u0441\u043b\u0435\u0434\u0443\u0435\u0442 \u043f\u043e\u043c\u043d\u0438\u0442\u044c \u0438 \u043d\u0430 \u0447\u0442\u043e \u043e\u0431\u0440\u0430\u0442\u0438\u0442\u044c \u0432\u043d\u0438\u043c\u0430\u043d\u0438\u0435:\n",
                        "\n",
                        "* \u0412\u0430\u043a\u0446\u0438\u043d\u0430\u0446\u0438\u044f \u043e\u0442 \u043a\u043e\u043a\u043b\u044e\u0448\u0430, \u0434\u0438\u0444\u0442\u0435\u0440\u0438\u0438 \u0438 \u0441\u0442\u043e\u043b\u0431\u043d\u044f\u043a\u0430. \u041f\u043e\u0441\u043b\u0435\u0434\u043d\u044f\u044f \"\u0434\u0435\u0442\u0441\u043a\u0430\u044f\" \u0438\u043d\u044a\u0435\u043a\u0446\u0438\u044f \u0434\u0435\u043b\u0430\u0435\u0442\u0441\u044f \u0432 16 \u043b\u0435\u0442. \u041f\u043e\u0441\u043b\u0435 \u044d\u0442\u043e\u0433\u043e \u043d\u0435\u043e\u0431\u0445\u043e\u0434\u0438\u043c\u043e \u043f\u0440\u0438\u0432\u0438\u0432\u0430\u0442\u044c\u0441\u044f \u043a\u0430\u0436\u0434\u044b\u0435 10 \u043b\u0435\u0442. \u0412\u0441\u0435\u043c. \u0414\u0430\u0436\u0435 \u0442\u0435\u043c, \u043a\u0442\u043e \u043d\u0435 \u043f\u043b\u0430\u043d\u0438\u0440\u0443\u0435\u0442 \u0431\u0435\u0440\u0435\u043c\u0435\u043d\u043d\u043e\u0441\u0442\u044c. \u0421\u043b\u0435\u0434\u0443\u0435\u0442 \u0437\u043d\u0430\u0442\u044c, \u0447\u0442\u043e \u0447\u0443\u0442\u044c \u043b\u0438 \u043d\u0435 \u0441\u0430\u043c\u0430\u044f \u043e\u043f\u0430\u0441\u043d\u0430\u044f \u0438\u043d\u0444\u0435\u043a\u0446\u0438\u044f \u0434\u043b\u044f \u043c\u043b\u0430\u0434\u0435\u043d\u0446\u0430 \u2014 \u043a\u043e\u043a\u043b\u044e\u0448, \u043a\u043e\u0442\u043e\u0440\u044b\u0439 \u043e\u043d \u043c\u043e\u0436\u0435\u0442 \"\u043f\u043e\u043b\u0443\u0447\u0438\u0442\u044c\" \u043e\u0442 \u0431\u043b\u0438\u0436\u0430\u0439\u0448\u0438\u0445 \u043d\u0435\u043f\u0440\u0438\u0432\u0438\u0442\u044b\u0445 \u0440\u043e\u0434\u0441\u0442\u0432\u0435\u043d\u043d\u0438\u043a\u043e\u0432. \u0418\u043c\u0435\u043d\u043d\u043e \u043f\u043e\u044d\u0442\u043e\u043c\u0443 \u0441\u043b\u0435\u0434\u0443\u0435\u0442 \u0443\u0431\u0435\u0434\u0438\u0442\u044c\u0441\u044f \u0432 \u0442\u043e\u043c, \u0447\u0442\u043e \u043e\u0442 \u043a\u043e\u043a\u043b\u044e\u0448\u0430 \u043f\u0440\u0438\u0432\u0438\u0442\u044b \u0432\u0441\u0435 \u0442\u0435, \u043a\u0442\u043e \u0431\u0443\u0434\u0435\u0442 \u043a\u043e\u043d\u0442\u0430\u043a\u0442\u0438\u0440\u043e\u0432\u0430\u0442\u044c \u0441 \u043c\u043b\u0430\u0434\u0435\u043d\u0446\u0435\u043c \u0432 \u043f\u0435\u0440\u0432\u044b\u0435 2 \u043c\u0435\u0441\u044f\u0446\u0430 \u0435\u0433\u043e \u0436\u0438\u0437\u043d\u0438 (\u0442. \u0435. \u0434\u043e \u0442\u043e\u0433\u043e, \u043a\u0430\u043a \u043f\u0440\u0438\u0432\u0438\u0432\u043a\u0438 \u043d\u0430\u0447\u043d\u0443\u0442 \u0434\u0435\u043b\u0430\u0442\u044c \u0441\u0430\u043c\u043e\u043c\u0443 \u0440\u0435\u0431\u0435\u043d\u043a\u0443);\n",
                        "* \u041a\u0440\u0430\u0441\u043d\u0443\u0445\u0430 \u2014 \u0447\u0440\u0435\u0437\u0432\u044b\u0447\u0430\u0439\u043d\u043e \u043e\u043f\u0430\u0441\u043d\u0430\u044f \u0438\u043d\u0444\u0435\u043a\u0446\u0438\u044f \u0438\u043c\u0435\u043d\u043d\u043e \u0434\u043b\u044f \u043f\u043b\u043e\u0434\u0430. \u0415\u0441\u0442\u044c \u043b\u0438 \u0434\u043e\u043a\u0443\u043c\u0435\u043d\u0442\u0430\u043b\u044c\u043d\u043e\u0435 \u043f\u043e\u0434\u0442\u0432\u0435\u0440\u0436\u0434\u0435\u043d\u0438\u0435 \u0442\u043e\u043c\u0443, \u0447\u0442\u043e \u0432\u044b \u043f\u043e\u043b\u0443\u0447\u0438\u043b\u0438 2 \u0434\u043e\u0437\u044b \u0432\u0430\u043a\u0446\u0438\u043d\u044b \u041a\u041f\u041a (\u043a\u043e\u0440\u044c, \u043f\u0430\u0440\u043e\u0442\u0438\u0442, \u043a\u0440\u0430\u0441\u043d\u0443\u0445\u0430)? \u041d\u0435\u0442 \u043f\u043e\u0434\u0442\u0432\u0435\u0440\u0436\u0434\u0435\u043d\u0438\u044f, \u043f\u0440\u0438\u0441\u0443\u0442\u0441\u0442\u0432\u0443\u044e\u0442 \u0441\u043e\u043c\u043d\u0435\u043d\u0438\u044f? \u0412 \u044d\u0442\u043e\u0439 \u0441\u0438\u0442\u0443\u0430\u0446\u0438\u0438 \u043c\u043e\u0436\u043d\u043e \u043f\u0440\u043e\u0432\u0435\u0441\u0442\u0438 \u0438\u0441\u0441\u043b\u0435\u0434\u043e\u0432\u0430\u043d\u0438\u0435 \u043a\u0440\u043e\u0432\u0438 \u0438 \u043f\u043e\u0434\u0442\u0432\u0435\u0440\u0434\u0438\u0442\u044c \u043d\u0430\u043b\u0438\u0447\u0438\u0435 \u0437\u0430\u0449\u0438\u0442\u043d\u044b\u0445 \u0430\u043d\u0442\u0438\u0442\u0435\u043b. \u0415\u0441\u0442\u044c \u0430\u043d\u0442\u0438\u0442\u0435\u043b\u0430 \u2014 \u0440\u0430\u0441\u0441\u043b\u0430\u0431\u0438\u043b\u0438\u0441\u044c, \u043d\u0435\u0442 \u2014 \u043f\u043e\u043a\u0430\u0437\u0430\u043d\u0430 \u0432\u0430\u043a\u0446\u0438\u043d\u0430\u0446\u0438\u044f;\n",
                        "* \u0415\u0441\u043b\u0438 \u0432\u044b \u043d\u0435 \u0431\u043e\u043b\u0435\u043b\u0438 \u0432\u0435\u0442\u0440\u044f\u043d\u043e\u0439 \u043e\u0441\u043f\u043e\u0439 (\u0438 \u043d\u0435 \u043f\u0440\u0438\u0432\u0438\u0442\u044b) \u2014 \u043e\u0431\u0441\u0443\u0434\u0438\u0442\u0435 \u0441 \u0432\u0440\u0430\u0447\u043e\u043c \u0432\u043e\u0437\u043c\u043e\u0436\u043d\u043e\u0441\u0442\u044c \u0432\u0430\u043a\u0446\u0438\u043d\u0430\u0446\u0438\u0438 \u043e\u0442 \u0432\u0435\u0442\u0440\u044f\u043d\u043a\u0438;\n",
                        "* \u0414\u043b\u044f \u0431\u0443\u0434\u0443\u0449\u0435\u0439 \u043c\u0430\u043c\u044b \u043e\u0447\u0435\u043d\u044c \u0430\u043a\u0442\u0443\u0430\u043b\u044c\u043d\u0430 \u0432\u0430\u043a\u0446\u0438\u043d\u0430\u0446\u0438\u044f \u043e\u0442 \u0433\u0435\u043f\u0430\u0442\u0438\u0442\u0430 \u0412. \u0423\u0442\u043e\u0447\u043d\u0438\u0442\u0435!\n",
                        "* \u0418\u043c\u0435\u043d\u043d\u043e \u0443 \u0431\u0435\u0440\u0435\u043c\u0435\u043d\u043d\u044b\u0445 \u0433\u0440\u0438\u043f\u043f \u043f\u0440\u043e\u0442\u0435\u043a\u0430\u0435\u0442 \u043e\u0441\u043e\u0431\u0435\u043d\u043d\u043e \u0442\u044f\u0436\u0435\u043b\u043e! \u041f\u0440\u0438\u0448\u0435\u043b \u0433\u0440\u0438\u043f\u043f\u043e\u0437\u043d\u044b\u0439 \u0441\u0435\u0437\u043e\u043d, \u043f\u043e\u044f\u0432\u0438\u043b\u0438\u0441\u044c \u0430\u043a\u0442\u0443\u0430\u043b\u044c\u043d\u044b\u0435 \u0434\u043b\u044f \u044d\u0442\u043e\u0433\u043e \u0441\u0435\u0437\u043e\u043d\u0430 \u0432\u0430\u043a\u0446\u0438\u043d\u044b \u2014 \u0437\u0430\u0449\u0438\u0442\u0438\u0442\u0435 \u0432\u0441\u0435\u0445 \u0447\u043b\u0435\u043d\u043e\u0432 \u0441\u0435\u043c\u044c\u0438.\n"
                    ]
                }
            ]
        },
        {
            "cell_type": "code",
            "source": [
                "def clean_text(text):\n",
                "    # try up to 3 times if no success return text as is\n",
                "    for _ in range(3):\n",
                "        try:\n",
                "            return (chain.invoke({\"text\": text}), True)\n",
                "        except Exception as e:\n",
                "            print(f\"Error cleaning text: {e}\")\n",
                "    return (text, False)"
            ],
            "metadata": {
                "id": "SgOb6D-Kwl4u",
                "executionInfo": {
                    "status": "ok",
                    "timestamp": 1729318203576,
                    "user_tz": -180,
                    "elapsed": 280,
                    "user": {
                        "displayName": "",
                        "userId": ""
                    }
                }
            },
            "execution_count": 18,
            "outputs": []
        },
        {
            "cell_type": "code",
            "source": [
                "pages = pages[30:40]"
            ],
            "metadata": {
                "id": "RYV5PX2zxyAd",
                "executionInfo": {
                    "status": "ok",
                    "timestamp": 1729318206510,
                    "user_tz": -180,
                    "elapsed": 341,
                    "user": {
                        "displayName": "",
                        "userId": ""
                    }
                }
            },
            "execution_count": 19,
            "outputs": []
        },
        {
            "cell_type": "code",
            "source": [
                "from tqdm import tqdm\n",
                "\n",
                "failures = []\n",
                "for p in tqdm(pages, desc=\"Cleaning text\", unit=\"page\"):\n",
                "  text, suc = clean_text(p.page_content)\n",
                "  if not suc:\n",
                "    failures.append(p)\n",
                "  else:\n",
                "    p.page_content = text\n"
            ],
            "metadata": {
                "colab": {
                    "base_uri": "https://localhost:8080/"
                },
                "id": "j8nmGl99x2xg",
                "executionInfo": {
                    "status": "ok",
                    "timestamp": 1729318256954,
                    "user_tz": -180,
                    "elapsed": 22873,
                    "user": {
                        "displayName": "",
                        "userId": ""
                    }
                },
                "outputId": "c8252fca-9c71-4819-d5a4-c37d9166c976"
            },
            "execution_count": 21,
            "outputs": [
                {
                    "output_type": "stream",
                    "name": "stderr",
                    "text": [
                        "Cleaning text: 100%|\u2588\u2588\u2588\u2588\u2588\u2588\u2588\u2588\u2588\u2588| 10/10 [00:22<00:00,  2.26s/page]\n"
                    ]
                }
            ]
        },
        {
            "cell_type": "code",
            "source": [
                "print(pages[3].page_content)\n"
            ],
            "metadata": {
                "colab": {
                    "base_uri": "https://localhost:8080/"
                },
                "id": "gwKFHWVz6K7S",
                "executionInfo": {
                    "status": "ok",
                    "timestamp": 1729318261181,
                    "user_tz": -180,
                    "elapsed": 285,
                    "user": {
                        "displayName": "",
                        "userId": ""
                    }
                },
                "outputId": "47fe2af8-f9c3-40f3-fc2c-37f25c5c5293"
            },
            "execution_count": 22,
            "outputs": [
                {
                    "output_type": "stream",
                    "name": "stdout",
                    "text": [
                        "\u0412\u0440\u0435\u0434\u043d\u044b\u0435 \u043f\u0440\u0438\u0432\u044b\u0447\u043a\u0438\n",
                        "\n",
                        "\u0412 \u043e\u0442\u043d\u043e\u0448\u0435\u043d\u0438\u0438 \u0430\u043b\u043a\u043e\u0433\u043e\u043b\u044f \u0432\u0441\u0435 \u0432\u0440\u0430\u0447\u0438 \u0435\u0434\u0438\u043d\u043e\u0434\u0443\u0448\u043d\u044b: \u043b\u0443\u0447\u0448\u0435 \u0432\u0441\u0435\u0433\u043e \u043d\u0435 \u043f\u0438\u0442\u044c \u0432\u043e\u043e\u0431\u0449\u0435. \u041d\u043e, \u043f\u043e\u0441\u043a\u043e\u043b\u044c\u043a\u0443 \u043e\u0442 \u043f\u043b\u0430\u043d\u0438\u0440\u043e\u0432\u0430\u043d\u0438\u044f \u0434\u043e \u0437\u0430\u0447\u0430\u0442\u0438\u044f \u043f\u0440\u043e\u0445\u043e\u0434\u0438\u0442 \u0447\u0430\u0441\u0442\u043e \u0434\u043e\u0432\u043e\u043b\u044c\u043d\u043e-\u0442\u0430\u043a\u0438 \u043c\u043d\u043e\u0433\u043e \u0432\u0440\u0435\u043c\u0435\u043d\u0438, \u0432\u043e\u043f\u043b\u043e\u0442\u0438\u0442\u044c \u0432 \u0436\u0438\u0437\u043d\u044c \u0432\u0440\u0430\u0447\u0435\u0431\u043d\u044b\u0435 \u0440\u0435\u043a\u043e\u043c\u0435\u043d\u0434\u0430\u0446\u0438\u0438 \u0443\u0434\u0430\u0435\u0442\u0441\u044f \u0434\u0430\u043b\u0435\u043a\u043e \u043d\u0435 \u0432\u0441\u0435\u043c.\n",
                        "\n",
                        "\u0413\u043b\u0430\u0432\u043d\u044b\u0435 \u043f\u0440\u0430\u0432\u0438\u043b\u0430 \u0434\u043b\u044f \u043d\u0430\u0440\u0443\u0448\u0438\u0442\u0435\u043b\u0435\u0439:\n",
                        "\n",
                        "1. \u0422\u043e\u043b\u044c\u043a\u043e \u043a\u0430\u0447\u0435\u0441\u0442\u0432\u0435\u043d\u043d\u044b\u0439 \u0430\u043b\u043a\u043e\u0433\u043e\u043b\u044c, \u043c\u0430\u043b\u0435\u0439\u0448\u0438\u0435 \u0441\u043e\u043c\u043d\u0435\u043d\u0438\u044f \u0432 \u043a\u0430\u0447\u0435\u0441\u0442\u0432\u0435 \u2014 \u043d\u0435\u0442;\n",
                        "2. \u0423\u043c\u0435\u0440\u0435\u043d\u043d\u043e\u0441\u0442\u044c;\n",
                        "3. \u041d\u0438 \u043d\u0438\u043a\u0430\u043a\u043e\u0433\u043e \u0430\u043b\u043a\u043e\u0433\u043e\u043b\u044f, \u0435\u0441\u043b\u0438 \u0431\u0435\u0440\u0435\u043c\u0435\u043d\u043d\u043e\u0441\u0442\u044c \u043f\u043e\u0442\u0435\u043d\u0446\u0438\u0430\u043b\u044c\u043d\u043e \u0443\u0436\u0435 \u0432\u043e\u0437\u043c\u043e\u0436\u043d\u0430, \u043e\u0441\u043e\u0431\u0435\u043d\u043d\u043e \u0435\u0441\u043b\u0438 \u043e\u0442 \u0442\u0435\u043e\u0440\u0435\u0442\u0438\u0447\u0435\u0441\u043a\u0438 \u0432\u043e\u0437\u043c\u043e\u0436\u043d\u043e\u0439 \u0434\u0430\u0442\u044b \u0437\u0430\u0447\u0430\u0442\u0438\u044f \u043f\u0440\u043e\u0448\u043b\u043e \u0431\u043e\u043b\u0435\u0435 2 \u043d\u0435\u0434\u0435\u043b\u044c (\u043d\u0430 \u0431\u0443\u0434\u0443\u0449\u0435\u0433\u043e \u043f\u0430\u043f\u0443 \u044d\u0442\u043e \u043f\u0440\u0430\u0432\u0438\u043b\u043e \u043d\u0435 \u0440\u0430\u0441\u043f\u0440\u043e\u0441\u0442\u0440\u0430\u043d\u044f\u0435\u0442\u0441\u044f).\n",
                        "\n",
                        "\u0422\u043e\u0442 \u0444\u0430\u043a\u0442, \u0447\u0442\u043e \u0432\u044b \u043f\u043b\u0430\u043d\u0438\u0440\u0443\u0435\u0442\u0435 \u0431\u0435\u0440\u0435\u043c\u0435\u043d\u043d\u043e\u0441\u0442\u044c, \u043e\u0434\u043d\u043e\u0437\u043d\u0430\u0447\u043d\u043e \u0441\u0432\u0438\u0434\u0435\u0442\u0435\u043b\u044c\u0441\u0442\u0432\u0443\u0435\u0442 \u043e \u0432\u0430\u0448\u0435\u043c \u0437\u0434\u0440\u0430\u0432\u043e\u043c\u044b\u0441\u043b\u0438\u0438, \u0443\u043c\u0435, \u043f\u0440\u0435\u0434\u0443\u0441\u043c\u043e\u0442\u0440\u0438\u0442\u0435\u043b\u044c\u043d\u043e\u0441\u0442\u0438. \u0412\u0441\u0435 \u0432\u044b\u0448\u0435\u0441\u043a\u0430\u0437\u0430\u043d\u043d\u043e\u0435 \u2014 \u0443\u0431\u0435\u0434\u0438\u0442\u0435\u043b\u044c\u043d\u044b\u0439 \u043f\u043e\u0432\u043e\u0434 \u0438 \u0434\u043e\u0432\u043e\u0434\u044b \u0432 \u043f\u043e\u043b\u044c\u0437\u0443 \u0442\u043e\u0433\u043e, \u0447\u0442\u043e\u0431\u044b \u0431\u0440\u043e\u0441\u0438\u0442\u044c \u043a\u0443\u0440\u0438\u0442\u044c.\n"
                    ]
                }
            ]
        },
        {
            "cell_type": "code",
            "source": [],
            "metadata": {
                "id": "xdBa3zYi6Rrm"
            },
            "execution_count": null,
            "outputs": []
        },
        {
            "cell_type": "markdown",
            "source": [
                "# Splitting"
            ],
            "metadata": {
                "id": "rhfzUkZd7Mu2"
            }
        },
        {
            "cell_type": "code",
            "source": [
                "from langchain_text_splitters import RecursiveCharacterTextSplitter\n",
                "\n",
                "text_splitter = RecursiveCharacterTextSplitter(\n",
                "    chunk_size=1000, chunk_overlap=200, add_start_index=True\n",
                ")\n",
                "splits = text_splitter.split_documents(pages)\n",
                "\n",
                "len(splits)"
            ],
            "metadata": {
                "colab": {
                    "base_uri": "https://localhost:8080/"
                },
                "id": "qJEhTrRW7PCb",
                "executionInfo": {
                    "status": "ok",
                    "timestamp": 1729176137364,
                    "user_tz": -180,
                    "elapsed": 315,
                    "user": {
                        "displayName": "",
                        "userId": ""
                    }
                },
                "outputId": "d892d4a8-b4cd-4846-8da7-d9ef5d71b89d"
            },
            "execution_count": 52,
            "outputs": [
                {
                    "output_type": "execute_result",
                    "data": {
                        "text/plain": [
                            "17"
                        ]
                    },
                    "metadata": {},
                    "execution_count": 52
                }
            ]
        },
        {
            "cell_type": "code",
            "source": [
                "splits[8]"
            ],
            "metadata": {
                "colab": {
                    "base_uri": "https://localhost:8080/"
                },
                "id": "MabV40Y27z_b",
                "executionInfo": {
                    "status": "ok",
                    "timestamp": 1729176237244,
                    "user_tz": -180,
                    "elapsed": 307,
                    "user": {
                        "displayName": "",
                        "userId": ""
                    }
                },
                "outputId": "c5249ede-0fd6-4ebc-aa04-32d290368a9e"
            },
            "execution_count": 53,
            "outputs": [
                {
                    "output_type": "execute_result",
                    "data": {
                        "text/plain": [
                            "Document(metadata={'source': 'life_begin.pdf', 'page': 35, 'start_index': 0}, page_content='\u042d\u043a\u043e\u043d\u043e\u043c\u0438\u043a\u0430 \u0431\u0443\u0434\u0443\u0449\u0435\u0433\u043e \u0440\u043e\u0434\u0438\u0442\u0435\u043b\u044c\u0441\u0442\u0432\u0430: \u0447\u0442\u043e \u0441\u043b\u0435\u0434\u0443\u0435\u0442 \u0443\u0447\u0438\u0442\u044b\u0432\u0430\u0442\u044c?\\n\\n\u041d\u0443\u0436\u043d\u043e \u043f\u043e\u043d\u0438\u043c\u0430\u0442\u044c, \u0447\u0442\u043e \u0440\u0435\u0431\u0435\u043d\u043e\u043a \u044f\u0432\u043b\u044f\u0435\u0442\u0441\u044f \u0441\u0435\u0440\u044c\u0435\u0437\u043d\u044b\u043c \u0432\u043b\u043e\u0436\u0435\u043d\u0438\u0435\u043c \u0441\u0440\u0435\u0434\u0441\u0442\u0432, \u0445\u043e\u0442\u044f \u0431\u044b \u043f\u043e\u0442\u043e\u043c\u0443, \u0447\u0442\u043e \u0432\u0430\u043c \u043f\u043e\u0442\u0440\u0435\u0431\u0443\u0435\u0442\u0441\u044f \u043e\u043a\u043e\u043b\u043e 5000 \u043e\u0434\u043d\u043e\u0440\u0430\u0437\u043e\u0432\u044b\u0445 \u043f\u043e\u0434\u0433\u0443\u0437\u043d\u0438\u043a\u043e\u0432. \u0421\u0447\u0430\u0441\u0442\u044c\u0435 \u0431\u044b\u0442\u044c \u043c\u0430\u0442\u0435\u0440\u044c\u044e \u0438 \u043e\u0442\u0446\u043e\u043c \u0431\u0435\u0441\u0441\u043f\u043e\u0440\u043d\u043e \u0441\u0442\u043e\u0438\u0442 \u0437\u0430\u0442\u0440\u0430\u0442, \u043d\u043e \u0432\u0430\u0436\u043d\u043e \u0438\u0445 \u0443\u0447\u0435\u0441\u0442\u044c.\\n\\n\u041e\u0446\u0435\u043d\u0438\u0442\u0435 \u0441\u0432\u043e\u0438 \u0434\u043e\u0445\u043e\u0434\u044b: \u0431\u0443\u0434\u0435\u0442 \u043b\u0438 \u043e\u043f\u043b\u0430\u0447\u0438\u0432\u0430\u0435\u043c\u044b\u0439 \u043e\u0442\u043f\u0443\u0441\u043a, \u043a\u0430\u043a\u0438\u043c\u0438 \u043c\u043e\u0433\u0443\u0442 \u0431\u044b\u0442\u044c \u0433\u043e\u0441\u0443\u0434\u0430\u0440\u0441\u0442\u0432\u0435\u043d\u043d\u044b\u0435 \u0438 \u0442\u0440\u0443\u0434\u043e\u0432\u044b\u0435 \u043f\u043e\u0441\u043e\u0431\u0438\u044f (\u0434\u0435\u043d\u0435\u0436\u043d\u044b\u0435 \u0441\u0440\u0435\u0434\u0441\u0442\u0432\u0430, \u043b\u044c\u0433\u043e\u0442\u044b, \u043f\u043e\u0434\u0430\u0440\u043a\u0438, \u0441\u043f\u0435\u0446\u0438\u0430\u043b\u044c\u043d\u044b\u0435 \u0443\u0441\u043b\u0443\u0433\u0438, \u0432\u0430\u043a\u0446\u0438\u043d\u044b \u0438 \u0442\u043e\u043c\u0443 \u043f\u043e\u0434\u043e\u0431\u043d\u043e\u0435).\\n\\n\u041f\u043b\u0430\u043d\u0438\u0440\u0443\u0435\u043c\u044b\u0435 \u0440\u0430\u0441\u0445\u043e\u0434\u044b: \u0436\u0438\u043b\u044c\u0435, \u0440\u0435\u043c\u043e\u043d\u0442, \u043c\u0435\u0431\u0435\u043b\u044c, \u043a\u043b\u0438\u043c\u0430\u0442\u0438\u0447\u0435\u0441\u043a\u0430\u044f \u0442\u0435\u0445\u043d\u0438\u043a\u0430, \u043e\u0434\u0435\u0436\u0434\u0430, \u043a\u043e\u043b\u044f\u0441\u043a\u0430, \u0441\u0438\u0441\u0442\u0435\u043c\u044b \u043a\u043e\u043d\u0442\u0440\u043e\u043b\u044f \u0438 \u0431\u0435\u0437\u043e\u043f\u0430\u0441\u043d\u043e\u0441\u0442\u0438 (\u0432\u0438\u0434\u0435\u043e\u043d\u0430\u0431\u043b\u044e\u0434\u0435\u043d\u0438\u0435, \u0434\u0435\u0442\u0441\u043a\u043e\u0435 \u0430\u0432\u0442\u043e\u043c\u043e\u0431\u0438\u043b\u044c\u043d\u043e\u0435 \u043a\u0440\u0435\u0441\u043b\u043e \u0438 \u0442\u043e\u043c\u0443 \u043f\u043e\u0434\u043e\u0431\u043d\u043e\u0435), \u0434\u0435\u0442\u0441\u043a\u043e\u0435 \u043f\u0438\u0442\u0430\u043d\u0438\u0435, \u0438\u0433\u0440\u0443\u0448\u043a\u0438, \u043a\u043e\u0441\u043c\u0435\u0442\u0438\u0447\u0435\u0441\u043a\u0438\u0435 \u0441\u0440\u0435\u0434\u0441\u0442\u0432\u0430, \u043d\u0430\u0431\u043b\u044e\u0434\u0435\u043d\u0438\u0435 \u043f\u0435\u0434\u0438\u0430\u0442\u0440\u0430, \u0430\u043f\u0442\u0435\u0447\u043a\u0430, \u0432\u0430\u043a\u0446\u0438\u043d\u0430\u0446\u0438\u044f, \u0443\u0441\u043b\u0443\u0433\u0438 \u043d\u044f\u043d\u0438, \u0434\u0435\u0442\u0441\u043a\u0438\u0439 \u0441\u0430\u0434 \u0438 \u0442\u043e\u043c\u0443 \u043f\u043e\u0434\u043e\u0431\u043d\u043e\u0435.')"
                        ]
                    },
                    "metadata": {},
                    "execution_count": 53
                }
            ]
        },
        {
            "cell_type": "code",
            "source": [],
            "metadata": {
                "id": "KthAha4C73IW"
            },
            "execution_count": null,
            "outputs": []
        },
        {
            "cell_type": "markdown",
            "source": [
                "# Store"
            ],
            "metadata": {
                "id": "VjFGwT1OB05r"
            }
        },
        {
            "cell_type": "code",
            "source": [
                "import pinecone\n",
                "\n",
                "pc = pinecone.Pinecone(api_key=userdata.get('PINECONE_KEY'))"
            ],
            "metadata": {
                "id": "SUmnwisyCRpw",
                "executionInfo": {
                    "status": "ok",
                    "timestamp": 1729179630531,
                    "user_tz": -180,
                    "elapsed": 1539,
                    "user": {
                        "displayName": "",
                        "userId": ""
                    }
                }
            },
            "execution_count": 95,
            "outputs": []
        },
        {
            "cell_type": "code",
            "source": [
                "pc.list_indexes()"
            ],
            "metadata": {
                "colab": {
                    "base_uri": "https://localhost:8080/"
                },
                "id": "ltcxJMMAFAoP",
                "executionInfo": {
                    "status": "ok",
                    "timestamp": 1729179633504,
                    "user_tz": -180,
                    "elapsed": 330,
                    "user": {
                        "displayName": "",
                        "userId": ""
                    }
                },
                "outputId": "48a3f7fc-cd1d-44db-b63b-b8f68f346561"
            },
            "execution_count": 96,
            "outputs": [
                {
                    "output_type": "execute_result",
                    "data": {
                        "text/plain": [
                            "[\n",
                            "    {\n",
                            "        \"name\": \"komrag\",\n",
                            "        \"dimension\": 768,\n",
                            "        \"metric\": \"cosine\",\n",
                            "        \"host\": \"komrag-mcvbmc1.svc.aped-4627-b74a.pinecone.io\",\n",
                            "        \"spec\": {\n",
                            "            \"serverless\": {\n",
                            "                \"cloud\": \"aws\",\n",
                            "                \"region\": \"us-east-1\"\n",
                            "            }\n",
                            "        },\n",
                            "        \"status\": {\n",
                            "            \"ready\": true,\n",
                            "            \"state\": \"Ready\"\n",
                            "        },\n",
                            "        \"deletion_protection\": \"disabled\"\n",
                            "    }\n",
                            "]"
                        ]
                    },
                    "metadata": {},
                    "execution_count": 96
                }
            ]
        },
        {
            "cell_type": "code",
            "source": [
                "import time\n",
                "\n",
                "index_name = \"komrag\"  # change if desired\n",
                "\n",
                "existing_indexes = [index_info[\"name\"] for index_info in pc.list_indexes()]\n",
                "\n",
                "if index_name not in existing_indexes:\n",
                "    pc.create_index(\n",
                "        name=index_name,\n",
                "        dimension=768,\n",
                "        metric=\"cosine\",\n",
                "        spec=ServerlessSpec(cloud=\"aws\", region=\"us-east-1\"),\n",
                "    )\n",
                "    while not pc.describe_index(index_name).status[\"ready\"]:\n",
                "        time.sleep(1)\n",
                "\n",
                "index = pc.Index(index_name)"
            ],
            "metadata": {
                "id": "QHWERHHHCY0q",
                "executionInfo": {
                    "status": "ok",
                    "timestamp": 1729179645538,
                    "user_tz": -180,
                    "elapsed": 332,
                    "user": {
                        "displayName": "",
                        "userId": ""
                    }
                }
            },
            "execution_count": 97,
            "outputs": []
        },
        {
            "cell_type": "code",
            "source": [
                "from langchain_pinecone import PineconeVectorStore\n",
                "\n",
                "vector_store = PineconeVectorStore(index=index, embedding=embeddings)"
            ],
            "metadata": {
                "id": "zvxZq0PTFq1K",
                "executionInfo": {
                    "status": "ok",
                    "timestamp": 1729179655073,
                    "user_tz": -180,
                    "elapsed": 323,
                    "user": {
                        "displayName": "",
                        "userId": ""
                    }
                }
            },
            "execution_count": 98,
            "outputs": []
        },
        {
            "cell_type": "code",
            "source": [
                "ids = [str(i) for i in range(len(pages))]\n"
            ],
            "metadata": {
                "id": "IYO2TQiaICHZ",
                "executionInfo": {
                    "status": "ok",
                    "timestamp": 1729179525633,
                    "user_tz": -180,
                    "elapsed": 352,
                    "user": {
                        "displayName": "",
                        "userId": ""
                    }
                }
            },
            "execution_count": 88,
            "outputs": []
        },
        {
            "cell_type": "code",
            "source": [
                "vector_store.add_documents(documents=pages, ids=ids)"
            ],
            "metadata": {
                "colab": {
                    "base_uri": "https://localhost:8080/"
                },
                "id": "GSBb-seRIPwl",
                "executionInfo": {
                    "status": "ok",
                    "timestamp": 1729179660440,
                    "user_tz": -180,
                    "elapsed": 3931,
                    "user": {
                        "displayName": "",
                        "userId": ""
                    }
                },
                "outputId": "9efe23d3-f2f0-4159-db05-7d2462547fc1"
            },
            "execution_count": 99,
            "outputs": [
                {
                    "output_type": "execute_result",
                    "data": {
                        "text/plain": [
                            "['0', '1', '2', '3', '4', '5', '6', '7', '8', '9']"
                        ]
                    },
                    "metadata": {},
                    "execution_count": 99
                }
            ]
        },
        {
            "cell_type": "code",
            "source": [
                "import hashlib\n",
                "\n",
                "def generate_id(content):\n",
                "    # Ensure the content is in bytes\n",
                "    if isinstance(content, str):\n",
                "        content = content.encode('utf-8')\n",
                "\n",
                "    # Create a SHA-256 hash object\n",
                "    hash_object = hashlib.sha256()\n",
                "\n",
                "    # Update the hash object with the content\n",
                "    hash_object.update(content)\n",
                "\n",
                "    # Get the hexadecimal representation of the hash\n",
                "    unique_id = hash_object.hexdigest()\n",
                "\n",
                "    return unique_id"
            ],
            "metadata": {
                "id": "raHb08BuJjJt",
                "executionInfo": {
                    "status": "ok",
                    "timestamp": 1729179994058,
                    "user_tz": -180,
                    "elapsed": 326,
                    "user": {
                        "displayName": "",
                        "userId": ""
                    }
                }
            },
            "execution_count": 100,
            "outputs": []
        },
        {
            "cell_type": "code",
            "source": [
                "def index_all_docs(docs):\n",
                "  ids = [generate_id(doc.page_content) for doc in docs]\n",
                "  vector_store.add_documents(documents=docs, ids=ids)"
            ],
            "metadata": {
                "id": "YHNnm7ovKNNk",
                "executionInfo": {
                    "status": "ok",
                    "timestamp": 1729180022198,
                    "user_tz": -180,
                    "elapsed": 322,
                    "user": {
                        "displayName": "",
                        "userId": ""
                    }
                }
            },
            "execution_count": 101,
            "outputs": []
        },
        {
            "cell_type": "code",
            "source": [
                "index_all_docs(pages)"
            ],
            "metadata": {
                "id": "1UukIjHAKTov",
                "executionInfo": {
                    "status": "ok",
                    "timestamp": 1729180042109,
                    "user_tz": -180,
                    "elapsed": 3903,
                    "user": {
                        "displayName": "",
                        "userId": ""
                    }
                }
            },
            "execution_count": 102,
            "outputs": []
        },
        {
            "cell_type": "code",
            "source": [],
            "metadata": {
                "id": "FWAhSo3hKgZb",
                "executionInfo": {
                    "status": "ok",
                    "timestamp": 1729180080868,
                    "user_tz": -180,
                    "elapsed": 331,
                    "user": {
                        "displayName": "",
                        "userId": ""
                    }
                }
            },
            "execution_count": 104,
            "outputs": []
        }
    ]
}