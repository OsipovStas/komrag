{
    "nbformat": 4,
    "nbformat_minor": 0,
    "metadata": {
        "colab": {
            "provenance": []
        },
        "kernelspec": {
            "name": "python3",
            "display_name": "Python 3"
        },
        "language_info": {
            "name": "python"
        },
        "widgets": {
            "application/vnd.jupyter.widget-state+json": {
                "2da143550f4644fba019041e2e2ee557": {
                    "model_module": "@jupyter-widgets/output",
                    "model_name": "OutputModel",
                    "model_module_version": "1.0.0",
                    "state": {
                        "_dom_classes": [],
                        "_model_module": "@jupyter-widgets/output",
                        "_model_module_version": "1.0.0",
                        "_model_name": "OutputModel",
                        "_view_count": null,
                        "_view_module": "@jupyter-widgets/output",
                        "_view_module_version": "1.0.0",
                        "_view_name": "OutputView",
                        "layout": "IPY_MODEL_4b7ac2a884d0441e9710b0c6358db0cb",
                        "msg_id": "",
                        "outputs": [
                            {
                                "output_type": "display_data",
                                "data": {
                                    "text/plain": "\u001b[32m\u2807\u001b[0m Waiting for authorization\n",
                                    "text/html": "<pre style=\"white-space:pre;overflow-x:auto;line-height:normal;font-family:Menlo,'DejaVu Sans Mono',consolas,'Courier New',monospace\"><span style=\"color: #008000; text-decoration-color: #008000\">\u2807</span> Waiting for authorization\n</pre>\n"
                                },
                                "metadata": {}
                            }
                        ]
                    }
                },
                "4b7ac2a884d0441e9710b0c6358db0cb": {
                    "model_module": "@jupyter-widgets/base",
                    "model_name": "LayoutModel",
                    "model_module_version": "1.2.0",
                    "state": {
                        "_model_module": "@jupyter-widgets/base",
                        "_model_module_version": "1.2.0",
                        "_model_name": "LayoutModel",
                        "_view_count": null,
                        "_view_module": "@jupyter-widgets/base",
                        "_view_module_version": "1.2.0",
                        "_view_name": "LayoutView",
                        "align_content": null,
                        "align_items": null,
                        "align_self": null,
                        "border": null,
                        "bottom": null,
                        "display": null,
                        "flex": null,
                        "flex_flow": null,
                        "grid_area": null,
                        "grid_auto_columns": null,
                        "grid_auto_flow": null,
                        "grid_auto_rows": null,
                        "grid_column": null,
                        "grid_gap": null,
                        "grid_row": null,
                        "grid_template_areas": null,
                        "grid_template_columns": null,
                        "grid_template_rows": null,
                        "height": null,
                        "justify_content": null,
                        "justify_items": null,
                        "left": null,
                        "margin": null,
                        "max_height": null,
                        "max_width": null,
                        "min_height": null,
                        "min_width": null,
                        "object_fit": null,
                        "object_position": null,
                        "order": null,
                        "overflow": null,
                        "overflow_x": null,
                        "overflow_y": null,
                        "padding": null,
                        "right": null,
                        "top": null,
                        "visibility": null,
                        "width": null
                    }
                }
            }
        }
    },
    "cells": [
        {
            "cell_type": "code",
            "execution_count": null,
            "metadata": {
                "id": "Oe_WTA_NvdA7"
            },
            "outputs": [],
            "source": [
                "%%capture\n",
                "!pip install -q dagshub mlflow"
            ]
        },
        {
            "cell_type": "code",
            "source": [
                "#@markdown **You need to sign up for [DagsHub](https://dagshub.com/user/sign_up) , then enter the name of the repository you'd like to create, and your username and email.**\n",
                "\n",
                "#@markdown Enter the repository name for the project:\n",
                "REPO_NAME= \"komrag\" #@param {type:\"string\"}\n",
                "\n",
                "#@markdown Enter the username of your DAGsHub account:\n",
                "USER_NAME = \"OsipovStas\" #@param {type:\"string\"}\n",
                "\n",
                "#@markdown Enter the email for your DAGsHub account:\n",
                "EMAIL = \"stasstels@gmail.com\" #@param {type:\"string\"}\n",
                "\n",
                "#@markdown ---\n",
                "\n",
                "import IPython"
            ],
            "metadata": {
                "id": "GJfZ4jjEvsDv"
            },
            "execution_count": null,
            "outputs": []
        },
        {
            "cell_type": "code",
            "source": [
                "!dagshub login\n",
                "\n",
                "import dagshub\n",
                "TOKEN = dagshub.auth.get_token()"
            ],
            "metadata": {
                "colab": {
                    "base_uri": "https://localhost:8080/",
                    "height": 336,
                    "referenced_widgets": [
                        "2da143550f4644fba019041e2e2ee557",
                        "4b7ac2a884d0441e9710b0c6358db0cb"
                    ]
                },
                "id": "lJNXXvnEwhpn",
                "executionInfo": {
                    "status": "ok",
                    "timestamp": 1729156523124,
                    "user_tz": -180,
                    "elapsed": 32152,
                    "user": {
                        "displayName": "Stas Osipov",
                        "userId": "09130264571558518571"
                    }
                },
                "outputId": "2aeadfb9-2a72-4447-c8ce-aa10902470bb"
            },
            "execution_count": null,
            "outputs": [
                {
                    "output_type": "stream",
                    "name": "stdout",
                    "text": [
                        "                                \u001b[1m\u2757\u2757\u2757 AUTHORIZATION REQUIRED \u2757\u2757\u2757\u001b[0m                                \n",
                        "\n",
                        "\n",
                        "Open the following link in your browser to authorize the client:\n",
                        "https://dagshub.com/login/oauth/authorize?state=93bfb02a-fa30-465e-a801-d4e010c9cd5f&client_id=32b60ba385aa7cecf24046d8195a71c07dd345d9657977863b52e7748e0f0f28&middleman_request_id=7578421f4192f84f4147c6c8972f33200102e679325d34a8ced93e65a66e5789\n",
                        "\n",
                        "\n",
                        "\u001b[2K\u001b[32m\u280f\u001b[0m Waiting for authorization\n",
                        "\u001b[1A\u001b[2K\u2705 OAuth token added\n"
                    ]
                },
                {
                    "output_type": "display_data",
                    "data": {
                        "text/plain": [
                            "                                       \u001b[1m\u2757\u2757\u2757 AUTHORIZATION REQUIRED \u2757\u2757\u2757\u001b[0m                                        \n"
                        ],
                        "text/html": [
                            "<pre style=\"white-space:pre;overflow-x:auto;line-height:normal;font-family:Menlo,'DejaVu Sans Mono',consolas,'Courier New',monospace\">                                       <span style=\"font-weight: bold\">\u2757\u2757\u2757 AUTHORIZATION REQUIRED \u2757\u2757\u2757</span>                                        \n",
                            "</pre>\n"
                        ]
                    },
                    "metadata": {}
                },
                {
                    "output_type": "stream",
                    "name": "stdout",
                    "text": [
                        "\n",
                        "\n",
                        "Open the following link in your browser to authorize the client:\n",
                        "https://dagshub.com/login/oauth/authorize?state=9e460156-51c3-403b-8d36-dec5e4803790&client_id=32b60ba385aa7cecf24046d8195a71c07dd345d9657977863b52e7748e0f0f28&middleman_request_id=e4003743f906c8f3adea74440c439c446d3b5c928422b54793a19c40382e7c0e\n",
                        "\n",
                        "\n"
                    ]
                },
                {
                    "output_type": "display_data",
                    "data": {
                        "text/plain": [
                            "Output()"
                        ],
                        "application/vnd.jupyter.widget-view+json": {
                            "version_major": 2,
                            "version_minor": 0,
                            "model_id": "2da143550f4644fba019041e2e2ee557"
                        }
                    },
                    "metadata": {}
                },
                {
                    "output_type": "display_data",
                    "data": {
                        "text/plain": [],
                        "text/html": [
                            "<pre style=\"white-space:pre;overflow-x:auto;line-height:normal;font-family:Menlo,'DejaVu Sans Mono',consolas,'Courier New',monospace\"></pre>\n"
                        ]
                    },
                    "metadata": {}
                },
                {
                    "output_type": "display_data",
                    "data": {
                        "text/plain": [
                            "Accessing as OsipovStas\n"
                        ],
                        "text/html": [
                            "<pre style=\"white-space:pre;overflow-x:auto;line-height:normal;font-family:Menlo,'DejaVu Sans Mono',consolas,'Courier New',monospace\">Accessing as OsipovStas\n",
                            "</pre>\n"
                        ]
                    },
                    "metadata": {}
                }
            ]
        },
        {
            "cell_type": "code",
            "source": [
                "from google.colab import userdata\n",
                "DH_TOKEN = userdata.get('LLM_MATH_COMP_DH_TOKEN')\n"
            ],
            "metadata": {
                "id": "l12vwEkGv8gD"
            },
            "execution_count": null,
            "outputs": []
        },
        {
            "cell_type": "code",
            "source": [
                "import mlflow\n",
                "import dagshub\n",
                "import os\n",
                "#DH_TOKEN = os.environ['LLM_MATH_COMP_DH_TOKEN']\n",
                "username = f'{USER_NAME}'  # Replace with your DagsHub username\n",
                "repository = f'{REPO_NAME}'  # Replace with your repository name\n",
                "token = f'{DH_TOKEN}'  # Replace with your DagsHub token\n",
                "os.environ['MLFLOW_TRACKING_USERNAME'] = username\n",
                "os.environ['MLFLOW_TRACKING_PASSWORD'] = token\n",
                "dagshub.auth.add_app_token(token)\n",
                "dagshub.init(repo_name=REPO_NAME, repo_owner=USER_NAME)\n",
                "mlflow.set_tracking_uri(f\"https://dagshub.com/{USER_NAME}/{REPO_NAME}.mlflow\")"
            ],
            "metadata": {
                "colab": {
                    "base_uri": "https://localhost:8080/",
                    "height": 66
                },
                "id": "vCUHiCXcwW6r",
                "executionInfo": {
                    "status": "ok",
                    "timestamp": 1729156570852,
                    "user_tz": -180,
                    "elapsed": 658,
                    "user": {
                        "displayName": "Stas Osipov",
                        "userId": "09130264571558518571"
                    }
                },
                "outputId": "2fb4cea9-8ff1-4946-98a8-89a56784d359"
            },
            "execution_count": null,
            "outputs": [
                {
                    "output_type": "stream",
                    "name": "stderr",
                    "text": [
                        "WARNING:dagshub.auth.tokens:The added token already exists in the token cache, skipping\n"
                    ]
                },
                {
                    "output_type": "display_data",
                    "data": {
                        "text/plain": [
                            "Initialized MLflow to track repo \u001b[32m\"OsipovStas/komrag\"\u001b[0m\n"
                        ],
                        "text/html": [
                            "<pre style=\"white-space:pre;overflow-x:auto;line-height:normal;font-family:Menlo,'DejaVu Sans Mono',consolas,'Courier New',monospace\">Initialized MLflow to track repo <span style=\"color: #008000; text-decoration-color: #008000\">\"OsipovStas/komrag\"</span>\n",
                            "</pre>\n"
                        ]
                    },
                    "metadata": {}
                },
                {
                    "output_type": "display_data",
                    "data": {
                        "text/plain": [
                            "Repository OsipovStas/komrag initialized!\n"
                        ],
                        "text/html": [
                            "<pre style=\"white-space:pre;overflow-x:auto;line-height:normal;font-family:Menlo,'DejaVu Sans Mono',consolas,'Courier New',monospace\">Repository OsipovStas/komrag initialized!\n",
                            "</pre>\n"
                        ]
                    },
                    "metadata": {}
                }
            ]
        },
        {
            "cell_type": "code",
            "source": [
                "from dagshub.notebook import save_notebook\n",
                "\n",
                "save_notebook(repo=f\"{USER_NAME}/{REPO_NAME}\", path=\"./notebooks/exploratory.ipynb\")"
            ],
            "metadata": {
                "id": "kd9XJ6_ew8Uq"
            },
            "execution_count": null,
            "outputs": []
        },
        {
            "cell_type": "code",
            "source": [
                "from dagshub import get_repo_bucket_client\n",
                "# Get a boto3.client object\n",
                "s3 = get_repo_bucket_client(\"OsipovStas/komrag\")\n",
                "\n",
                "# Upload file\n",
                "s3.upload_file(\n",
                "    Bucket=\"komrag\",  # name of the repo\n",
                "    Filename=\"./life_begin.pdf\",  # local path of file to upload\n",
                "    Key=\"life_begin.pdf\",  # remote path where to upload the file\n",
                ")"
            ],
            "metadata": {
                "id": "4MtgrIfqI63d",
                "executionInfo": {
                    "status": "ok",
                    "timestamp": 1729162965768,
                    "user_tz": -180,
                    "elapsed": 3207,
                    "user": {
                        "displayName": "",
                        "userId": ""
                    }
                },
                "outputId": "7b9d3ab6-4f17-4fea-ab37-185ed2c5da7e",
                "colab": {
                    "base_uri": "https://localhost:8080/",
                    "height": 34
                }
            },
            "execution_count": 5,
            "outputs": [
                {
                    "output_type": "display_data",
                    "data": {
                        "text/plain": [
                            "Client created. Use the name of the repo \u001b[1m(\u001b[0mkomrag\u001b[1m)\u001b[0m as the name of the bucket\n"
                        ],
                        "text/html": [
                            "<pre style=\"white-space:pre;overflow-x:auto;line-height:normal;font-family:Menlo,'DejaVu Sans Mono',consolas,'Courier New',monospace\">Client created. Use the name of the repo <span style=\"font-weight: bold\">(</span>komrag<span style=\"font-weight: bold\">)</span> as the name of the bucket\n",
                            "</pre>\n"
                        ]
                    },
                    "metadata": {}
                }
            ]
        },
        {
            "cell_type": "code",
            "source": [
                "from dagshub import get_repo_bucket_client\n",
                "# Get a boto3.client object\n",
                "s3 = get_repo_bucket_client(\"OsipovStas/komrag\")\n",
                "\n",
                "\n",
                "s3.download_file(\n",
                "    Bucket=\"komrag\",  # name of the repo\n",
                "    Key=\"life_begin.pdf\",  #  remote path from where to download the file\n",
                "    Filename=\"life_begin_copy.pdf\",  # local path where to download the file\n",
                ")"
            ],
            "metadata": {
                "id": "80xwtRM1Jb6i",
                "executionInfo": {
                    "status": "ok",
                    "timestamp": 1729163048846,
                    "user_tz": -180,
                    "elapsed": 660,
                    "user": {
                        "displayName": "",
                        "userId": ""
                    }
                },
                "outputId": "9d7962f9-9d5a-4139-b366-db0374aaab52",
                "colab": {
                    "base_uri": "https://localhost:8080/",
                    "height": 34
                }
            },
            "execution_count": 6,
            "outputs": [
                {
                    "output_type": "display_data",
                    "data": {
                        "text/plain": [
                            "Client created. Use the name of the repo \u001b[1m(\u001b[0mkomrag\u001b[1m)\u001b[0m as the name of the bucket\n"
                        ],
                        "text/html": [
                            "<pre style=\"white-space:pre;overflow-x:auto;line-height:normal;font-family:Menlo,'DejaVu Sans Mono',consolas,'Courier New',monospace\">Client created. Use the name of the repo <span style=\"font-weight: bold\">(</span>komrag<span style=\"font-weight: bold\">)</span> as the name of the bucket\n",
                            "</pre>\n"
                        ]
                    },
                    "metadata": {}
                }
            ]
        }
    ]
}