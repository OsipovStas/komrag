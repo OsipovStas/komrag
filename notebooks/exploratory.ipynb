{
 "cells": [
  {
   "cell_type": "code",
   "execution_count": 1,
   "id": "cee7cbb4",
   "metadata": {},
   "outputs": [],
   "source": [
    "#@markdown **You need to sign up for [DagsHub](https://dagshub.com/user/sign_up) , then enter the name of the repository you'd like to create, and your username and email.**\n",
    "\n",
    "#@markdown Enter the repository name for the project:\n",
    "REPO_NAME= \"komrag\" #@param {type:\"string\"}\n",
    "\n",
    "#@markdown Enter the username of your DAGsHub account:\n",
    "USER_NAME = \"OsipovStas\" #@param {type:\"string\"}\n",
    "\n",
    "#@markdown Enter the email for your DAGsHub account:\n",
    "EMAIL = \"stasstels@gmail.com\" #@param {type:\"string\"}\n",
    "\n",
    "#@markdown ---\n",
    "\n",
    "import IPython"
   ]
  },
  {
   "cell_type": "code",
   "execution_count": 2,
   "id": "d55e39fc",
   "metadata": {},
   "outputs": [],
   "source": [
    "from dotenv import load_dotenv\n",
    "\n",
    "load_dotenv(\"../.env\")"
   ]
  },
  {
   "cell_type": "code",
   "execution_count": 3,
   "id": "1be1ba4d",
   "metadata": {},
   "outputs": [],
   "source": [
    "import os\n",
    "\n",
    "DH_TOKEN = os.environ['LLM_MATH_COMP_DH_TOKEN']"
   ]
  },
  {
   "cell_type": "code",
   "execution_count": 4,
   "id": "4771e432",
   "metadata": {},
   "outputs": [],
   "source": [
    "import mlflow\n",
    "import dagshub\n",
    "import os\n",
    "#DH_TOKEN = os.environ['LLM_MATH_COMP_DH_TOKEN']\n",
    "username = f'{USER_NAME}'  # Replace with your DagsHub username\n",
    "repository = f'{REPO_NAME}'  # Replace with your repository name\n",
    "token = f'{DH_TOKEN}'  # Replace with your DagsHub token\n",
    "os.environ['MLFLOW_TRACKING_USERNAME'] = username\n",
    "os.environ['MLFLOW_TRACKING_PASSWORD'] = token\n",
    "dagshub.auth.add_app_token(token)\n",
    "dagshub.init(repo_name=REPO_NAME, repo_owner=USER_NAME)\n",
    "mlflow.set_tracking_uri(f\"https://dagshub.com/{USER_NAME}/{REPO_NAME}.mlflow\")"
   ]
  },
  {
   "cell_type": "code",
   "execution_count": 5,
   "id": "28a7b8c5",
   "metadata": {},
   "outputs": [],
   "source": [
    "from dotenv import load_dotenv\n",
    "\n",
    "load_dotenv(\"../.env\")"
   ]
  },
  {
   "cell_type": "code",
   "execution_count": 6,
   "id": "bdb7e6c5",
   "metadata": {},
   "outputs": [],
   "source": [
    "from dotenv import load_dotenv\n",
    "\n",
    "load_dotenv(\"../.env\", override=True)"
   ]
  },
  {
   "cell_type": "code",
   "execution_count": 7,
   "id": "7c6d56e1",
   "metadata": {},
   "outputs": [],
   "source": [
    "from dotenv import load_dotenv\n",
    "\n",
    "load_dotenv(\"../.env\", override=True)"
   ]
  },
  {
   "cell_type": "code",
   "execution_count": 8,
   "id": "1ec09123",
   "metadata": {},
   "outputs": [],
   "source": [
    "from dagshub import get_repo_bucket_client\n",
    "# Get a boto3.client object\n",
    "s3 = get_repo_bucket_client(\"OsipovStas/komrag\")\n",
    "\n",
    "\n",
    "s3.download_file(\n",
    "    Bucket=\"komrag\",  # name of the repo\n",
    "    Key=\"life_begin.pdf\",  #  remote path from where to download the file\n",
    "    Filename=\"life_begin_copy.pdf\",  # local path where to download the file\n",
    ")"
   ]
  },
  {
   "cell_type": "code",
   "execution_count": 9,
   "id": "25036f3c",
   "metadata": {},
   "outputs": [],
   "source": [
    "from langchain_openai import AzureChatOpenAI\n",
    "\n",
    "llm = AzureChatOpenAI(model=model, temperature=0, timeout=120)"
   ]
  },
  {
   "cell_type": "code",
   "execution_count": 10,
   "id": "e7f468bd",
   "metadata": {},
   "outputs": [],
   "source": [
    "model=\"gpt-4o-mini-2024-07-18\""
   ]
  },
  {
   "cell_type": "code",
   "execution_count": 11,
   "id": "bd2c3b1a",
   "metadata": {},
   "outputs": [],
   "source": [
    "from langchain_openai import AzureChatOpenAI\n",
    "\n",
    "llm = AzureChatOpenAI(model=model, temperature=0, timeout=120)"
   ]
  },
  {
   "cell_type": "code",
   "execution_count": 12,
   "id": "9d09357d",
   "metadata": {},
   "outputs": [],
   "source": [
    "from langchain_openai import AzureChatOpenAI\n",
    "\n",
    "chat = AzureChatOpenAI(model=model, temperature=0, timeout=120)"
   ]
  },
  {
   "cell_type": "code",
   "execution_count": 13,
   "id": "6b10fe05",
   "metadata": {},
   "outputs": [],
   "source": [
    "chat.invoke(\"Hello, do you know russian? Write a response in it\")"
   ]
  },
  {
   "cell_type": "code",
   "execution_count": 14,
   "id": "a0772482",
   "metadata": {},
   "outputs": [],
   "source": [
    "from langchain_openai import AzureEmbeddingsOpenAI"
   ]
  },
  {
   "cell_type": "code",
   "execution_count": 15,
   "id": "a20d8608",
   "metadata": {},
   "outputs": [],
   "source": [
    "from langchain_openai import AzureOpenAIEmbeddings"
   ]
  },
  {
   "cell_type": "code",
   "execution_count": 16,
   "id": "bfb9e663",
   "metadata": {},
   "outputs": [],
   "source": [
    "from langchain_openai import AzureOpenAIEmbeddings\n",
    "\n",
    "embeddings = AzureOpenAIEmbeddings(model=\"text-embedding-3-small-1\", dimensions=768)"
   ]
  },
  {
   "cell_type": "code",
   "execution_count": 17,
   "id": "b7c33949",
   "metadata": {},
   "outputs": [],
   "source": [
    "len(embeddings.embed_query(\"Приветы, как дела?\"))"
   ]
  },
  {
   "cell_type": "code",
   "execution_count": 18,
   "id": "19c93bc0",
   "metadata": {},
   "outputs": [],
   "source": [
    "file_path = \"life_begin_copy.pdf\""
   ]
  },
  {
   "cell_type": "code",
   "execution_count": 19,
   "id": "37dc715e",
   "metadata": {},
   "outputs": [],
   "source": [
    "from langchain_community.document_loaders import PyPDFLoader\n",
    "\n",
    "loader = PyPDFLoader(file_path)\n",
    "pages = []\n",
    "async for page in loader.alazy_load():\n",
    "    pages.append(page)"
   ]
  },
  {
   "cell_type": "code",
   "execution_count": 20,
   "id": "57547153",
   "metadata": {},
   "outputs": [],
   "source": [
    "len(pages)"
   ]
  },
  {
   "cell_type": "code",
   "execution_count": 21,
   "id": "04775fd4",
   "metadata": {},
   "outputs": [],
   "source": [
    "template=\"\"\"\n",
    "You will receive a text in Russian extracted using an OCR tool.\n",
    "Your task is to clean and format this text to enhance readability.\n",
    "The text may contain various artifacts introduced during the OCR process, such as:\n",
    "\n",
    " - Special characters or symbols that do not belong.\n",
    " - Inconsistent casing of letters (e.g., random uppercase or lowercase letters).\n",
    " - Incorrect spacing within words or between words (e.g., words glued together or unnecessary spaces).\n",
    " - Hyphenation errors, such as words split across lines.\n",
    " - Incorrect punctuation or misplaced commas and periods.\n",
    " - New line characters\n",
    "\n",
    "Please ensure the final output is free from these artifacts and is well-formatted.\n",
    "Pay attention to punctuation, paragraph structure, and overall coherence.\n",
    "The goal is to produce a clean, easy-to-read text.\n",
    "Output ONLY the cleaned text.\n",
    "\n",
    "\n",
    "### TEXT ###\n",
    "\n",
    "{text}\n",
    "\n",
    "\"\"\""
   ]
  },
  {
   "cell_type": "code",
   "execution_count": 22,
   "id": "31bee8be",
   "metadata": {},
   "outputs": [],
   "source": [
    "from langchain_core.output_parsers import StrOutputParser\n",
    "from langchain_core.prompts import ChatPromptTemplate\n",
    "\n",
    "prompt = ChatPromptTemplate.from_template(template)"
   ]
  },
  {
   "cell_type": "code",
   "execution_count": 23,
   "id": "fa793c0e",
   "metadata": {},
   "outputs": [],
   "source": [
    "chain = prompt | chat | StrOutputParser()"
   ]
  },
  {
   "cell_type": "code",
   "execution_count": 24,
   "id": "f7051164",
   "metadata": {},
   "outputs": [],
   "source": [
    "print(chain.invoke({\"text\": pages[30].page_content}))"
   ]
  },
  {
   "cell_type": "code",
   "execution_count": 25,
   "id": "7ee18968",
   "metadata": {},
   "outputs": [],
   "source": [
    "def clean_text(text):\n",
    "    # try up to 3 times if no success return text as is\n",
    "    for _ in range(3):\n",
    "        try:\n",
    "            return (chain.invoke({\"text\": text}), True)\n",
    "        except Exception as e:\n",
    "            print(f\"Error cleaning text: {e}\")\n",
    "    return (text, False)"
   ]
  },
  {
   "cell_type": "code",
   "execution_count": 26,
   "id": "7b56db50",
   "metadata": {},
   "outputs": [],
   "source": [
    "from tqdm import tqdm\n",
    "\n",
    "failures = []\n",
    "for p in tqdm(pages, desc=\"Cleaning text\", unit=\"page\"):\n",
    "  text, suc = clean_text(p.page_content)\n",
    "  if not suc:\n",
    "    failures.append(p)\n",
    "  else:\n",
    "    p.page_content = text"
   ]
  },
  {
   "cell_type": "code",
   "execution_count": 27,
   "id": "83e02440",
   "metadata": {},
   "outputs": [],
   "source": [
    "print(pages[3].page_content)"
   ]
  },
  {
   "cell_type": "code",
   "execution_count": 28,
   "id": "7d4c2faf",
   "metadata": {},
   "outputs": [],
   "source": [
    "from langchain_text_splitters import RecursiveCharacterTextSplitter\n",
    "\n",
    "text_splitter = RecursiveCharacterTextSplitter(\n",
    "    chunk_size=1000, chunk_overlap=200, add_start_index=True\n",
    ")\n",
    "splits = text_splitter.split_documents(pages)\n",
    "\n",
    "len(splits)"
   ]
  },
  {
   "cell_type": "code",
   "execution_count": 29,
   "id": "fa0201fe",
   "metadata": {},
   "outputs": [],
   "source": [
    "splits[8]"
   ]
  },
  {
   "cell_type": "code",
   "execution_count": 30,
   "id": "d710dfce",
   "metadata": {},
   "outputs": [],
   "source": [
    "import pinecone\n",
    "\n",
    "pc = pinecone.Pinecone(api_key=userdata.get('PINECONE_KEY'))"
   ]
  },
  {
   "cell_type": "code",
   "execution_count": 31,
   "id": "1885e7b8",
   "metadata": {},
   "outputs": [],
   "source": [
    "from dotenv import load_dotenv\n",
    "\n",
    "load_dotenv(\"../.env\", override=True)"
   ]
  },
  {
   "cell_type": "code",
   "execution_count": 32,
   "id": "0edc53c1",
   "metadata": {},
   "outputs": [],
   "source": [
    "import pinecone\n",
    "\n",
    "pc = pinecone.Pinecone(api_key=os.environ['PINECONE_API_KEY'])"
   ]
  },
  {
   "cell_type": "code",
   "execution_count": 33,
   "id": "8555fe4c",
   "metadata": {},
   "outputs": [],
   "source": [
    "pc.list_indexes()"
   ]
  },
  {
   "cell_type": "code",
   "execution_count": 34,
   "id": "ddff0d32",
   "metadata": {},
   "outputs": [],
   "source": [
    "import time\n",
    "\n",
    "index_name = \"komrag\"  # change if desired\n",
    "\n",
    "existing_indexes = [index_info[\"name\"] for index_info in pc.list_indexes()]\n",
    "\n",
    "if index_name not in existing_indexes:\n",
    "    pc.create_index(\n",
    "        name=index_name,\n",
    "        dimension=768,\n",
    "        metric=\"cosine\",\n",
    "        spec=ServerlessSpec(cloud=\"aws\", region=\"us-east-1\"),\n",
    "    )\n",
    "    while not pc.describe_index(index_name).status[\"ready\"]:\n",
    "        time.sleep(1)\n",
    "\n",
    "index = pc.Index(index_name)"
   ]
  },
  {
   "cell_type": "code",
   "execution_count": 35,
   "id": "cef5f071",
   "metadata": {},
   "outputs": [],
   "source": [
    "from pinecone import Pinecone, ServerlessSpec\n",
    "\n",
    "pc = pinecone.Pinecone(api_key=os.environ['PINECONE_API_KEY'])"
   ]
  },
  {
   "cell_type": "code",
   "execution_count": 36,
   "id": "d46865d7",
   "metadata": {},
   "outputs": [],
   "source": [
    "pc.list_indexes()"
   ]
  },
  {
   "cell_type": "code",
   "execution_count": 37,
   "id": "50568397",
   "metadata": {},
   "outputs": [],
   "source": [
    "import time\n",
    "\n",
    "index_name = \"komrag\"  # change if desired\n",
    "\n",
    "existing_indexes = [index_info[\"name\"] for index_info in pc.list_indexes()]\n",
    "\n",
    "if index_name not in existing_indexes:\n",
    "    pc.create_index(\n",
    "        name=index_name,\n",
    "        dimension=768,\n",
    "        metric=\"cosine\",\n",
    "        spec=ServerlessSpec(cloud=\"aws\", region=\"us-east-1\"),\n",
    "    )\n",
    "    while not pc.describe_index(index_name).status[\"ready\"]:\n",
    "        time.sleep(1)\n",
    "\n",
    "index = pc.Index(index_name)"
   ]
  },
  {
   "cell_type": "code",
   "execution_count": 38,
   "id": "d4b8effa",
   "metadata": {},
   "outputs": [],
   "source": [
    "from langchain_pinecone import PineconeVectorStore\n",
    "\n",
    "vector_store = PineconeVectorStore(index=index, embedding=embeddings)"
   ]
  },
  {
   "cell_type": "code",
   "execution_count": 39,
   "id": "f053d5fe",
   "metadata": {},
   "outputs": [],
   "source": [
    "import hashlib\n",
    "\n",
    "def generate_id(content):\n",
    "    # Ensure the content is in bytes\n",
    "    if isinstance(content, str):\n",
    "        content = content.encode('utf-8')\n",
    "\n",
    "    # Create a SHA-256 hash object\n",
    "    hash_object = hashlib.sha256()\n",
    "\n",
    "    # Update the hash object with the content\n",
    "    hash_object.update(content)\n",
    "\n",
    "    # Get the hexadecimal representation of the hash\n",
    "    unique_id = hash_object.hexdigest()\n",
    "\n",
    "    return unique_id"
   ]
  },
  {
   "cell_type": "code",
   "execution_count": 40,
   "id": "e67901e8",
   "metadata": {},
   "outputs": [],
   "source": [
    "def index_all_docs(docs):\n",
    "  ids = [generate_id(doc.page_content) for doc in docs]\n",
    "  vector_store.add_documents(documents=docs, ids=ids)"
   ]
  },
  {
   "cell_type": "code",
   "execution_count": 41,
   "id": "c396e220",
   "metadata": {},
   "outputs": [],
   "source": [
    "pc.list_indexes()"
   ]
  },
  {
   "cell_type": "code",
   "execution_count": 42,
   "id": "c8e0e989",
   "metadata": {},
   "outputs": [],
   "source": [
    "index_all_docs(pages)"
   ]
  }
 ],
 "metadata": {},
 "nbformat": 4,
 "nbformat_minor": 5
}
