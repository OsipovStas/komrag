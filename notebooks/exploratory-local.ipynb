{
 "cells": [
  {
   "cell_type": "code",
   "execution_count": null,
   "id": "S9sDzRUdB8LS",
   "metadata": {
    "executionInfo": {
     "elapsed": 56218,
     "status": "ok",
     "timestamp": 1729362455343,
     "user": {
      "displayName": "",
      "userId": ""
     },
     "user_tz": -180
    },
    "id": "S9sDzRUdB8LS"
   },
   "outputs": [],
   "source": [
    "%%capture\n",
    "!pip install -q ragas pyngrok dagshub mlflow python-dotenv langchain langchain-openai langchain-together langchain-community langsmith pypdf pinecone pinecone-text streamlit langchain-pinecone langchain-huggingface"
   ]
  },
  {
   "cell_type": "code",
   "execution_count": 1,
   "id": "cee7cbb4",
   "metadata": {
    "executionInfo": {
     "elapsed": 362,
     "status": "ok",
     "timestamp": 1729362459838,
     "user": {
      "displayName": "",
      "userId": ""
     },
     "user_tz": -180
    },
    "id": "cee7cbb4"
   },
   "outputs": [],
   "source": [
    "#@markdown **You need to sign up for [DagsHub](https://dagshub.com/user/sign_up) , then enter the name of the repository you'd like to create, and your username and email.**\n",
    "\n",
    "#@markdown Enter the repository name for the project:\n",
    "REPO_NAME= \"komrag-old\" #@param {type:\"string\"}\n",
    "\n",
    "#@markdown Enter the username of your DAGsHub account:\n",
    "USER_NAME = \"OsipovStas\" #@param {type:\"string\"}\n",
    "\n",
    "#@markdown Enter the email for your DAGsHub account:\n",
    "EMAIL = \"stasstels@gmail.com\" #@param {type:\"string\"}\n",
    "\n",
    "#@markdown ---\n",
    "\n",
    "import IPython"
   ]
  },
  {
   "cell_type": "code",
   "execution_count": 3,
   "id": "feb4c922-76f2-4df4-9fc0-4aee37c42886",
   "metadata": {},
   "outputs": [
    {
     "name": "stdout",
     "output_type": "stream",
     "text": [
      "/Users/Stanislav_Osipov1/PycharmProjects/komrag-github/notebooks\n"
     ]
    }
   ],
   "source": [
    "!pwd"
   ]
  },
  {
   "cell_type": "code",
   "execution_count": 2,
   "id": "d55e39fc",
   "metadata": {
    "id": "d55e39fc"
   },
   "outputs": [
    {
     "data": {
      "text/plain": [
       "True"
      ]
     },
     "execution_count": 2,
     "metadata": {},
     "output_type": "execute_result"
    }
   ],
   "source": [
    "from dotenv import load_dotenv\n",
    "\n",
    "load_dotenv(\"../.env\", override=True)"
   ]
  },
  {
   "cell_type": "code",
   "execution_count": 30,
   "id": "1be1ba4d",
   "metadata": {
    "id": "1be1ba4d"
   },
   "outputs": [],
   "source": [
    "import os\n",
    "\n",
    "DH_TOKEN = os.environ['LLM_MATH_COMP_DH_TOKEN']"
   ]
  },
  {
   "cell_type": "code",
   "execution_count": 31,
   "id": "4771e432",
   "metadata": {
    "colab": {
     "base_uri": "https://localhost:8080/",
     "height": 65
    },
    "executionInfo": {
     "elapsed": 3276,
     "status": "ok",
     "timestamp": 1729362511776,
     "user": {
      "displayName": "",
      "userId": ""
     },
     "user_tz": -180
    },
    "id": "4771e432",
    "outputId": "d6dfd76a-6a97-40a7-c375-6e27c74a31b6"
   },
   "outputs": [
    {
     "name": "stderr",
     "output_type": "stream",
     "text": [
      "The added token already exists in the token cache, skipping\n"
     ]
    },
    {
     "data": {
      "text/html": [
       "<pre style=\"white-space:pre;overflow-x:auto;line-height:normal;font-family:Menlo,'DejaVu Sans Mono',consolas,'Courier New',monospace\">Initialized MLflow to track repo <span style=\"color: #008000; text-decoration-color: #008000\">\"OsipovStas/komrag-old\"</span>\n",
       "</pre>\n"
      ],
      "text/plain": [
       "Initialized MLflow to track repo \u001b[32m\"OsipovStas/komrag-old\"\u001b[0m\n"
      ]
     },
     "metadata": {},
     "output_type": "display_data"
    },
    {
     "data": {
      "text/html": [
       "<pre style=\"white-space:pre;overflow-x:auto;line-height:normal;font-family:Menlo,'DejaVu Sans Mono',consolas,'Courier New',monospace\">Repository OsipovStas/komrag-old initialized!\n",
       "</pre>\n"
      ],
      "text/plain": [
       "Repository OsipovStas/komrag-old initialized!\n"
      ]
     },
     "metadata": {},
     "output_type": "display_data"
    },
    {
     "data": {
      "text/plain": [
       "<Experiment: artifact_location='mlflow-artifacts:/5323b58fc6344b008fdb52c27dc0fbd3', creation_time=1730043880801, experiment_id='1', last_update_time=1730043880801, lifecycle_stage='active', name='komrag_evals', tags={}>"
      ]
     },
     "execution_count": 31,
     "metadata": {},
     "output_type": "execute_result"
    }
   ],
   "source": [
    "import mlflow\n",
    "import dagshub\n",
    "import os\n",
    "#DH_TOKEN = os.environ['LLM_MATH_COMP_DH_TOKEN']\n",
    "username = f'{USER_NAME}'  # Replace with your DagsHub username\n",
    "repository = f'{REPO_NAME}'  # Replace with your repository name\n",
    "token = f'{DH_TOKEN}'  # Replace with your DagsHub token\n",
    "os.environ['MLFLOW_TRACKING_USERNAME'] = username\n",
    "os.environ['MLFLOW_TRACKING_PASSWORD'] = token\n",
    "dagshub.auth.add_app_token(token)\n",
    "dagshub.init(repo_name=REPO_NAME, repo_owner=USER_NAME)\n",
    "mlflow.set_tracking_uri(f\"https://dagshub.com/{USER_NAME}/{REPO_NAME}.mlflow\")\n",
    "mlflow.set_experiment(\"komrag_evals\")"
   ]
  },
  {
   "cell_type": "code",
   "execution_count": null,
   "id": "dVY_HUuGClyB",
   "metadata": {
    "colab": {
     "base_uri": "https://localhost:8080/",
     "height": 33
    },
    "executionInfo": {
     "elapsed": 2279,
     "status": "ok",
     "timestamp": 1729362572299,
     "user": {
      "displayName": "",
      "userId": ""
     },
     "user_tz": -180
    },
    "id": "dVY_HUuGClyB",
    "outputId": "0cd01138-9ac1-4730-af67-eedab15ec792"
   },
   "outputs": [],
   "source": [
    "from dagshub import get_repo_bucket_client\n",
    "# Get a boto3.client object\n",
    "s3 = get_repo_bucket_client(\"OsipovStas/komrag-old\")\n",
    "\n",
    "# Upload file\n",
    "s3.upload_file(\n",
    "    Bucket=\"komrag-old\",  # name of the repo\n",
    "    Filename=\"./life_begin.pdf\",  # local path of file to upload\n",
    "    Key=\"life_begin.pdf\",  # remote path where to upload the file\n",
    ")"
   ]
  },
  {
   "cell_type": "code",
   "execution_count": 33,
   "id": "1ec09123",
   "metadata": {
    "colab": {
     "base_uri": "https://localhost:8080/",
     "height": 33
    },
    "executionInfo": {
     "elapsed": 1936,
     "status": "ok",
     "timestamp": 1729362567047,
     "user": {
      "displayName": "",
      "userId": ""
     },
     "user_tz": -180
    },
    "id": "1ec09123",
    "outputId": "06ab2591-e9a8-400a-ce93-298d41196ffd"
   },
   "outputs": [
    {
     "data": {
      "text/html": [
       "<pre style=\"white-space:pre;overflow-x:auto;line-height:normal;font-family:Menlo,'DejaVu Sans Mono',consolas,'Courier New',monospace\">Client created. Use the name of the repo <span style=\"font-weight: bold\">(</span>komrag-old<span style=\"font-weight: bold\">)</span> as the name of the bucket\n",
       "</pre>\n"
      ],
      "text/plain": [
       "Client created. Use the name of the repo \u001b[1m(\u001b[0mkomrag-old\u001b[1m)\u001b[0m as the name of the bucket\n"
      ]
     },
     "metadata": {},
     "output_type": "display_data"
    }
   ],
   "source": [
    "from dagshub import get_repo_bucket_client\n",
    "# Get a boto3.client object\n",
    "s3 = get_repo_bucket_client(\"OsipovStas/komrag-old\")\n",
    "\n",
    "\n",
    "s3.download_file(\n",
    "    Bucket=\"komrag-old\",  # name of the repo\n",
    "    Key=\"life_begin.pdf\",  #  remote path from where to download the file\n",
    "    Filename=\"life_begin.pdf\",  # local path where to download the file\n",
    ")"
   ]
  },
  {
   "cell_type": "code",
   "execution_count": 5,
   "id": "tuESoPn5Ecbw",
   "metadata": {
    "id": "tuESoPn5Ecbw"
   },
   "outputs": [
    {
     "data": {
      "text/html": [
       "<pre style=\"white-space:pre;overflow-x:auto;line-height:normal;font-family:Menlo,'DejaVu Sans Mono',consolas,'Courier New',monospace\">Saving only the execution history for the notebook in Jupyter environments\n",
       "</pre>\n"
      ],
      "text/plain": [
       "Saving only the execution history for the notebook in Jupyter environments\n"
      ]
     },
     "metadata": {},
     "output_type": "display_data"
    },
    {
     "data": {
      "text/html": [
       "<pre style=\"white-space:pre;overflow-x:auto;line-height:normal;font-family:Menlo,'DejaVu Sans Mono',consolas,'Courier New',monospace\">Uploading files <span style=\"font-weight: bold\">(</span><span style=\"color: #008080; text-decoration-color: #008080; font-weight: bold\">1</span><span style=\"font-weight: bold\">)</span> to <span style=\"color: #008000; text-decoration-color: #008000\">\"OsipovStas/komrag\"</span><span style=\"color: #808000; text-decoration-color: #808000\">...</span>\n",
       "</pre>\n"
      ],
      "text/plain": [
       "Uploading files \u001b[1m(\u001b[0m\u001b[1;36m1\u001b[0m\u001b[1m)\u001b[0m to \u001b[32m\"OsipovStas/komrag\"\u001b[0m\u001b[33m...\u001b[0m\n"
      ]
     },
     "metadata": {},
     "output_type": "display_data"
    },
    {
     "data": {
      "text/html": [
       "<pre style=\"white-space:pre;overflow-x:auto;line-height:normal;font-family:Menlo,'DejaVu Sans Mono',consolas,'Courier New',monospace\">Upload finished successfully!\n",
       "</pre>\n"
      ],
      "text/plain": [
       "Upload finished successfully!\n"
      ]
     },
     "metadata": {},
     "output_type": "display_data"
    }
   ],
   "source": [
    "from dagshub.notebook import save_notebook\n",
    "\n",
    "save_notebook(repo=f\"{USER_NAME}/{REPO_NAME}\", path=\"./notebooks/exploratory-local.ipynb\")"
   ]
  },
  {
   "cell_type": "markdown",
   "id": "SxU-q2FnC8L5",
   "metadata": {
    "id": "SxU-q2FnC8L5"
   },
   "source": [
    "# LLM Configuration"
   ]
  },
  {
   "cell_type": "code",
   "execution_count": 3,
   "id": "e7f468bd",
   "metadata": {
    "id": "e7f468bd"
   },
   "outputs": [],
   "source": [
    "model=\"gpt-4o-mini-2024-07-18\""
   ]
  },
  {
   "cell_type": "code",
   "execution_count": 4,
   "id": "5f03d0f8-93ef-44d1-a6f2-28c7d152036a",
   "metadata": {},
   "outputs": [],
   "source": [
    "model_llama = \"meta-llama/Llama-3.2-90B-Vision-Instruct-Turbo\""
   ]
  },
  {
   "cell_type": "code",
   "execution_count": 5,
   "id": "43e95442-6a58-4447-9b5d-cf6b271c19e0",
   "metadata": {},
   "outputs": [
    {
     "name": "stderr",
     "output_type": "stream",
     "text": [
      "/var/folders/sv/znhfybh54fs9s_mgw8bst__m0000gp/T/ipykernel_25118/1513736346.py:3: LangChainBetaWarning: Introduced in 0.2.24. API subject to change.\n",
      "  rate_limiter = InMemoryRateLimiter(\n"
     ]
    }
   ],
   "source": [
    "from langchain_core.rate_limiters import InMemoryRateLimiter\n",
    "\n",
    "rate_limiter = InMemoryRateLimiter(\n",
    "    requests_per_second=1,  \n",
    "    check_every_n_seconds=1,  # Wake up every 1s to check whether allowed to make a request,\n",
    "    max_bucket_size=2,  \n",
    ")"
   ]
  },
  {
   "cell_type": "code",
   "execution_count": 8,
   "id": "25036f3c",
   "metadata": {
    "id": "25036f3c"
   },
   "outputs": [],
   "source": [
    "from langchain_openai import AzureChatOpenAI\n",
    "\n",
    "chat = AzureChatOpenAI(model=model, temperature=0, timeout=120, rate_limiter=rate_limiter)"
   ]
  },
  {
   "cell_type": "code",
   "execution_count": 149,
   "id": "Se1Y40hrDAuu",
   "metadata": {
    "executionInfo": {
     "elapsed": 5427,
     "status": "ok",
     "timestamp": 1729362670175,
     "user": {
      "displayName": "",
      "userId": ""
     },
     "user_tz": -180
    },
    "id": "Se1Y40hrDAuu"
   },
   "outputs": [
    {
     "ename": "NameError",
     "evalue": "name 'userdata' is not defined",
     "output_type": "error",
     "traceback": [
      "\u001b[0;31m---------------------------------------------------------------------------\u001b[0m",
      "\u001b[0;31mNameError\u001b[0m                                 Traceback (most recent call last)",
      "Cell \u001b[0;32mIn[149], line 5\u001b[0m\n\u001b[1;32m      1\u001b[0m \u001b[38;5;28;01mfrom\u001b[39;00m \u001b[38;5;21;01mlangchain_together\u001b[39;00m \u001b[38;5;28;01mimport\u001b[39;00m ChatTogether\n\u001b[1;32m      3\u001b[0m \u001b[38;5;66;03m# choose from our 50+ models here: https://docs.together.ai/docs/inference-models\u001b[39;00m\n\u001b[1;32m      4\u001b[0m chat \u001b[38;5;241m=\u001b[39m ChatTogether(\n\u001b[0;32m----> 5\u001b[0m     together_api_key\u001b[38;5;241m=\u001b[39m\u001b[43muserdata\u001b[49m\u001b[38;5;241m.\u001b[39mget(\u001b[38;5;124m\"\u001b[39m\u001b[38;5;124mTOGETHER_KEY\u001b[39m\u001b[38;5;124m\"\u001b[39m),\n\u001b[1;32m      6\u001b[0m     model\u001b[38;5;241m=\u001b[39mmodel_llama,\n\u001b[1;32m      7\u001b[0m     timeout\u001b[38;5;241m=\u001b[39m\u001b[38;5;241m120\u001b[39m,\n\u001b[1;32m      8\u001b[0m     rate_limiter\u001b[38;5;241m=\u001b[39mrate_limiter\n\u001b[1;32m      9\u001b[0m )\n",
      "\u001b[0;31mNameError\u001b[0m: name 'userdata' is not defined"
     ]
    }
   ],
   "source": [
    "from langchain_together import ChatTogether\n",
    "\n",
    "# choose from our 50+ models here: https://docs.together.ai/docs/inference-models\n",
    "chat = ChatTogether(\n",
    "    together_api_key=userdata.get(\"TOGETHER_KEY\"),\n",
    "    model=model_llama,\n",
    "    timeout=120,\n",
    "    rate_limiter=rate_limiter\n",
    ")"
   ]
  },
  {
   "cell_type": "code",
   "execution_count": 150,
   "id": "536a878f-3987-4f55-b186-40fc8b5314b0",
   "metadata": {},
   "outputs": [],
   "source": [
    "from langchain_together import ChatTogether\n",
    "\n",
    "# choose from our 50+ models here: https://docs.together.ai/docs/inference-models\n",
    "chat = ChatTogether(\n",
    "    together_api_key=os.environ[\"TOGETHER_KEY\"],\n",
    "    model=model_llama,\n",
    "    timeout=120,\n",
    "    rate_limiter=rate_limiter\n",
    ")"
   ]
  },
  {
   "cell_type": "code",
   "execution_count": 151,
   "id": "6b10fe05",
   "metadata": {
    "colab": {
     "base_uri": "https://localhost:8080/"
    },
    "executionInfo": {
     "elapsed": 661,
     "status": "ok",
     "timestamp": 1729362672456,
     "user": {
      "displayName": "",
      "userId": ""
     },
     "user_tz": -180
    },
    "id": "6b10fe05",
    "outputId": "d5923794-50f1-48d4-a5b6-e9dc8f0e4111"
   },
   "outputs": [
    {
     "data": {
      "text/plain": [
       "AIMessage(content='Здравствуйте! Да, я знаком с русским языком, хотя не могу гарантировать идеальную грамматику и орфографию. Как я могу вам помочь?', additional_kwargs={'refusal': None}, response_metadata={'token_usage': {'completion_tokens': 43, 'prompt_tokens': 22, 'total_tokens': 65, 'completion_tokens_details': None, 'prompt_tokens_details': None}, 'model_name': 'meta-llama/Llama-3.2-90B-Vision-Instruct-Turbo', 'system_fingerprint': None, 'finish_reason': 'stop', 'logprobs': None}, id='run-c797771a-779b-4380-a88d-f45394d24ef4-0', usage_metadata={'input_tokens': 22, 'output_tokens': 43, 'total_tokens': 65, 'input_token_details': {}, 'output_token_details': {}})"
      ]
     },
     "execution_count": 151,
     "metadata": {},
     "output_type": "execute_result"
    }
   ],
   "source": [
    "chat.invoke(\"Hello, do you know russian? Write a response in it\")"
   ]
  },
  {
   "cell_type": "code",
   "execution_count": 10,
   "id": "bfb9e663",
   "metadata": {
    "id": "bfb9e663"
   },
   "outputs": [],
   "source": [
    "from langchain_openai import AzureOpenAIEmbeddings\n",
    "\n",
    "embeddings = AzureOpenAIEmbeddings(model=\"text-embedding-3-small-1\", dimensions=768)"
   ]
  },
  {
   "cell_type": "code",
   "execution_count": null,
   "id": "vzqW0JyhDHNf",
   "metadata": {
    "executionInfo": {
     "elapsed": 1682,
     "status": "ok",
     "timestamp": 1729362691708,
     "user": {
      "displayName": "",
      "userId": ""
     },
     "user_tz": -180
    },
    "id": "vzqW0JyhDHNf"
   },
   "outputs": [],
   "source": [
    "from langchain_together import TogetherEmbeddings\n",
    "\n",
    "embeddings = TogetherEmbeddings(\n",
    "    together_api_key=userdata.get(\"TOGETHER_KEY\"),\n",
    "    model=\"togethercomputer/m2-bert-80M-8k-retrieval\",\n",
    ")\n",
    "\n"
   ]
  },
  {
   "cell_type": "code",
   "execution_count": 11,
   "id": "b7c33949",
   "metadata": {
    "colab": {
     "base_uri": "https://localhost:8080/"
    },
    "executionInfo": {
     "elapsed": 671,
     "status": "ok",
     "timestamp": 1729362698715,
     "user": {
      "displayName": "",
      "userId": ""
     },
     "user_tz": -180
    },
    "id": "b7c33949",
    "outputId": "66f67901-7959-444f-ce3a-165d639bf2c9"
   },
   "outputs": [
    {
     "data": {
      "text/plain": [
       "768"
      ]
     },
     "execution_count": 11,
     "metadata": {},
     "output_type": "execute_result"
    }
   ],
   "source": [
    "len(embeddings.embed_query(\"Приветы, как дела?\"))"
   ]
  },
  {
   "cell_type": "markdown",
   "id": "FwAzQy45Czxp",
   "metadata": {
    "id": "FwAzQy45Czxp"
   },
   "source": [
    "# Loading"
   ]
  },
  {
   "cell_type": "code",
   "execution_count": null,
   "id": "19c93bc0",
   "metadata": {
    "executionInfo": {
     "elapsed": 322,
     "status": "ok",
     "timestamp": 1729362707713,
     "user": {
      "displayName": "",
      "userId": ""
     },
     "user_tz": -180
    },
    "id": "19c93bc0"
   },
   "outputs": [],
   "source": [
    "file_path = \"life_begin.pdf\""
   ]
  },
  {
   "cell_type": "code",
   "execution_count": null,
   "id": "37dc715e",
   "metadata": {
    "executionInfo": {
     "elapsed": 19175,
     "status": "ok",
     "timestamp": 1729362730845,
     "user": {
      "displayName": "",
      "userId": ""
     },
     "user_tz": -180
    },
    "id": "37dc715e"
   },
   "outputs": [],
   "source": [
    "from langchain_community.document_loaders import PyPDFLoader\n",
    "\n",
    "loader = PyPDFLoader(file_path)\n",
    "pages = []\n",
    "async for page in loader.alazy_load():\n",
    "    pages.append(page)"
   ]
  },
  {
   "cell_type": "code",
   "execution_count": null,
   "id": "57547153",
   "metadata": {
    "colab": {
     "base_uri": "https://localhost:8080/"
    },
    "executionInfo": {
     "elapsed": 491,
     "status": "ok",
     "timestamp": 1729362749817,
     "user": {
      "displayName": "",
      "userId": ""
     },
     "user_tz": -180
    },
    "id": "57547153",
    "outputId": "67d07ab4-1d49-4aac-f4e6-e73b196b57db"
   },
   "outputs": [],
   "source": [
    "len(pages)"
   ]
  },
  {
   "cell_type": "markdown",
   "id": "9MRcohVaDRxV",
   "metadata": {
    "id": "9MRcohVaDRxV"
   },
   "source": [
    "# Text cleanup"
   ]
  },
  {
   "cell_type": "code",
   "execution_count": null,
   "id": "04775fd4",
   "metadata": {
    "executionInfo": {
     "elapsed": 2,
     "status": "ok",
     "timestamp": 1729362752163,
     "user": {
      "displayName": "",
      "userId": ""
     },
     "user_tz": -180
    },
    "id": "04775fd4"
   },
   "outputs": [],
   "source": [
    "template=\"\"\"\n",
    "You will receive a text in Russian extracted using an OCR tool.\n",
    "Your task is to clean and format this text to enhance readability.\n",
    "The text may contain various artifacts introduced during the OCR process, such as:\n",
    "\n",
    " - Special characters or symbols that do not belong.\n",
    " - Inconsistent casing of letters (e.g., random uppercase or lowercase letters).\n",
    " - Incorrect spacing within words or between words (e.g., words glued together or unnecessary spaces).\n",
    " - Hyphenation errors, such as words split across lines.\n",
    " - Incorrect punctuation or misplaced commas and periods.\n",
    " - New line characters\n",
    "\n",
    "Please ensure the final output is free from these artifacts and is well-formatted.\n",
    "Pay attention to punctuation, paragraph structure, and overall coherence.\n",
    "The goal is to produce a clean, easy-to-read text.\n",
    "Output ONLY the cleaned text.\n",
    "\n",
    "\n",
    "### TEXT ###\n",
    "\n",
    "{text}\n",
    "\n",
    "\"\"\""
   ]
  },
  {
   "cell_type": "code",
   "execution_count": null,
   "id": "31bee8be",
   "metadata": {
    "executionInfo": {
     "elapsed": 374,
     "status": "ok",
     "timestamp": 1729362755309,
     "user": {
      "displayName": "",
      "userId": ""
     },
     "user_tz": -180
    },
    "id": "31bee8be"
   },
   "outputs": [],
   "source": [
    "from langchain_core.output_parsers import StrOutputParser\n",
    "from langchain_core.prompts import ChatPromptTemplate\n",
    "\n",
    "prompt = ChatPromptTemplate.from_template(template)"
   ]
  },
  {
   "cell_type": "code",
   "execution_count": null,
   "id": "fa793c0e",
   "metadata": {
    "executionInfo": {
     "elapsed": 441,
     "status": "ok",
     "timestamp": 1729362756730,
     "user": {
      "displayName": "",
      "userId": ""
     },
     "user_tz": -180
    },
    "id": "fa793c0e"
   },
   "outputs": [],
   "source": [
    "chain = prompt | chat | StrOutputParser()"
   ]
  },
  {
   "cell_type": "code",
   "execution_count": null,
   "id": "f7051164",
   "metadata": {
    "colab": {
     "base_uri": "https://localhost:8080/"
    },
    "executionInfo": {
     "elapsed": 3985,
     "status": "ok",
     "timestamp": 1729362761746,
     "user": {
      "displayName": "",
      "userId": ""
     },
     "user_tz": -180
    },
    "id": "f7051164",
    "outputId": "e7a54bee-d794-4063-81c0-4b09db478c0d"
   },
   "outputs": [],
   "source": [
    "print(chain.invoke({\"text\": pages[30].page_content}))"
   ]
  },
  {
   "cell_type": "code",
   "execution_count": null,
   "id": "7ee18968",
   "metadata": {
    "id": "7ee18968"
   },
   "outputs": [],
   "source": [
    "def clean_text(text):\n",
    "    # try up to 3 times if no success return text as is\n",
    "    for _ in range(3):\n",
    "        try:\n",
    "            return (chain.invoke({\"text\": text}), True)\n",
    "        except Exception as e:\n",
    "            print(f\"Error cleaning text: {e}\")\n",
    "    return (text, False)"
   ]
  },
  {
   "cell_type": "code",
   "execution_count": null,
   "id": "7b56db50",
   "metadata": {
    "id": "7b56db50"
   },
   "outputs": [],
   "source": [
    "from tqdm import tqdm\n",
    "\n",
    "failures = []\n",
    "for p in tqdm(pages, desc=\"Cleaning text\", unit=\"page\"):\n",
    "  text, suc = clean_text(p.page_content)\n",
    "  if not suc:\n",
    "    failures.append(p)\n",
    "  else:\n",
    "    p.page_content = text"
   ]
  },
  {
   "cell_type": "code",
   "execution_count": null,
   "id": "83e02440",
   "metadata": {
    "id": "83e02440"
   },
   "outputs": [],
   "source": [
    "print(pages[3].page_content)"
   ]
  },
  {
   "cell_type": "markdown",
   "id": "10e5l1W0Di3d",
   "metadata": {
    "id": "10e5l1W0Di3d"
   },
   "source": [
    "# Splitting"
   ]
  },
  {
   "cell_type": "code",
   "execution_count": null,
   "id": "7d4c2faf",
   "metadata": {
    "id": "7d4c2faf"
   },
   "outputs": [],
   "source": [
    "from langchain_text_splitters import RecursiveCharacterTextSplitter\n",
    "\n",
    "text_splitter = RecursiveCharacterTextSplitter(\n",
    "    chunk_size=1000, chunk_overlap=200, add_start_index=True\n",
    ")\n",
    "splits = text_splitter.split_documents(pages)\n",
    "\n",
    "len(splits)"
   ]
  },
  {
   "cell_type": "code",
   "execution_count": null,
   "id": "fa0201fe",
   "metadata": {
    "id": "fa0201fe"
   },
   "outputs": [],
   "source": [
    "splits[8]"
   ]
  },
  {
   "cell_type": "markdown",
   "id": "2vTMIQfYDl8T",
   "metadata": {
    "id": "2vTMIQfYDl8T"
   },
   "source": [
    "# Indexing"
   ]
  },
  {
   "cell_type": "code",
   "execution_count": 14,
   "id": "d710dfce",
   "metadata": {
    "id": "d710dfce"
   },
   "outputs": [],
   "source": [
    "from pinecone import Pinecone, ServerlessSpec\n",
    "\n",
    "pc = Pinecone(api_key=os.environ['PINECONE_API_KEY'])"
   ]
  },
  {
   "cell_type": "code",
   "execution_count": 15,
   "id": "8555fe4c",
   "metadata": {
    "colab": {
     "base_uri": "https://localhost:8080/"
    },
    "executionInfo": {
     "elapsed": 348,
     "status": "ok",
     "timestamp": 1729362896543,
     "user": {
      "displayName": "",
      "userId": ""
     },
     "user_tz": -180
    },
    "id": "8555fe4c",
    "outputId": "a7a2cb65-793f-43c9-9f17-d1f679635ba6"
   },
   "outputs": [
    {
     "data": {
      "text/plain": [
       "[\n",
       "    {\n",
       "        \"name\": \"komrag-hybrid\",\n",
       "        \"dimension\": 768,\n",
       "        \"metric\": \"dotproduct\",\n",
       "        \"host\": \"komrag-hybrid-mcvbmc1.svc.aped-4627-b74a.pinecone.io\",\n",
       "        \"spec\": {\n",
       "            \"serverless\": {\n",
       "                \"cloud\": \"aws\",\n",
       "                \"region\": \"us-east-1\"\n",
       "            }\n",
       "        },\n",
       "        \"status\": {\n",
       "            \"ready\": true,\n",
       "            \"state\": \"Ready\"\n",
       "        },\n",
       "        \"deletion_protection\": \"disabled\"\n",
       "    },\n",
       "    {\n",
       "        \"name\": \"komrag\",\n",
       "        \"dimension\": 768,\n",
       "        \"metric\": \"cosine\",\n",
       "        \"host\": \"komrag-mcvbmc1.svc.aped-4627-b74a.pinecone.io\",\n",
       "        \"spec\": {\n",
       "            \"serverless\": {\n",
       "                \"cloud\": \"aws\",\n",
       "                \"region\": \"us-east-1\"\n",
       "            }\n",
       "        },\n",
       "        \"status\": {\n",
       "            \"ready\": true,\n",
       "            \"state\": \"Ready\"\n",
       "        },\n",
       "        \"deletion_protection\": \"disabled\"\n",
       "    }\n",
       "]"
      ]
     },
     "execution_count": 15,
     "metadata": {},
     "output_type": "execute_result"
    }
   ],
   "source": [
    "pc.list_indexes()"
   ]
  },
  {
   "cell_type": "code",
   "execution_count": 16,
   "id": "ddff0d32",
   "metadata": {
    "id": "ddff0d32"
   },
   "outputs": [],
   "source": [
    "import time\n",
    "\n",
    "index_name = \"komrag\"  # change if desired\n",
    "\n",
    "existing_indexes = [index_info[\"name\"] for index_info in pc.list_indexes()]\n",
    "\n",
    "if index_name not in existing_indexes:\n",
    "    pc.create_index(\n",
    "        name=index_name,\n",
    "        dimension=768,\n",
    "        metric=\"cosine\",\n",
    "        spec=ServerlessSpec(cloud=\"aws\", region=\"us-east-1\"),\n",
    "    )\n",
    "    while not pc.describe_index(index_name).status[\"ready\"]:\n",
    "        time.sleep(1)\n",
    "\n",
    "index = pc.Index(index_name)"
   ]
  },
  {
   "cell_type": "code",
   "execution_count": null,
   "id": "d46865d7",
   "metadata": {
    "id": "d46865d7"
   },
   "outputs": [],
   "source": [
    "pc.list_indexes()"
   ]
  },
  {
   "cell_type": "code",
   "execution_count": null,
   "id": "d4b8effa",
   "metadata": {
    "id": "d4b8effa"
   },
   "outputs": [],
   "source": [
    "from langchain_pinecone import PineconeVectorStore\n",
    "\n",
    "vectorstore = PineconeVectorStore(index=index, embedding=embeddings)"
   ]
  },
  {
   "cell_type": "code",
   "execution_count": null,
   "id": "f053d5fe",
   "metadata": {
    "id": "f053d5fe"
   },
   "outputs": [],
   "source": [
    "import hashlib\n",
    "\n",
    "def generate_id(content):\n",
    "    # Ensure the content is in bytes\n",
    "    if isinstance(content, str):\n",
    "        content = content.encode('utf-8')\n",
    "\n",
    "    # Create a SHA-256 hash object\n",
    "    hash_object = hashlib.sha256()\n",
    "\n",
    "    # Update the hash object with the content\n",
    "    hash_object.update(content)\n",
    "\n",
    "    # Get the hexadecimal representation of the hash\n",
    "    unique_id = hash_object.hexdigest()\n",
    "\n",
    "    return unique_id"
   ]
  },
  {
   "cell_type": "code",
   "execution_count": null,
   "id": "e67901e8",
   "metadata": {
    "id": "e67901e8"
   },
   "outputs": [],
   "source": [
    "def index_all_docs(docs):\n",
    "  # process docs by batches of 100 docs using tqdm\n",
    "  for i in tqdm(range(0, len(docs), 100), desc=\"Indexing\", unit=\"batch\"):\n",
    "    index_batch(docs[i:i+100])\n",
    "\n",
    "def index_batch(docs):\n",
    "  ids = [generate_id(doc.page_content) for doc in docs]\n",
    "  vectorstore.add_documents(documents=docs, ids=ids)"
   ]
  },
  {
   "cell_type": "code",
   "execution_count": null,
   "id": "c8e0e989",
   "metadata": {
    "id": "c8e0e989"
   },
   "outputs": [],
   "source": [
    "index_all_docs(pages)"
   ]
  },
  {
   "cell_type": "markdown",
   "id": "75720cdd-e1ed-44a4-8f69-5ed519e76f6a",
   "metadata": {},
   "source": [
    "# Hybrid"
   ]
  },
  {
   "cell_type": "code",
   "execution_count": null,
   "id": "8f7a7236-c63f-4519-b744-31fcc8654c0b",
   "metadata": {},
   "outputs": [],
   "source": [
    "import nltk\n",
    "nltk.download('punkt_tab')"
   ]
  },
  {
   "cell_type": "code",
   "execution_count": 17,
   "id": "5bba4f04-ccc9-4d0c-aed4-5d154bec2b4b",
   "metadata": {},
   "outputs": [],
   "source": [
    "import time\n",
    "\n",
    "index_name_hybrid = \"komrag-hybrid\"  # change if desired\n",
    "\n",
    "existing_indexes = [index_info[\"name\"] for index_info in pc.list_indexes()]\n",
    "\n",
    "if index_name_hybrid not in existing_indexes:\n",
    "    pc.create_index(\n",
    "        name=index_name_hybrid,\n",
    "        dimension=768,\n",
    "        metric = \"dotproduct\",\n",
    "        spec=ServerlessSpec(cloud=\"aws\", region=\"us-east-1\"),\n",
    "    )\n",
    "    while not pc.describe_index(index_name_hybrid).status[\"ready\"]:\n",
    "        time.sleep(1)\n",
    "\n",
    "index_hybrid = pc.Index(index_name_hybrid)"
   ]
  },
  {
   "cell_type": "code",
   "execution_count": null,
   "id": "fd88eabf-c5e1-434b-80df-ce5b0bc3a601",
   "metadata": {},
   "outputs": [],
   "source": [
    "ids = list(index.list())"
   ]
  },
  {
   "cell_type": "code",
   "execution_count": null,
   "id": "b065edf8-962b-4e9c-9ef0-00228537afc1",
   "metadata": {},
   "outputs": [],
   "source": [
    "r = index.fetch(ids[0])"
   ]
  },
  {
   "cell_type": "code",
   "execution_count": null,
   "id": "2d10a9ec-1363-466b-91cc-8367d4a6e2b7",
   "metadata": {},
   "outputs": [],
   "source": [
    "r[\"vectors\"]"
   ]
  },
  {
   "cell_type": "code",
   "execution_count": null,
   "id": "e1f68583-21e5-4341-993e-7c7a76ca5bab",
   "metadata": {},
   "outputs": [],
   "source": [
    "from tqdm.auto import tqdm\n",
    "\n",
    "vectors = []\n",
    "\n",
    "for page in tqdm(ids):\n",
    "    # find end of batch\n",
    "    for k, doc in index.fetch(page)[\"vectors\"].items():\n",
    "        vectors.append(doc)"
   ]
  },
  {
   "cell_type": "code",
   "execution_count": 2,
   "id": "b88bcfda-5a37-4d50-854d-07a878e66dd7",
   "metadata": {},
   "outputs": [
    {
     "name": "stdout",
     "output_type": "stream",
     "text": [
      "100% [........................................................................] 65406227 / 65406227"
     ]
    }
   ],
   "source": [
    "from pinecone_text.sparse import BM25Encoder\n",
    "\n",
    "# or from pinecone_text.sparse import SpladeEncoder if you wish to work with SPLADE\n",
    "\n",
    "# use default tf-idf values\n",
    "bm25_encoder = BM25Encoder(language='russian').default()"
   ]
  },
  {
   "cell_type": "code",
   "execution_count": 4,
   "id": "2d04948c-2829-4e4b-9f61-43359d68aff3",
   "metadata": {},
   "outputs": [],
   "source": [
    "bm25_encoder.dump(\"bm25_encoder.dump\")"
   ]
  },
  {
   "cell_type": "code",
   "execution_count": null,
   "id": "9efe1a29-1fa4-4fd8-ab50-788945ad9e1a",
   "metadata": {},
   "outputs": [],
   "source": [
    "def create_bm25_vec(doc):\n",
    "    return bm25_encoder._encode_single_document(doc[\"metadata\"][\"text\"])"
   ]
  },
  {
   "cell_type": "code",
   "execution_count": null,
   "id": "4b915f76-c93c-4e65-b790-fffb92465c22",
   "metadata": {},
   "outputs": [],
   "source": [
    "sv = bm25_encoder._encode_single_document(vectors[3][\"metadata\"][\"text\"])"
   ]
  },
  {
   "cell_type": "code",
   "execution_count": null,
   "id": "c3d181fa-9e2c-404f-a4d2-f1c1ad637b1a",
   "metadata": {},
   "outputs": [],
   "source": [
    "sv = create_bm25_vec(vectors[3])"
   ]
  },
  {
   "cell_type": "code",
   "execution_count": null,
   "id": "9e5c9e11-cd3a-4fec-8a97-a76708eb23b6",
   "metadata": {},
   "outputs": [],
   "source": [
    "sv"
   ]
  },
  {
   "cell_type": "code",
   "execution_count": null,
   "id": "94c4cf2b-a435-4a36-8853-95c8a46b6683",
   "metadata": {},
   "outputs": [],
   "source": [
    "len(vectors)"
   ]
  },
  {
   "cell_type": "code",
   "execution_count": null,
   "id": "f8631c38-a590-496f-b90d-4e29a24c41e1",
   "metadata": {},
   "outputs": [],
   "source": [
    "index_hybrid.upsert"
   ]
  },
  {
   "cell_type": "code",
   "execution_count": null,
   "id": "978bf14b-27b4-4085-bddd-84f98e380339",
   "metadata": {},
   "outputs": [],
   "source": [
    "for v in tqdm(vectors):\n",
    "    v[\"sparse_values\"] = create_bm25_vec(v)\n",
    "    v[\"metadata\"][\"context\"] = v[\"metadata\"][\"text\"]"
   ]
  },
  {
   "cell_type": "code",
   "execution_count": null,
   "id": "df08a21a-820d-4c98-83e2-4fe0c5ab53dc",
   "metadata": {},
   "outputs": [],
   "source": [
    "batch_size = 16\n",
    "\n",
    "for i in tqdm(range(0, len(vectors), batch_size)):\n",
    "    # find end of batch\n",
    "    i_end = min(i+batch_size, len(vectors))\n",
    "    # extract batch\n",
    "    batch = vectors[i:i_end]\n",
    "\n",
    "    # upload the documents to the new hybrid index\n",
    "    index_hybrid.upsert(batch)\n",
    "\n",
    "# show index description after uploading the documents\n",
    "index_hybrid.describe_index_stats()"
   ]
  },
  {
   "cell_type": "code",
   "execution_count": null,
   "id": "3053f05b-94f1-48e2-aa3f-1cb00dcb7638",
   "metadata": {},
   "outputs": [],
   "source": [
    "r = index_hybrid.fetch(list(index_hybrid.list())[3])["
   ]
  },
  {
   "cell_type": "code",
   "execution_count": null,
   "id": "aa01d83d-0bad-4320-b46d-9a6942bf82b4",
   "metadata": {},
   "outputs": [],
   "source": [
    "r[\"vectors\"]['695d2fe413863a9953d8edb8f880225dc5136c01d835d9dd2119c6bbf8eff527']"
   ]
  },
  {
   "cell_type": "markdown",
   "id": "1ade1d3e-bc36-41a0-9f28-6a985f650f92",
   "metadata": {},
   "source": [
    "# Retrieve"
   ]
  },
  {
   "cell_type": "code",
   "execution_count": 18,
   "id": "348adc07-c041-467c-879d-d5a54c99d03a",
   "metadata": {},
   "outputs": [],
   "source": [
    "from langchain_pinecone import PineconeVectorStore\n",
    "\n",
    "vectorstore = PineconeVectorStore(index=index, embedding=embeddings)"
   ]
  },
  {
   "cell_type": "code",
   "execution_count": 19,
   "id": "c59a8d10-6b49-483a-81e6-9f9d72ca4d5e",
   "metadata": {},
   "outputs": [
    {
     "data": {
      "text/plain": [
       "6"
      ]
     },
     "execution_count": 19,
     "metadata": {},
     "output_type": "execute_result"
    }
   ],
   "source": [
    "retriever = vectorstore.as_retriever(search_type=\"similarity\", search_kwargs={\"k\": 6})\n",
    "\n",
    "retrieved_docs = retriever.invoke(\"В какой температуре купать ребенка?\")\n",
    "\n",
    "len(retrieved_docs)"
   ]
  },
  {
   "cell_type": "code",
   "execution_count": null,
   "id": "5812da8f-9915-407c-83f4-32bc0439dab4",
   "metadata": {},
   "outputs": [],
   "source": [
    "print(retrieved_docs[0].page_content)"
   ]
  },
  {
   "cell_type": "code",
   "execution_count": null,
   "id": "04d21cf1-8a84-412b-b167-28681e99f6ab",
   "metadata": {},
   "outputs": [],
   "source": [
    "vectorstore.similarity_search(query=\"?\", filter={\"page\": 55})"
   ]
  },
  {
   "cell_type": "code",
   "execution_count": 22,
   "id": "0842236a-37ce-4ed0-a2b4-c26c75b18948",
   "metadata": {},
   "outputs": [],
   "source": [
    "from langchain_community.retrievers.pinecone_hybrid_search import PineconeHybridSearchRetriever\n",
    "\n",
    "retriever_hybrid = PineconeHybridSearchRetriever(\n",
    "    embeddings=embeddings, sparse_encoder=bm25_encoder, index=index_hybrid, alpha=0.5\n",
    ")"
   ]
  },
  {
   "cell_type": "code",
   "execution_count": 23,
   "id": "f579d56e-93cc-4b90-94a5-6c1860e01f90",
   "metadata": {},
   "outputs": [
    {
     "data": {
      "text/plain": [
       "[Document(metadata={'page': 146.0, 'source': 'life_begin_copy.pdf', 'start_index': 605.0, 'text': 'Только так и не иначе, потому что нельзя, ни в коем случае нельзя забывать о том, что перегрев ребенка не менее, а, как правило, значительно более опасен, чем переохлаждение!\\n\\nПриродные условия обычно позволяют создать оптимальный температурный режим (18–19 °С), но бывают исключения, и они совсем нередки. Ребенок может родиться в жаркое время года, в стране с жарким климатом, в городе, где работники теплосетей склонны с повышенным рвением относиться к своим обязанностям, и т. д.\\n\\nУберечь ребенка от перегрева при высокой температуре в помещении (выше 22 °С) можно, действуя в четырех направлениях:\\n\\n1. Одежда, точнее ее минимальное количество.  \\n2. Достаточное поступление в организм ребенка жидкости, помимо молока (вода).  \\n3. Водные процедуры (душ, ванна).  \\n4. Кондиционирование воздуха.  \\n\\nВоплощать это правило в жизнь необходимо, разумеется, не в пять лет и не в десять, а с момента рождения.', 'score': 0.46910727}, page_content='Только так и не иначе, потому что нельзя, ни в коем случае нельзя забывать о том, что перегрев ребенка не менее, а, как правило, значительно более опасен, чем переохлаждение!\\n\\nПриродные условия обычно позволяют создать оптимальный температурный режим (18–19 °С), но бывают исключения, и они совсем нередки. Ребенок может родиться в жаркое время года, в стране с жарким климатом, в городе, где работники теплосетей склонны с повышенным рвением относиться к своим обязанностям, и т. д.\\n\\nУберечь ребенка от перегрева при высокой температуре в помещении (выше 22 °С) можно, действуя в четырех направлениях:\\n\\n1. Одежда, точнее ее минимальное количество.  \\n2. Достаточное поступление в организм ребенка жидкости, помимо молока (вода).  \\n3. Водные процедуры (душ, ванна).  \\n4. Кондиционирование воздуха.  \\n\\nВоплощать это правило в жизнь необходимо, разумеется, не в пять лет и не в десять, а с момента рождения.'),\n",
       " Document(metadata={'page': 199.0, 'source': 'life_begin_copy.pdf', 'start_index': 938.0, 'text': 'Особый вопрос — погодные условия. При нормальной одежде и защите ребенка от ветра здоровый малыш вполне прилично себя чувствует и при отрицательной температуре. Вот правило, удобное для запоминания: на каждый месяц жизни — минус 5 °С, но не ниже 15 °С. Перевожу: в возрасте 1–2 месяцев температура не должна быть ниже минус 5 °С, в 2–3 месяца — ниже минус 10 °С и т. д.\\n\\nВсе приведенные цифры и сроки очень и очень условны. При адекватной одежде диапазон температур чрезвычайно широк, а время просто не ограничено. \\n\\nПо большому счету, холод создает заметно меньшее количество проблем с гулянием по сравнению с теплом (помните, мы еще в главе «Беременность» ратовали за то, чтобы ребенок родился осенью). Летом, в жару, особенно если балкон на солнечной стороне, гулять вообще невозможно и следует искать наиболее прохладное место в доме или во дворе.', 'score': 0.437402338}, page_content='Особый вопрос — погодные условия. При нормальной одежде и защите ребенка от ветра здоровый малыш вполне прилично себя чувствует и при отрицательной температуре. Вот правило, удобное для запоминания: на каждый месяц жизни — минус 5 °С, но не ниже 15 °С. Перевожу: в возрасте 1–2 месяцев температура не должна быть ниже минус 5 °С, в 2–3 месяца — ниже минус 10 °С и т. д.\\n\\nВсе приведенные цифры и сроки очень и очень условны. При адекватной одежде диапазон температур чрезвычайно широк, а время просто не ограничено. \\n\\nПо большому счету, холод создает заметно меньшее количество проблем с гулянием по сравнению с теплом (помните, мы еще в главе «Беременность» ратовали за то, чтобы ребенок родился осенью). Летом, в жару, особенно если балкон на солнечной стороне, гулять вообще невозможно и следует искать наиболее прохладное место в доме или во дворе.'),\n",
       " Document(metadata={'page': 148.0, 'source': 'life_begin_copy.pdf', 'start_index': 849.0, 'text': 'С момента возвращения из роддома не обращайте внимания на то, открыта или закрыта дверь в комнату, где находится ребенок. Не имеет значения, с точки зрения его здоровья, где расположена кровать и попадает ли на нее воздух из приоткрытого окошка. Для пятилетнего ребенка, уже испорченного стремлениями взрослых его уберечь, это имеет значение. А для новорожденного — нет.\\n\\nВ силу особой важности вопроса, повторяю: для крепкого детского сна, здоровой кожи и чистого носа без засохшей слизи оптимальна температура воздуха в помещении около 18 °С и относительная влажность в пределах 40–70%. Очевидно, что при такой температуре ребенок должен быть одет. Одет нормально и комфортно. И если вам кажется, что малышу холодно, так наденьте дополнительную распашонку, только не нервничайте. В этом, собственно, и состоит прелесть температуры около 18 °С: при таких параметрах воздуха перегреть ребенка сложно — у организма всегда есть возможность избавиться от лишнего тепла посредством дыхания.', 'score': 0.421680182}, page_content='С момента возвращения из роддома не обращайте внимания на то, открыта или закрыта дверь в комнату, где находится ребенок. Не имеет значения, с точки зрения его здоровья, где расположена кровать и попадает ли на нее воздух из приоткрытого окошка. Для пятилетнего ребенка, уже испорченного стремлениями взрослых его уберечь, это имеет значение. А для новорожденного — нет.\\n\\nВ силу особой важности вопроса, повторяю: для крепкого детского сна, здоровой кожи и чистого носа без засохшей слизи оптимальна температура воздуха в помещении около 18 °С и относительная влажность в пределах 40–70%. Очевидно, что при такой температуре ребенок должен быть одет. Одет нормально и комфортно. И если вам кажется, что малышу холодно, так наденьте дополнительную распашонку, только не нервничайте. В этом, собственно, и состоит прелесть температуры около 18 °С: при таких параметрах воздуха перегреть ребенка сложно — у организма всегда есть возможность избавиться от лишнего тепла посредством дыхания.'),\n",
       " Document(metadata={'page': 161.0, 'source': 'life_begin_copy.pdf', 'start_index': 0.0, 'text': 'ПРИНЦИПЫ УХОДА ЗА РЕБЕНКОМ И ИХ ВОПЛОЩЕНИЕ В ЖИЗНЬ\\n\\nОдежда\\n\\nКомната\\n\\nПри «хорошей» (с точки зрения среднего нашего человека) температуре в детской комнате — а это 24–25 °С — ребенок в одноразовом подгузнике будет страдать. Неминуемы опрелости, раздражение кожи. Несложно понять, что одноразовые подгузники можно считать уникальным барометром, позволяющим с уверенностью ответить на вопрос: перегрели вы ребенка или нет? При нормальном температурном режиме покрытый одноразовым подгузником участок тела по цвету не отличается от остальных. А если отличается, то это не подгузник виноват, а любящие родственники. Правила понятны — поддерживать должный температурный режим, а если это невозможно (июльская жара) — приобретать подгузники премиум-класса и регулярно проводить сеансы проветривания того, что прикрыто подгузником.\\n\\nТеперь проблемы мифические.', 'score': 0.413875937}, page_content='ПРИНЦИПЫ УХОДА ЗА РЕБЕНКОМ И ИХ ВОПЛОЩЕНИЕ В ЖИЗНЬ\\n\\nОдежда\\n\\nКомната\\n\\nПри «хорошей» (с точки зрения среднего нашего человека) температуре в детской комнате — а это 24–25 °С — ребенок в одноразовом подгузнике будет страдать. Неминуемы опрелости, раздражение кожи. Несложно понять, что одноразовые подгузники можно считать уникальным барометром, позволяющим с уверенностью ответить на вопрос: перегрели вы ребенка или нет? При нормальном температурном режиме покрытый одноразовым подгузником участок тела по цвету не отличается от остальных. А если отличается, то это не подгузник виноват, а любящие родственники. Правила понятны — поддерживать должный температурный режим, а если это невозможно (июльская жара) — приобретать подгузники премиум-класса и регулярно проводить сеансы проветривания того, что прикрыто подгузником.\\n\\nТеперь проблемы мифические.')]"
      ]
     },
     "execution_count": 23,
     "metadata": {},
     "output_type": "execute_result"
    }
   ],
   "source": [
    "retriever_hybrid.invoke(\"В какой температуре купать ребенка?\")"
   ]
  },
  {
   "cell_type": "markdown",
   "id": "8d47f022-8190-47c9-88b1-654bb45b9275",
   "metadata": {},
   "source": [
    "# Retrieval"
   ]
  },
  {
   "cell_type": "code",
   "execution_count": 24,
   "id": "a079bcc9-7ab3-4a81-b020-543d0db715fa",
   "metadata": {},
   "outputs": [
    {
     "data": {
      "text/plain": [
       "[HumanMessage(content=\"You are an assistant for question-answering tasks. Use the following pieces of retrieved context to answer the question. If you don't know the answer, just say that you don't know. Use three sentences maximum and keep the answer concise.\\nQuestion: filler question \\nContext: filler context \\nAnswer:\", additional_kwargs={}, response_metadata={})]"
      ]
     },
     "execution_count": 24,
     "metadata": {},
     "output_type": "execute_result"
    }
   ],
   "source": [
    "from langchain import hub\n",
    "\n",
    "prompt = hub.pull(\"rlm/rag-prompt\")\n",
    "\n",
    "example_messages = prompt.invoke(\n",
    "    {\"context\": \"filler context\", \"question\": \"filler question\"}\n",
    ").to_messages()\n",
    "\n",
    "example_messages"
   ]
  },
  {
   "cell_type": "code",
   "execution_count": 25,
   "id": "4c011e79-eb8c-4f63-91f3-517e30ba00eb",
   "metadata": {},
   "outputs": [],
   "source": [
    "from langchain_core.output_parsers import StrOutputParser\n",
    "from langchain_core.runnables import RunnablePassthrough\n",
    "\n",
    "\n",
    "def format_docs(docs):\n",
    "    return \"\\n\\n\".join(doc.page_content for doc in docs)\n",
    "\n",
    "\n",
    "rag_chain = (\n",
    "    {\"context\": retriever | format_docs, \"question\": RunnablePassthrough()}\n",
    "    | prompt\n",
    "    | chat\n",
    "    | StrOutputParser()\n",
    ")\n"
   ]
  },
  {
   "cell_type": "code",
   "execution_count": 26,
   "id": "5e2cbb61-fc99-4e2c-b867-d4ef522b4b1a",
   "metadata": {},
   "outputs": [],
   "source": [
    "from langchain_core.runnables import RunnableMap\n",
    "\n",
    "# Define a function to capture the retrieved documents\n",
    "def capture_context(docs):\n",
    "    return docs['context']\n",
    "\n",
    "# Modify the chain\n",
    "rag_chain_map = (\n",
    "    {\"context\": retriever | format_docs, \"question\": RunnablePassthrough()}\n",
    "    | RunnableMap({\n",
    "        \"context\": capture_context,\n",
    "        \"response\": prompt | chat | StrOutputParser()\n",
    "    })\n",
    ")"
   ]
  },
  {
   "cell_type": "code",
   "execution_count": 40,
   "id": "b7c2a40b-4e07-4d6b-9ee9-919190cf8dbe",
   "metadata": {},
   "outputs": [],
   "source": [
    "from langsmith import traceable\n",
    "from langsmith.wrappers import wrap_openai\n",
    "from langchain_core.runnables import RunnableMap\n",
    "from langchain_core.runnables import RunnablePassthrough\n",
    "\n",
    "class RagBot:\n",
    "\n",
    "    def __init__(self, retriever, chat):\n",
    "        self._retriever = retriever\n",
    "        self.chat = chat\n",
    "        self.chain = (\n",
    "            {\"context\": retriever | self.format_docs, \"question\": RunnablePassthrough()}\n",
    "            | RunnableMap({\n",
    "                \"context\": self.capture_context,\n",
    "                \"response\": prompt | chat | StrOutputParser()\n",
    "            })\n",
    "        )\n",
    "\n",
    "    def format_docs(self, docs):\n",
    "        self.docs = docs\n",
    "        return \"########\\n\\n\\n###########\".join(doc.page_content for doc in docs)\n",
    "\n",
    "    def capture_context(self, docs):\n",
    "        return docs[\"context\"].split(\"########\\n\\n\\n###########\")\n",
    "\n",
    "\n",
    "    @traceable()\n",
    "    def invoke_llm(self, question):\n",
    "        answer = self.chain.invoke(question)\n",
    "\n",
    "        # Evaluators will expect \"answer\" and \"contexts\"\n",
    "        return {\n",
    "            \"answer\": answer[\"response\"],\n",
    "            \"context\": answer[\"context\"],\n",
    "        }\n",
    "\n",
    "    @traceable()\n",
    "    def get_answer(self, question: str):\n",
    "        return self.invoke_llm(question)\n",
    "\n",
    "rag_bot = RagBot(retriever, chat)"
   ]
  },
  {
   "cell_type": "code",
   "execution_count": null,
   "id": "0e490fd0-e53e-439b-8ea5-29722cf9a041",
   "metadata": {},
   "outputs": [],
   "source": [
    "\n",
    "for chunk in rag_chain.stream(\"При какой температуре купать ребенка?\"):\n",
    "    print(chunk, end=\"\", flush=True)"
   ]
  },
  {
   "cell_type": "code",
   "execution_count": null,
   "id": "f22a6df2-212c-4d57-8c38-1b7dcc0901d1",
   "metadata": {},
   "outputs": [],
   "source": [
    "rag_chain.invoke(\"При какой температуре купать ребенка?\")"
   ]
  },
  {
   "cell_type": "code",
   "execution_count": null,
   "id": "6a9b2c11-742f-4eee-8647-d6a7941b622a",
   "metadata": {},
   "outputs": [],
   "source": [
    "rag_chain_map.invoke(\"При какой температуре купать ребенка?\")"
   ]
  },
  {
   "cell_type": "code",
   "execution_count": 41,
   "id": "cd3bb735-90c0-4a2b-8af6-93add413a573",
   "metadata": {},
   "outputs": [
    {
     "data": {
      "text/plain": [
       "{'answer': 'Оптимальная температура для начала купания ребенка составляет 33–34 °С. В дальнейшем, в зависимости от возраста, температура может снижаться до 28–30 °С для двухмесячного малыша. Важно следить за реакцией ребенка и избегать слишком низких температур, чтобы не вызвать отрицательные эмоции.',\n",
       " 'context': ['Особый вопрос — погодные условия. При нормальной одежде и защите ребенка от ветра здоровый малыш вполне прилично себя чувствует и при отрицательной температуре. Вот правило, удобное для запоминания: на каждый месяц жизни — минус 5 °С, но не ниже 15 °С. Перевожу: в возрасте 1–2 месяцев температура не должна быть ниже минус 5 °С, в 2–3 месяца — ниже минус 10 °С и т. д.\\n\\nВсе приведенные цифры и сроки очень и очень условны. При адекватной одежде диапазон температур чрезвычайно широк, а время просто не ограничено. \\n\\nПо большому счету, холод создает заметно меньшее количество проблем с гулянием по сравнению с теплом (помните, мы еще в главе «Беременность» ратовали за то, чтобы ребенок родился осенью). Летом, в жару, особенно если балкон на солнечной стороне, гулять вообще невозможно и следует искать наиболее прохладное место в доме или во дворе.',\n",
       "  'Только так и не иначе, потому что нельзя, ни в коем случае нельзя забывать о том, что перегрев ребенка не менее, а, как правило, значительно более опасен, чем переохлаждение!\\n\\nПриродные условия обычно позволяют создать оптимальный температурный режим (18–19 °С), но бывают исключения, и они совсем нередки. Ребенок может родиться в жаркое время года, в стране с жарким климатом, в городе, где работники теплосетей склонны с повышенным рвением относиться к своим обязанностям, и т. д.\\n\\nУберечь ребенка от перегрева при высокой температуре в помещении (выше 22 °С) можно, действуя в четырех направлениях:\\n\\n1. Одежда, точнее ее минимальное количество.  \\n2. Достаточное поступление в организм ребенка жидкости, помимо молока (вода).  \\n3. Водные процедуры (душ, ванна).  \\n4. Кондиционирование воздуха.  \\n\\nВоплощать это правило в жизнь необходимо, разумеется, не в пять лет и не в десять, а с момента рождения.',\n",
       "  'ПРИНЦИПЫ УХОДА ЗА РЕБЕНКОМ И ИХ ВОПЛОЩЕНИЕ В ЖИЗНЬ\\n\\nДетская комната\\n\\nБольше усилий понадобится впоследствии для того, чтобы наверстать упущенное. Исключительно важно не путать и не смешивать такие понятия, как «холодно ребенку» и «температура воздуха, которым дышит ребенок». \\n\\nВам холодно? Вам кажется, что холодно ребенку? Оденьтесь! Оденьте малыша! Оптимальная температура детской комнаты составляет 18–19 °С. Чем выше, тем хуже. Но на всю жизнь — и вашу, и детскую — необходимо запомнить важнейшее правило, позволяющее принять верное решение при наличии сомнений:\\n\\nЛУЧШЕ ПЕРЕОХЛАДИТЬ, ЧЕМ ПЕРЕГРЕТЬ.\\n\\nТолько так и не иначе, потому что нельзя, ни в коем случае нельзя забывать о том, что перегрев ребенка не менее, а, как правило, значительно более опасен, чем переохлаждение!',\n",
       "  'Купание\\n\\nМладенец имеет присущие только ему особенности регуляции температуры тела, и предсказать минимальную температуру воды просто невозможно: один улыбается при 23 °С, другой кричит при 30 °С. Временные и температурные ориентиры следующие:\\n— в начале купания — 34 °С, 15 минут;  \\n— к месячному возрасту — 30–32 °С, 20–25 минут;  \\n— в два месяца — 28–30 °С, 30 минут.\\n\\nПодчеркиваю — это ориентиры. Если малыш в два месяца спокойно плавает при 26 °С — очень хорошо и совсем не страшно. Но это не значит, что он такой уж особенный. В том-то и дело, что это может любой! Просто этому ребенку повезло с родителями. Последние лишены предрассудков, а уровень здравого смысла имеют выше среднестатистического. В удлинении же времени купания и максимально возможном снижении температуры воды заинтересованы все. Чем больше устанет ребенок, тем более спокойная ночь обеспечена его родителям.',\n",
       "  'КУПАНИЕ\\n\\nПодготовка воды\\n\\nИзмерять температуру воды лучше всего спиртовым термометром, который помещен в защитный пластмассовый корпус. Такой термометр может находиться в ванне в течение всего времени купания, позволяя постоянно контролировать температуру воды.\\n\\nТемпература первой ванны обязана удовлетворять следующим требованиям:\\n1. Может быть перенесена ребенком без вреда для его здоровья.\\n2. Может без нервного стресса быть перенесена родителями и без гипертонического криза — бабушками.\\n3. Должна доставлять удовольствие всем участвующим в процессе купания.\\n\\nЛегче всего в этом списке решить первую задачу. Ребенок без особого риска (точнее, вообще без риска) может быть погружен в ванну с температурой воды от 26 °С до 37 °С. Таким образом, за ребенка особенно бояться нечего. Но прежде чем решать другие задачи, надо все-таки определиться: какая же температура воды идеальна для купания?',\n",
       "  'КУПАНИЕ\\n\\nПодготовка воды\\n\\nВ то же время при погружении в воду с температурой ниже 30 °С у ребенка очень часто возникают отрицательные эмоции: не то чтобы ему было холодно, вовсе нет. Но шевелить руками и ногами, чтобы согреться, он не хочет и начинает возмущаться. А вместе с ним возмущаются бабушки... Ну и не надо начало купания превращать в испытание для всех членов семьи — это может очень быстро выработать у ребенка отрицательный рефлекс на один только вид ванной комнаты. А кричащий в ванне ребенок нарушает самочувствие бабушек, которых тоже надо любить и беречь.\\n\\nОПТИМАЛЬНАЯ ТЕМПЕРАТУРА ДЛЯ НАЧАЛА КУПАНИЯ СОСТАВЛЯЕТ 33—34 °С. Эта температура малополезна, но приятна. Она дает возможность полюбить процедуру купания. Важно только одно: не задерживаться долго на таком температурном режиме.']}"
      ]
     },
     "execution_count": 41,
     "metadata": {},
     "output_type": "execute_result"
    }
   ],
   "source": [
    "rag_bot.get_answer(\"При какой температуре купать ребенка?\")"
   ]
  },
  {
   "cell_type": "code",
   "execution_count": 28,
   "id": "d56fa8ba-d6d7-4728-93cb-1ed5a500ceab",
   "metadata": {},
   "outputs": [],
   "source": [
    "def predict_rag_answer(example: dict):\n",
    "    \"\"\"Use this for answer evaluation\"\"\"\n",
    "    response = rag_bot.get_answer(example[\"question\"])\n",
    "    return {\"answer\": response[\"answer\"]}\n",
    "\n",
    "def predict_rag_answer_with_context(example: dict):\n",
    "    \"\"\"Use this for evaluation of retrieved documents and hallucinations\"\"\"\n",
    "    response = rag_bot.get_answer(example[\"question\"])\n",
    "    return response"
   ]
  },
  {
   "cell_type": "raw",
   "id": "442ce732-265f-466c-836a-9802b1f2e459",
   "metadata": {},
   "source": []
  },
  {
   "cell_type": "markdown",
   "id": "a8731165-6cc8-434d-8fc2-e8da05746984",
   "metadata": {},
   "source": [
    "# NGROK"
   ]
  },
  {
   "cell_type": "code",
   "execution_count": null,
   "id": "872dd94a-dd63-4803-aba1-256b0c56f49a",
   "metadata": {},
   "outputs": [],
   "source": [
    "from pyngrok import ngrok\n",
    "\n",
    "ngrok.set_auth_token(os.environ['NGROK_KEY'])\n"
   ]
  },
  {
   "cell_type": "code",
   "execution_count": null,
   "id": "d8b68a30-f92d-4a62-8981-44b9e006f395",
   "metadata": {},
   "outputs": [],
   "source": [
    "import os\n",
    "print(os.environ['NGROK_KEY'])"
   ]
  },
  {
   "cell_type": "code",
   "execution_count": null,
   "id": "400e8640-873f-4b9e-bcc1-0cd29ac4292f",
   "metadata": {},
   "outputs": [],
   "source": [
    "# Start ngrok tunnel\n",
    "public_url = ngrok.connect(addr='localhost:8501')\n",
    "print(f\"Streamlit app is live at {public_url}\")"
   ]
  },
  {
   "cell_type": "code",
   "execution_count": null,
   "id": "2bfb6f75-906f-4e24-9cfb-760be99ad8c2",
   "metadata": {},
   "outputs": [],
   "source": []
  },
  {
   "cell_type": "markdown",
   "id": "88a503dd-d461-4d94-8d55-6a54660e361e",
   "metadata": {
    "jp-MarkdownHeadingCollapsed": true
   },
   "source": [
    "## Evaluation"
   ]
  },
  {
   "cell_type": "markdown",
   "id": "842c769a-89d8-4a17-a6c2-67c748a0ac36",
   "metadata": {
    "jp-MarkdownHeadingCollapsed": true
   },
   "source": [
    "# Dataset Generation"
   ]
  },
  {
   "cell_type": "code",
   "execution_count": null,
   "id": "311307cc-bd4a-4582-bb40-499f7271a7c4",
   "metadata": {},
   "outputs": [],
   "source": [
    "from langchain.chains.qa_generation.prompt import CHAT_PROMPT as pr_prompt"
   ]
  },
  {
   "cell_type": "code",
   "execution_count": null,
   "id": "9c26bcf6-b24c-4c35-9d61-d8a677f40aca",
   "metadata": {},
   "outputs": [],
   "source": [
    "from langchain.prompts import ChatPromptTemplate, SystemMessagePromptTemplate, HumanMessagePromptTemplate\n",
    "\n",
    "new_prompt = ChatPromptTemplate.from_messages([\n",
    "    *pr_prompt.messages,\n",
    "    HumanMessagePromptTemplate.from_template(\"Please provide question and answer in Russian language\")\n",
    "])"
   ]
  },
  {
   "cell_type": "code",
   "execution_count": null,
   "id": "62da63ad-1404-4920-91d1-8e15b620748d",
   "metadata": {},
   "outputs": [],
   "source": [
    "prompt = new_prompt"
   ]
  },
  {
   "cell_type": "code",
   "execution_count": null,
   "id": "06cae877-ee60-46bb-ae13-e099f7ce3ac5",
   "metadata": {},
   "outputs": [],
   "source": [
    "from langchain_core.output_parsers import JsonOutputParser\n",
    "from langchain_core.runnables import (\n",
    "    RunnableLambda,\n",
    "    RunnableParallel,\n",
    "    RunnablePassthrough,\n",
    ")\n",
    "from langchain_core.runnables.base import RunnableEach\n",
    "from langchain_openai import ChatOpenAI\n",
    "from langchain_text_splitters import RecursiveCharacterTextSplitter\n",
    "\n",
    "llm = chat\n",
    "text_splitter = RecursiveCharacterTextSplitter(chunk_overlap=500)\n",
    "split_text = RunnableLambda(\n",
    "    lambda x: text_splitter.create_documents([x])\n",
    ")\n",
    "\n",
    "chain = RunnableParallel(\n",
    "    text=RunnablePassthrough(),\n",
    "    questions=(\n",
    "        split_text | RunnableEach(bound=prompt | llm | JsonOutputParser())\n",
    "    )\n",
    ")"
   ]
  },
  {
   "cell_type": "code",
   "execution_count": null,
   "id": "e92b16c0-a085-4723-9dbf-e5624d9e77f7",
   "metadata": {},
   "outputs": [],
   "source": [
    "docs = vectorstore.similarity_search(query=\"?\", filter={\"page\": 55})"
   ]
  },
  {
   "cell_type": "code",
   "execution_count": null,
   "id": "d1e7f824-71f8-4bec-bf44-decdf2c5f472",
   "metadata": {},
   "outputs": [],
   "source": [
    "print(docs[1].page_content)"
   ]
  },
  {
   "cell_type": "code",
   "execution_count": null,
   "id": "71ec86d9-7fb1-4520-9597-d57f01125f01",
   "metadata": {},
   "outputs": [],
   "source": [
    "print(docs[1].metadata)"
   ]
  },
  {
   "cell_type": "code",
   "execution_count": null,
   "id": "475b2aab-2f50-4dea-9013-9d7ef41360ab",
   "metadata": {},
   "outputs": [],
   "source": [
    "chain.invoke(docs[1].page_content)"
   ]
  },
  {
   "cell_type": "code",
   "execution_count": null,
   "id": "50d8e145-5e76-400c-8638-c2a7d6bcea81",
   "metadata": {},
   "outputs": [],
   "source": [
    "prompt.messages[1]"
   ]
  },
  {
   "cell_type": "code",
   "execution_count": null,
   "id": "60f93701-a98f-4281-8aa5-0a990195f935",
   "metadata": {},
   "outputs": [],
   "source": [
    "def invoke_chain(text):\n",
    "  return chain.invoke(text)"
   ]
  },
  {
   "cell_type": "code",
   "execution_count": null,
   "id": "f8aa6f5f-6d25-49da-a249-641d4b542a18",
   "metadata": {},
   "outputs": [],
   "source": [
    "# prompt: # choose randomly 50 pages from interval 30 - 330 and invoke chain on it, specify seed for random, collect result into list\n",
    "\n",
    "import random\n",
    "\n",
    "# Assuming 'pages' is your list of pages\n",
    "# and you want to choose 50 pages randomly from interval 30 - 330\n",
    "\n",
    "random.seed(31)  # Specify the seed for reproducibility\n",
    "selected_pages = random.sample(range(30, 330), 50)"
   ]
  },
  {
   "cell_type": "code",
   "execution_count": null,
   "id": "30640536-3168-4dff-83f5-2123561ed941",
   "metadata": {},
   "outputs": [],
   "source": [
    "\n",
    "def retrieve_docs_with_metadata_filter(vectorstore, query, metadata_filter):\n",
    "  \"\"\"Retrieves documents from the vectorstore based on a query and metadata filter.\n",
    "\n",
    "  Args:\n",
    "    vectorstore: The PineconeVectorStore object.\n",
    "    query: The search query.\n",
    "    metadata_filter: A dictionary specifying the metadata filter.\n",
    "\n",
    "  Returns:\n",
    "    A list of documents matching the query and metadata filter.\n",
    "  \"\"\"\n",
    "  docs = vectorstore.similarity_search(query=query, filter=metadata_filter)\n",
    "  return docs\n",
    "\n",
    "selected_docs = [docs for p in selected_pages for docs in vectorstore.similarity_search(query=\"?\", filter={\"page\": p})]"
   ]
  },
  {
   "cell_type": "code",
   "execution_count": null,
   "id": "46e7fdae-45e2-481a-bfe5-03b801618e60",
   "metadata": {},
   "outputs": [],
   "source": [
    "len(selected_docs)"
   ]
  },
  {
   "cell_type": "code",
   "execution_count": null,
   "id": "95ae204e-cb57-4960-a4e8-c04021156967",
   "metadata": {},
   "outputs": [],
   "source": [
    "from tqdm import tqdm\n",
    "\n",
    "results = []\n",
    "for doc in tqdm(selected_docs[:40], desc=\"Invoking chain\", unit=\"doc\"):\n",
    "  results.append(invoke_chain(doc.page_content))"
   ]
  },
  {
   "cell_type": "code",
   "execution_count": null,
   "id": "09a4b44f-d93b-4c94-8b00-14c1ac84f1b7",
   "metadata": {},
   "outputs": [],
   "source": [
    "# from each item in result create two dictionaries input and output. input should contain question and metadata keys and output should contain answer\n",
    "inputs = [{\"question\": r[\"questions\"][0][\"question\"]} for r in results]\n",
    "outputs = [{\"answer\": r[\"questions\"][0][\"answer\"]} for r in results]\n",
    "metadata = [{**d.metadata, \"id\": d.id, \"text\": d.page_content} for  d in selected_docs]"
   ]
  },
  {
   "cell_type": "markdown",
   "id": "155eda22-6d86-4b96-8a9d-b6c91bec49f2",
   "metadata": {},
   "source": [
    "# Storing to Langsmith"
   ]
  },
  {
   "cell_type": "code",
   "execution_count": 29,
   "id": "694279df-8c6d-48da-b978-ffcc462e6cfc",
   "metadata": {},
   "outputs": [],
   "source": [
    "from langsmith import Client\n",
    "\n",
    "client = Client()\n",
    "dataset_name = \"Life begins questions\""
   ]
  },
  {
   "cell_type": "code",
   "execution_count": null,
   "id": "43d1d033-6635-4698-9b4b-e24375591277",
   "metadata": {},
   "outputs": [],
   "source": [
    "# Storing inputs in a dataset lets us\n",
    "# run chains and LLMs over a shared set of examples.\n",
    "dataset = client.create_dataset(\n",
    "  dataset_name=dataset_name, description=\"Questions and answers to life begins book.\",\n",
    ")"
   ]
  },
  {
   "cell_type": "code",
   "execution_count": 30,
   "id": "5b6323ff-7008-49d9-8c8e-7602880bdfcd",
   "metadata": {},
   "outputs": [],
   "source": [
    "dataset = client.read_dataset(dataset_name=dataset_name)"
   ]
  },
  {
   "cell_type": "code",
   "execution_count": null,
   "id": "fd1b5770-2efd-437b-a6df-85fa3dc20d90",
   "metadata": {},
   "outputs": [],
   "source": [
    "client.create_examples(\n",
    "  inputs=inputs,\n",
    "  outputs=outputs,\n",
    "  metadata=metadata,\n",
    "  dataset_id=dataset.id,\n",
    ")"
   ]
  },
  {
   "cell_type": "markdown",
   "id": "f947448b-36ab-4e72-9787-bc0e03a78ebf",
   "metadata": {
    "jp-MarkdownHeadingCollapsed": true
   },
   "source": [
    "# Response vs reference answer(correctness)"
   ]
  },
  {
   "cell_type": "code",
   "execution_count": null,
   "id": "1b36608a-f214-46bd-a2a6-1ce797a46cca",
   "metadata": {},
   "outputs": [],
   "source": [
    "from langsmith.schemas import Example, Run\n"
   ]
  },
  {
   "cell_type": "code",
   "execution_count": null,
   "id": "91fb53aa-eeed-4731-ba9f-ab8544f70db5",
   "metadata": {},
   "outputs": [],
   "source": [
    "llm = AzureChatOpenAI(model=model, temperature=0)\n"
   ]
  },
  {
   "cell_type": "code",
   "execution_count": null,
   "id": "165894cd-9f4b-4ecc-a239-6130097dddeb",
   "metadata": {},
   "outputs": [],
   "source": [
    "from langchain import hub\n",
    "\n",
    "# Grade prompt\n",
    "grade_prompt_answer_accuracy = hub.pull(\"langchain-ai/rag-answer-vs-reference\")\n",
    "\n",
    "def answer_evaluator(run, example) -> dict:\n",
    "    \"\"\"\n",
    "    A simple evaluator for RAG answer accuracy\n",
    "    \"\"\"\n",
    "\n",
    "    # Get question, ground truth answer, RAG chain answer\n",
    "    input_question = example.inputs[\"question\"]\n",
    "    reference = example.outputs[\"answer\"]\n",
    "    prediction = run.outputs[\"answer\"]\n",
    "\n",
    "    # LLM grader\n",
    "\n",
    "    # Structured prompt\n",
    "    answer_grader = grade_prompt_answer_accuracy | llm\n",
    "\n",
    "    # Run evaluator\n",
    "    score = answer_grader.invoke({\"question\": input_question,\n",
    "                                  \"correct_answer\": reference,\n",
    "                                  \"student_answer\": prediction})\n",
    "    score = score[\"Score\"]\n",
    "\n",
    "    return {\"key\": \"answer_v_reference_score\", \"score\": score}"
   ]
  },
  {
   "cell_type": "code",
   "execution_count": null,
   "id": "6122eecc-0dcc-428a-bfdc-2e1501c4fade",
   "metadata": {},
   "outputs": [],
   "source": [
    "ex = [e for e in client.list_examples(dataset_name=dataset_name)][4]"
   ]
  },
  {
   "cell_type": "code",
   "execution_count": null,
   "id": "b5caec4c-c5e0-4f58-ac1f-d7017e8e6cf8",
   "metadata": {},
   "outputs": [],
   "source": [
    "ex.outputs[\"question\"]"
   ]
  },
  {
   "cell_type": "code",
   "execution_count": null,
   "id": "127ef996-0d22-4d87-8d38-d7e119a2cd89",
   "metadata": {},
   "outputs": [],
   "source": [
    "answer_evaluator({\"outputs\": predict_rag_answer(ex.inputs)}, ex)"
   ]
  },
  {
   "cell_type": "code",
   "execution_count": null,
   "id": "2f2f1800-ce6d-43f6-8d7b-d6141ddbf753",
   "metadata": {},
   "outputs": [],
   "source": [
    "predict_rag_answer(ex.inputs)"
   ]
  },
  {
   "cell_type": "markdown",
   "id": "136ee8f4-7deb-40ec-b6cc-4a6b8916ef64",
   "metadata": {
    "jp-MarkdownHeadingCollapsed": true
   },
   "source": [
    "# Response vs input (Answer Relevance)"
   ]
  },
  {
   "cell_type": "code",
   "execution_count": null,
   "id": "5fd75276-32bc-45a8-a922-25f072bf149a",
   "metadata": {},
   "outputs": [],
   "source": [
    "grade_prompt_answer_helpfulness = hub.pull(\"langchain-ai/rag-answer-helpfulness\")\n",
    "\n",
    "def answer_helpfulness_evaluator(run, example) -> dict:\n",
    "    \"\"\"\n",
    "    A simple evaluator for RAG answer helpfulness\n",
    "    \"\"\"\n",
    "\n",
    "    # Get question, ground truth answer, RAG chain answer\n",
    "    input_question = example.inputs[\"question\"]\n",
    "    prediction = run.outputs[\"answer\"]\n",
    "\n",
    "    # LLM grader\n",
    "\n",
    "    # Structured prompt\n",
    "    answer_grader = grade_prompt_answer_helpfulness | llm\n",
    "\n",
    "    # Run evaluator\n",
    "    score = answer_grader.invoke({\"question\": input_question,\n",
    "                                  \"student_answer\": prediction})\n",
    "    score = score[\"Score\"]\n",
    "\n",
    "    return {\"key\": \"answer_helpfulness_score\", \"score\": score}"
   ]
  },
  {
   "cell_type": "markdown",
   "id": "76cccf67-8fce-449e-94f8-0cb67495b6d0",
   "metadata": {
    "jp-MarkdownHeadingCollapsed": true
   },
   "source": [
    "# Response vs Restrieved Docs(Faithfullnes)"
   ]
  },
  {
   "cell_type": "code",
   "execution_count": null,
   "id": "796ce898-6e4c-4824-a43d-6939a4bb9a8f",
   "metadata": {},
   "outputs": [],
   "source": [
    "# Prompt\n",
    "grade_prompt_hallucinations = hub.pull(\"langchain-ai/rag-answer-hallucination\")\n",
    "\n",
    "def answer_hallucination_evaluator(run, example) -> dict:\n",
    "    \"\"\"\n",
    "    A simple evaluator for generation hallucination\n",
    "    \"\"\"\n",
    "\n",
    "    # RAG inputs\n",
    "    input_question = example.inputs[\"question\"]\n",
    "    contexts = run.outputs[\"context\"]\n",
    "\n",
    "    # RAG answer\n",
    "    prediction = run.outputs[\"answer\"]\n",
    "\n",
    "    # LLM grader\n",
    "\n",
    "    # Structured prompt\n",
    "    answer_grader = grade_prompt_hallucinations | llm\n",
    "\n",
    "    # Get score\n",
    "    score = answer_grader.invoke({\"documents\": contexts,\n",
    "                                  \"student_answer\": prediction})\n",
    "    score = score[\"Score\"]\n",
    "\n",
    "    return {\"key\": \"answer_hallucination\", \"score\": score}"
   ]
  },
  {
   "cell_type": "markdown",
   "id": "9bba8047-ed2c-4df3-aa17-e0cad54656a1",
   "metadata": {
    "jp-MarkdownHeadingCollapsed": true
   },
   "source": [
    "# Retrieved docs vs Input (Ctx. Relevancy)"
   ]
  },
  {
   "cell_type": "code",
   "execution_count": null,
   "id": "3eb82b98-5c1e-4b61-9ab5-84ca40a028c6",
   "metadata": {},
   "outputs": [],
   "source": []
  },
  {
   "cell_type": "code",
   "execution_count": null,
   "id": "69d68646-8041-4bc8-8e54-a5892df94eac",
   "metadata": {},
   "outputs": [],
   "source": [
    "# Grade prompt\n",
    "grade_prompt_doc_relevance = hub.pull(\"langchain-ai/rag-document-relevance\")\n",
    "\n",
    "\n",
    "\n",
    "def docs_relevance_evaluator(run, example) -> dict:\n",
    "    \"\"\"\n",
    "    A simple evaluator for document relevance\n",
    "    \"\"\"\n",
    "\n",
    "    # RAG inputs\n",
    "    input_question = example.inputs[\"question\"]\n",
    "    context = run.outputs[\"context\"]\n",
    "\n",
    "\n",
    "    # Structured prompt\n",
    "    answer_grader = grade_prompt_doc_relevance | llm\n",
    "\n",
    "    # Get score\n",
    "    score = answer_grader.invoke({\"question\":input_question,\n",
    "                                  \"documents\":context})\n",
    "    score = score[\"Score\"]\n",
    "\n",
    "    return {\"key\": \"document_relevance\", \"score\": score}"
   ]
  },
  {
   "cell_type": "markdown",
   "id": "d2773998-3dc1-4ffc-ac72-575c06c55a70",
   "metadata": {},
   "source": [
    "# Run evaluations"
   ]
  },
  {
   "cell_type": "code",
   "execution_count": null,
   "id": "3d72ff8f-3655-4444-9ff6-2e9dd823fb0c",
   "metadata": {},
   "outputs": [],
   "source": []
  },
  {
   "cell_type": "code",
   "execution_count": null,
   "id": "12fcdef2-c269-4c58-bc7c-f9d651f13550",
   "metadata": {},
   "outputs": [],
   "source": [
    "from langsmith.evaluation import evaluate\n",
    "\n",
    "experiment_results = evaluate(\n",
    "    predict_rag_answer_with_context,\n",
    "    data=client.list_examples(dataset_name=dataset_name),\n",
    "    evaluators=[answer_evaluator, answer_helpfulness_evaluator, answer_hallucination_evaluator, docs_relevance_evaluator],\n",
    "    experiment_prefix=\"komrag-evaluations\",\n",
    "    metadata={\"model\": \"Llama3.2-11B\", \"retriever\": \"hybrid\"},\n",
    ")"
   ]
  },
  {
   "cell_type": "code",
   "execution_count": null,
   "id": "1446c809-d04a-4ee2-b3cf-aacb5b098b72",
   "metadata": {},
   "outputs": [],
   "source": [
    "rag_bot = RagBot(retriever=retriever_hybrid, chat=chat)"
   ]
  },
  {
   "cell_type": "code",
   "execution_count": null,
   "id": "431173b2-b782-4fdd-b29e-20cf4e0d02ea",
   "metadata": {},
   "outputs": [],
   "source": [
    "predict_rag_answer(list(client.list_examples(dataset_name=dataset_name))[3].inputs)"
   ]
  },
  {
   "cell_type": "code",
   "execution_count": null,
   "id": "9c1c2fed-1c4c-4d6c-a389-5fa7d73a9c23",
   "metadata": {},
   "outputs": [],
   "source": [
    "list(client.list_examples(dataset_name=dataset_name))[3].inputs"
   ]
  },
  {
   "cell_type": "code",
   "execution_count": null,
   "id": "19ef4edc-d56a-48fe-8c45-046df2dc6422",
   "metadata": {},
   "outputs": [],
   "source": [
    "res = list(experiment_results)"
   ]
  },
  {
   "cell_type": "markdown",
   "id": "2b35dcf0-d986-46d5-a8c0-face7f49575d",
   "metadata": {},
   "source": [
    "# ML FLOW Evaluations"
   ]
  },
  {
   "cell_type": "code",
   "execution_count": 11,
   "id": "6b413717-8b64-40b1-98f1-ef4d6251bec4",
   "metadata": {},
   "outputs": [],
   "source": [
    "import pandas as pd"
   ]
  },
  {
   "cell_type": "code",
   "execution_count": 108,
   "id": "b42f43a0-433d-45e3-b495-0bfa6cd66894",
   "metadata": {},
   "outputs": [],
   "source": [
    "from ragas.llms import LangchainLLMWrapper\n",
    "\n",
    "grader = LangchainLLMWrapper(AzureChatOpenAI(model=model, temperature=0))"
   ]
  },
  {
   "cell_type": "code",
   "execution_count": 33,
   "id": "0ed8cc2d-d022-4f44-bc27-269c42e5f835",
   "metadata": {},
   "outputs": [],
   "source": [
    "def get_examples_from_langsmith():\n",
    "    data = client.list_examples(dataset_name=dataset_name)\n",
    "    return data"
   ]
  },
  {
   "cell_type": "code",
   "execution_count": null,
   "id": "a767cf34-40bf-499c-ac50-620e18ce6995",
   "metadata": {},
   "outputs": [],
   "source": [
    "def collect_examples(generator):\n",
    "    inputs = []\n",
    "    outputs = []\n",
    "    \n",
    "    for example in generator:\n",
    "        inputs.append(example.inputs[\"question\"])\n",
    "        outputs.append(example.outputs[\"answer\"])\n",
    "        \n",
    "    return {\"inputs\": inputs, \"ground_truth\": outputs}"
   ]
  },
  {
   "cell_type": "code",
   "execution_count": 112,
   "id": "fab458bd-c524-477d-bd67-9c265bb0c59f",
   "metadata": {},
   "outputs": [],
   "source": [
    "from ragas import SingleTurnSample\n",
    "\n",
    "def collect_samples(generator):\n",
    "    samples = []   \n",
    "    for example in tqdm(generator):\n",
    "        response = predict_rag_answer_with_context(example.inputs)\n",
    "        sample = SingleTurnSample(\n",
    "            user_input=example.inputs[\"question\"],\n",
    "            reference=example.outputs[\"answer\"],\n",
    "            retrieved_contexts=response[\"context\"],\n",
    "            response=response[\"answer\"],\n",
    "        )\n",
    "        samples.append(sample)    \n",
    "    return samples"
   ]
  },
  {
   "cell_type": "code",
   "execution_count": null,
   "id": "cb71c2b1-2001-48f5-be63-38dfb3150f7b",
   "metadata": {},
   "outputs": [],
   "source": [
    "ds = EvaluationDataset(samples=samples)"
   ]
  },
  {
   "cell_type": "code",
   "execution_count": 109,
   "id": "ae50f1c1-6a4b-4492-98ef-3157f02290a6",
   "metadata": {},
   "outputs": [],
   "source": [
    "from ragas.metrics import ResponseRelevancy, LLMContextRecall, Faithfulness, FactualCorrectness, ContextPrecision, SemanticSimilarity\n",
    "from ragas import evaluate, EvaluationDataset\n",
    "\n",
    "\n",
    "metrics = [\n",
    "    LLMContextRecall(llm=grader), \n",
    "    Faithfulness(llm=grader),\n",
    "    ContextPrecision(llm=grader),\n",
    "    ResponseRelevancy(llm=grader),\n",
    "]"
   ]
  },
  {
   "cell_type": "code",
   "execution_count": 155,
   "id": "df81d6b3-f455-4448-84b4-64e600835e02",
   "metadata": {},
   "outputs": [
    {
     "name": "stderr",
     "output_type": "stream",
     "text": [
      "48it [02:27,  3.07s/it]\n"
     ]
    }
   ],
   "source": [
    "import pandas as pd\n",
    "from tqdm import tqdm\n",
    "\n",
    "rag_bot = RagBot(chat=chat, retriever=retriever_hybrid)\n",
    "data = EvaluationDataset(samples=collect_samples(get_examples_from_langsmith()))"
   ]
  },
  {
   "cell_type": "code",
   "execution_count": 156,
   "id": "7bd5d502-02a6-4b6a-b87c-b50f84262bb3",
   "metadata": {},
   "outputs": [
    {
     "name": "stderr",
     "output_type": "stream",
     "text": [
      "Evaluating: 100%|████████████████████████████████████████████████████████████████████████████████████████████████████████████████████████████████████████████████████████████████████████████████| 192/192 [02:33<00:00,  1.25it/s]\n"
     ]
    }
   ],
   "source": [
    "results = evaluate(dataset=data, metrics=metrics)"
   ]
  },
  {
   "cell_type": "code",
   "execution_count": 157,
   "id": "6ee383b2-6d73-43a2-8af1-ea0b12a3a34e",
   "metadata": {},
   "outputs": [
    {
     "name": "stderr",
     "output_type": "stream",
     "text": [
      "2024/10/28 16:36:24 INFO mlflow.tracking._tracking_service.client: 🏃 View run marvelous-deer-631 at: https://dagshub.com/OsipovStas/komrag.mlflow/#/experiments/1/runs/47ceb6ffefea483ab39b6ea795f4b7cb.\n",
      "2024/10/28 16:36:24 INFO mlflow.tracking._tracking_service.client: 🧪 View experiment at: https://dagshub.com/OsipovStas/komrag.mlflow/#/experiments/1.\n"
     ]
    }
   ],
   "source": [
    "df = results.to_pandas()\n",
    "dfm = df.mean(numeric_only=True)\n",
    "dfm = pd.DataFrame(dfm).T\n",
    "dfm[\"Retriever AVG\"] = dfm[[\"context_recall\", \"context_precision\"]].mean(axis=1)\n",
    "dfm[\"Generator AVG\"] = dfm[[\"faithfulness\", \"answer_relevancy\"]].mean(axis=1)\n",
    "dfm[\"Total AVG\"] = dfm.mean(axis=1)\n",
    "\n",
    "with mlflow.start_run() as run:\n",
    "    mlflow.log_param(\"model\", model_llama)\n",
    "    mlflow.log_param(\"index_name\", index_name_hybrid)\n",
    "    mlflow.log_metrics(dfm.iloc[0].to_dict())\n",
    "    mlflow.log_table(data=df, artifact_file=\"komrag_test_eval_results.json\")"
   ]
  },
  {
   "cell_type": "code",
   "execution_count": 21,
   "id": "58d31a7e-df2c-463b-bd36-272100b7bd6f",
   "metadata": {},
   "outputs": [],
   "source": [
    "experiment_name = \"komrag_evals\"\n",
    "experiment = mlflow.get_experiment_by_name(experiment_name)\n",
    "experiment_id = experiment.experiment_id"
   ]
  },
  {
   "cell_type": "code",
   "execution_count": 16,
   "id": "ff224939-3837-46af-9bc3-e02692054993",
   "metadata": {},
   "outputs": [
    {
     "data": {
      "text/plain": [
       "<Experiment: artifact_location='mlflow-artifacts:/4aaff30f7bc34c46ab3bd316ab7d8c42', creation_time=1730201784698, experiment_id='1', last_update_time=1730201784698, lifecycle_stage='active', name='komrag_evals', tags={}>"
      ]
     },
     "execution_count": 16,
     "metadata": {},
     "output_type": "execute_result"
    }
   ],
   "source": []
  },
  {
   "cell_type": "code",
   "execution_count": 22,
   "id": "e919f607-ba03-4e2c-886d-9258697c01c4",
   "metadata": {},
   "outputs": [],
   "source": [
    "# Retrieve all runs with the tag 'llm_zoomcamp'\n",
    "runs = mlflow.search_runs(\n",
    "    experiment_ids=[experiment_id],\n",
    "    filter_string=\"tags.llm_zoomcamp != 'None'\"\n",
    ")"
   ]
  },
  {
   "cell_type": "code",
   "execution_count": 23,
   "id": "27f9fa2e-b4ff-4c2b-9531-3ff3bd5d0003",
   "metadata": {},
   "outputs": [
    {
     "name": "stdout",
     "output_type": "stream",
     "text": [
      "                   Generator AVG  answer_relevancy  context_recall  \\\n",
      "llm_zoomcamp                                                         \n",
      "llama3.2_hybrid         0.929071          0.925404        0.928819   \n",
      "llama-dense             0.902050          0.868684        0.913194   \n",
      "gpt4o-mini-hybrid       0.902220          0.875299        0.923611   \n",
      "gpt4o-mini-dense        0.890344          0.871214        0.913194   \n",
      "\n",
      "                   context_precision  Retriever AVG  faithfulness  Total AVG  \n",
      "llm_zoomcamp                                                                  \n",
      "llama3.2_hybrid             0.886574       0.907697      0.932738   0.918384  \n",
      "llama-dense                 0.828200       0.870697      0.935417   0.886374  \n",
      "gpt4o-mini-hybrid           0.880787       0.902199      0.929142   0.902210  \n",
      "gpt4o-mini-dense            0.818657       0.865926      0.909474   0.878135  \n"
     ]
    }
   ],
   "source": [
    "# Collect the data for the DataFrame\n",
    "data = []\n",
    "for _, row in runs.iterrows():\n",
    "    run_data = {\n",
    "        \"llm_zoomcamp\": row['tags.llm_zoomcamp']\n",
    "    }\n",
    "    # Assuming metrics are stored with a 'metrics.' prefix\n",
    "    metrics = {key.split('.')[1]: value for key, value in row.items() if key.startswith('metrics.')}\n",
    "    run_data.update(metrics)\n",
    "    data.append(run_data)\n",
    "\n",
    "# Create the DataFrame\n",
    "df = pd.DataFrame(data)\n",
    "\n",
    "# Set 'llm_zoomcamp' as the index\n",
    "df.set_index(\"llm_zoomcamp\", inplace=True)\n",
    "\n",
    "print(df)"
   ]
  },
  {
   "cell_type": "code",
   "execution_count": 18,
   "id": "baef20ac-1ea6-4f5e-a478-342c1ff917b0",
   "metadata": {},
   "outputs": [
    {
     "data": {
      "text/html": [
       "<div>\n",
       "<style scoped>\n",
       "    .dataframe tbody tr th:only-of-type {\n",
       "        vertical-align: middle;\n",
       "    }\n",
       "\n",
       "    .dataframe tbody tr th {\n",
       "        vertical-align: top;\n",
       "    }\n",
       "\n",
       "    .dataframe thead th {\n",
       "        text-align: right;\n",
       "    }\n",
       "</style>\n",
       "<table border=\"1\" class=\"dataframe\">\n",
       "  <thead>\n",
       "    <tr style=\"text-align: right;\">\n",
       "      <th></th>\n",
       "      <th>run_id</th>\n",
       "      <th>experiment_id</th>\n",
       "      <th>status</th>\n",
       "      <th>artifact_uri</th>\n",
       "      <th>start_time</th>\n",
       "      <th>end_time</th>\n",
       "    </tr>\n",
       "  </thead>\n",
       "  <tbody>\n",
       "  </tbody>\n",
       "</table>\n",
       "</div>"
      ],
      "text/plain": [
       "Empty DataFrame\n",
       "Columns: [run_id, experiment_id, status, artifact_uri, start_time, end_time]\n",
       "Index: []"
      ]
     },
     "execution_count": 18,
     "metadata": {},
     "output_type": "execute_result"
    }
   ],
   "source": [
    "runs"
   ]
  },
  {
   "cell_type": "code",
   "execution_count": 195,
   "id": "56c63252-e662-4e49-9050-7912b6ad5817",
   "metadata": {},
   "outputs": [
    {
     "data": {
      "image/png": "[encoded data removed]",
      "text/plain": [
       "<Figure size 1200x700 with 1 Axes>"
      ]
     },
     "metadata": {},
     "output_type": "display_data"
    }
   ],
   "source": [
    "import matplotlib.pyplot as plt\n",
    "\n",
    "# Filter the DataFrame for AVG metrics\n",
    "avg_metrics_df = df.filter(like='AVG')\n",
    "\n",
    "# Plot the bar chart\n",
    "ax = avg_metrics_df.plot(kind='bar', figsize=(12, 7), legend=True)\n",
    "plt.title('Comparison of RAG Metrics')\n",
    "plt.xlabel('LLM Zoomcamp')\n",
    "plt.ylabel('Metric Value')\n",
    "plt.xticks(rotation=45)\n",
    "\n",
    "# Annotate each bar with its value\n",
    "for container in ax.containers:\n",
    "    ax.bar_label(container, fmt='%.2f', label_type='edge')\n",
    "\n",
    "plt.tight_layout()\n",
    "plt.show()"
   ]
  },
  {
   "cell_type": "code",
   "execution_count": 27,
   "id": "e7035a55-41a5-4608-8a55-97851d8598da",
   "metadata": {},
   "outputs": [
    {
     "data": {
      "image/png": "[encoded data removed]",
      "text/plain": [
       "<Figure size 1200x700 with 1 Axes>"
      ]
     },
     "metadata": {},
     "output_type": "display_data"
    }
   ],
   "source": [
    "import matplotlib.pyplot as plt\n",
    "import seaborn as sns\n",
    "\n",
    "# Filter the DataFrame for AVG metrics\n",
    "avg_metrics_df = df.filter(like='AVG')\n",
    "\n",
    "# Set a color palette using 'deep'\n",
    "colors = sns.color_palette(\"deep\", len(avg_metrics_df.columns))\n",
    "\n",
    "# Set the style of the plot\n",
    "sns.set_style(\"whitegrid\")\n",
    "\n",
    "# Plot the bar chart with custom colors\n",
    "ax = avg_metrics_df.plot(kind='bar', figsize=(12, 7), color=colors, legend=True)\n",
    "plt.title('Comparison of RAG Metrics', fontsize=14)\n",
    "plt.xlabel('LLM Zoomcamp', fontsize=12)\n",
    "plt.ylabel('Metric Value', fontsize=12)\n",
    "plt.xticks(rotation=45, fontsize=10)\n",
    "plt.yticks(fontsize=10)\n",
    "\n",
    "# Annotate each bar with its value\n",
    "for container in ax.containers:\n",
    "    ax.bar_label(container, fmt='%.2f', label_type='edge')\n",
    "\n",
    "# Remove the top and right spines\n",
    "sns.despine()\n",
    "\n",
    "plt.tight_layout()\n",
    "plt.savefig('avg_metrics_comparison.jpg', dpi=300)\n",
    "plt.show()"
   ]
  },
  {
   "cell_type": "code",
   "execution_count": 25,
   "id": "68118e2f-db15-4fbd-889f-64a2e1ea2f33",
   "metadata": {},
   "outputs": [
    {
     "data": {
      "text/plain": [
       "<Figure size 640x480 with 0 Axes>"
      ]
     },
     "metadata": {},
     "output_type": "display_data"
    }
   ],
   "source": []
  },
  {
   "cell_type": "code",
   "execution_count": 197,
   "id": "8c3d0a9c-1e30-41a7-879f-0f1675b3d6ec",
   "metadata": {},
   "outputs": [
    {
     "name": "stdout",
     "output_type": "stream",
     "text": [
      "Collecting seaborn\n",
      "  Using cached seaborn-0.13.2-py3-none-any.whl.metadata (5.4 kB)\n",
      "Requirement already satisfied: numpy!=1.24.0,>=1.20 in /usr/local/anaconda3/envs/komrag/lib/python3.11/site-packages (from seaborn) (1.26.4)\n",
      "Requirement already satisfied: pandas>=1.2 in /usr/local/anaconda3/envs/komrag/lib/python3.11/site-packages (from seaborn) (2.2.3)\n",
      "Requirement already satisfied: matplotlib!=3.6.1,>=3.4 in /usr/local/anaconda3/envs/komrag/lib/python3.11/site-packages (from seaborn) (3.9.2)\n",
      "Requirement already satisfied: contourpy>=1.0.1 in /usr/local/anaconda3/envs/komrag/lib/python3.11/site-packages (from matplotlib!=3.6.1,>=3.4->seaborn) (1.3.0)\n",
      "Requirement already satisfied: cycler>=0.10 in /usr/local/anaconda3/envs/komrag/lib/python3.11/site-packages (from matplotlib!=3.6.1,>=3.4->seaborn) (0.12.1)\n",
      "Requirement already satisfied: fonttools>=4.22.0 in /usr/local/anaconda3/envs/komrag/lib/python3.11/site-packages (from matplotlib!=3.6.1,>=3.4->seaborn) (4.54.1)\n",
      "Requirement already satisfied: kiwisolver>=1.3.1 in /usr/local/anaconda3/envs/komrag/lib/python3.11/site-packages (from matplotlib!=3.6.1,>=3.4->seaborn) (1.4.7)\n",
      "Requirement already satisfied: packaging>=20.0 in /usr/local/anaconda3/envs/komrag/lib/python3.11/site-packages (from matplotlib!=3.6.1,>=3.4->seaborn) (24.1)\n",
      "Requirement already satisfied: pillow>=8 in /usr/local/anaconda3/envs/komrag/lib/python3.11/site-packages (from matplotlib!=3.6.1,>=3.4->seaborn) (10.4.0)\n",
      "Requirement already satisfied: pyparsing>=2.3.1 in /usr/local/anaconda3/envs/komrag/lib/python3.11/site-packages (from matplotlib!=3.6.1,>=3.4->seaborn) (3.2.0)\n",
      "Requirement already satisfied: python-dateutil>=2.7 in /usr/local/anaconda3/envs/komrag/lib/python3.11/site-packages (from matplotlib!=3.6.1,>=3.4->seaborn) (2.9.0)\n",
      "Requirement already satisfied: pytz>=2020.1 in /usr/local/anaconda3/envs/komrag/lib/python3.11/site-packages (from pandas>=1.2->seaborn) (2024.2)\n",
      "Requirement already satisfied: tzdata>=2022.7 in /usr/local/anaconda3/envs/komrag/lib/python3.11/site-packages (from pandas>=1.2->seaborn) (2024.2)\n",
      "Requirement already satisfied: six>=1.5 in /usr/local/anaconda3/envs/komrag/lib/python3.11/site-packages (from python-dateutil>=2.7->matplotlib!=3.6.1,>=3.4->seaborn) (1.16.0)\n",
      "Using cached seaborn-0.13.2-py3-none-any.whl (294 kB)\n",
      "Installing collected packages: seaborn\n",
      "Successfully installed seaborn-0.13.2\n"
     ]
    }
   ],
   "source": [
    "!pip install seaborn"
   ]
  },
  {
   "cell_type": "code",
   "execution_count": null,
   "id": "75095080-b59c-4649-b1ff-db55eeb08630",
   "metadata": {},
   "outputs": [],
   "source": []
  }
 ],
 "metadata": {
  "colab": {
   "provenance": []
  },
  "kernelspec": {
   "display_name": "Python 3 (ipykernel)",
   "language": "python",
   "name": "python3"
  },
  "language_info": {
   "codemirror_mode": {
    "name": "ipython",
    "version": 3
   },
   "file_extension": ".py",
   "mimetype": "text/x-python",
   "name": "python",
   "nbconvert_exporter": "python",
   "pygments_lexer": "ipython3",
   "version": "3.11.10"
  }
 },
 "nbformat": 4,
 "nbformat_minor": 5
}
