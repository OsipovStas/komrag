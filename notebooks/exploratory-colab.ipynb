{
    "cells": [
        {
            "cell_type": "code",
            "source": [
                "%%capture\n",
                "!pip install -q dagshub mlflow python-dotenv langchain langchain-openai langchain-together langchain-community pypdf pinecone-client[grpc] langchain-pinecone langchain-huggingface"
            ],
            "metadata": {
                "id": "S9sDzRUdB8LS",
                "executionInfo": {
                    "status": "ok",
                    "timestamp": 1729420051838,
                    "user_tz": -180,
                    "elapsed": 55641,
                    "user": {
                        "displayName": "",
                        "userId": ""
                    }
                }
            },
            "id": "S9sDzRUdB8LS",
            "execution_count": 1,
            "outputs": []
        },
        {
            "cell_type": "code",
            "execution_count": 2,
            "id": "cee7cbb4",
            "metadata": {
                "id": "cee7cbb4",
                "executionInfo": {
                    "status": "ok",
                    "timestamp": 1729420051839,
                    "user_tz": -180,
                    "elapsed": 9,
                    "user": {
                        "displayName": "",
                        "userId": ""
                    }
                }
            },
            "outputs": [],
            "source": [
                "#@markdown **You need to sign up for [DagsHub](https://dagshub.com/user/sign_up) , then enter the name of the repository you'd like to create, and your username and email.**\n",
                "\n",
                "#@markdown Enter the repository name for the project:\n",
                "REPO_NAME= \"komrag\" #@param {type:\"string\"}\n",
                "\n",
                "#@markdown Enter the username of your DAGsHub account:\n",
                "USER_NAME = \"OsipovStas\" #@param {type:\"string\"}\n",
                "\n",
                "#@markdown Enter the email for your DAGsHub account:\n",
                "EMAIL = \"stasstels@gmail.com\" #@param {type:\"string\"}\n",
                "\n",
                "#@markdown ---\n",
                "\n",
                "import IPython"
            ]
        },
        {
            "cell_type": "code",
            "source": [
                "from google.colab import userdata\n",
                "DH_TOKEN = userdata.get('LLM_MATH_COMP_DH_TOKEN')\n"
            ],
            "metadata": {
                "id": "vHvqIRLyCW_w",
                "executionInfo": {
                    "status": "ok",
                    "timestamp": 1729420065348,
                    "user_tz": -180,
                    "elapsed": 4855,
                    "user": {
                        "displayName": "",
                        "userId": ""
                    }
                }
            },
            "id": "vHvqIRLyCW_w",
            "execution_count": 3,
            "outputs": []
        },
        {
            "cell_type": "code",
            "execution_count": 4,
            "id": "4771e432",
            "metadata": {
                "id": "4771e432",
                "executionInfo": {
                    "status": "ok",
                    "timestamp": 1729420071014,
                    "user_tz": -180,
                    "elapsed": 3462,
                    "user": {
                        "displayName": "",
                        "userId": ""
                    }
                },
                "outputId": "74fe4d38-19b4-4382-ba41-430ea287b52b",
                "colab": {
                    "base_uri": "https://localhost:8080/",
                    "height": 65
                }
            },
            "outputs": [
                {
                    "output_type": "display_data",
                    "data": {
                        "text/plain": [
                            "Accessing as OsipovStas\n"
                        ],
                        "text/html": [
                            "<pre style=\"white-space:pre;overflow-x:auto;line-height:normal;font-family:Menlo,'DejaVu Sans Mono',consolas,'Courier New',monospace\">Accessing as OsipovStas\n",
                            "</pre>\n"
                        ]
                    },
                    "metadata": {}
                },
                {
                    "output_type": "display_data",
                    "data": {
                        "text/plain": [
                            "Initialized MLflow to track repo \u001b[32m\"OsipovStas/komrag\"\u001b[0m\n"
                        ],
                        "text/html": [
                            "<pre style=\"white-space:pre;overflow-x:auto;line-height:normal;font-family:Menlo,'DejaVu Sans Mono',consolas,'Courier New',monospace\">Initialized MLflow to track repo <span style=\"color: #008000; text-decoration-color: #008000\">\"OsipovStas/komrag\"</span>\n",
                            "</pre>\n"
                        ]
                    },
                    "metadata": {}
                },
                {
                    "output_type": "display_data",
                    "data": {
                        "text/plain": [
                            "Repository OsipovStas/komrag initialized!\n"
                        ],
                        "text/html": [
                            "<pre style=\"white-space:pre;overflow-x:auto;line-height:normal;font-family:Menlo,'DejaVu Sans Mono',consolas,'Courier New',monospace\">Repository OsipovStas/komrag initialized!\n",
                            "</pre>\n"
                        ]
                    },
                    "metadata": {}
                }
            ],
            "source": [
                "import mlflow\n",
                "import dagshub\n",
                "import os\n",
                "#DH_TOKEN = os.environ['LLM_MATH_COMP_DH_TOKEN']\n",
                "username = f'{USER_NAME}'  # Replace with your DagsHub username\n",
                "repository = f'{REPO_NAME}'  # Replace with your repository name\n",
                "token = f'{DH_TOKEN}'  # Replace with your DagsHub token\n",
                "os.environ['MLFLOW_TRACKING_USERNAME'] = username\n",
                "os.environ['MLFLOW_TRACKING_PASSWORD'] = token\n",
                "dagshub.auth.add_app_token(token)\n",
                "dagshub.init(repo_name=REPO_NAME, repo_owner=USER_NAME)\n",
                "mlflow.set_tracking_uri(f\"https://dagshub.com/{USER_NAME}/{REPO_NAME}.mlflow\")"
            ]
        },
        {
            "cell_type": "code",
            "source": [
                "os.environ['LANGCHAIN_API_KEY'] = userdata.get(\"LANGCHAIN_API_KEY\")\n",
                "os.environ['LANGCHAIN_TRACING_V2'] = \"true\"\n",
                "os.environ['LANGCHAIN_ENDPOINT'] = \"https://api.smith.langchain.com\"\n",
                "os.environ['LANGCHAIN_PROJECT'] = \"komrag\""
            ],
            "metadata": {
                "id": "OoRLzACECgbM",
                "executionInfo": {
                    "status": "ok",
                    "timestamp": 1729420103556,
                    "user_tz": -180,
                    "elapsed": 4214,
                    "user": {
                        "displayName": "",
                        "userId": ""
                    }
                }
            },
            "id": "OoRLzACECgbM",
            "execution_count": 5,
            "outputs": []
        },
        {
            "cell_type": "code",
            "source": [
                "from dagshub import get_repo_bucket_client\n",
                "# Get a boto3.client object\n",
                "s3 = get_repo_bucket_client(\"OsipovStas/komrag\")\n",
                "\n",
                "# Upload file\n",
                "s3.upload_file(\n",
                "    Bucket=\"komrag\",  # name of the repo\n",
                "    Filename=\"./life_begin.pdf\",  # local path of file to upload\n",
                "    Key=\"life_begin.pdf\",  # remote path where to upload the file\n",
                ")"
            ],
            "metadata": {
                "id": "dVY_HUuGClyB",
                "executionInfo": {
                    "status": "ok",
                    "timestamp": 1729362572299,
                    "user_tz": -180,
                    "elapsed": 2279,
                    "user": {
                        "displayName": "",
                        "userId": ""
                    }
                },
                "outputId": "0cd01138-9ac1-4730-af67-eedab15ec792",
                "colab": {
                    "base_uri": "https://localhost:8080/",
                    "height": 33
                }
            },
            "id": "dVY_HUuGClyB",
            "execution_count": null,
            "outputs": [
                {
                    "output_type": "display_data",
                    "data": {
                        "text/plain": [
                            "Client created. Use the name of the repo \u001b[1m(\u001b[0mkomrag\u001b[1m)\u001b[0m as the name of the bucket\n"
                        ],
                        "text/html": [
                            "<pre style=\"white-space:pre;overflow-x:auto;line-height:normal;font-family:Menlo,'DejaVu Sans Mono',consolas,'Courier New',monospace\">Client created. Use the name of the repo <span style=\"font-weight: bold\">(</span>komrag<span style=\"font-weight: bold\">)</span> as the name of the bucket\n",
                            "</pre>\n"
                        ]
                    },
                    "metadata": {}
                }
            ]
        },
        {
            "cell_type": "code",
            "execution_count": null,
            "id": "1ec09123",
            "metadata": {
                "id": "1ec09123",
                "executionInfo": {
                    "status": "ok",
                    "timestamp": 1729362567047,
                    "user_tz": -180,
                    "elapsed": 1936,
                    "user": {
                        "displayName": "",
                        "userId": ""
                    }
                },
                "outputId": "06ab2591-e9a8-400a-ce93-298d41196ffd",
                "colab": {
                    "base_uri": "https://localhost:8080/",
                    "height": 33
                }
            },
            "outputs": [
                {
                    "output_type": "display_data",
                    "data": {
                        "text/plain": [
                            "Client created. Use the name of the repo \u001b[1m(\u001b[0mkomrag\u001b[1m)\u001b[0m as the name of the bucket\n"
                        ],
                        "text/html": [
                            "<pre style=\"white-space:pre;overflow-x:auto;line-height:normal;font-family:Menlo,'DejaVu Sans Mono',consolas,'Courier New',monospace\">Client created. Use the name of the repo <span style=\"font-weight: bold\">(</span>komrag<span style=\"font-weight: bold\">)</span> as the name of the bucket\n",
                            "</pre>\n"
                        ]
                    },
                    "metadata": {}
                }
            ],
            "source": [
                "from dagshub import get_repo_bucket_client\n",
                "# Get a boto3.client object\n",
                "s3 = get_repo_bucket_client(\"OsipovStas/komrag\")\n",
                "\n",
                "\n",
                "s3.download_file(\n",
                "    Bucket=\"komrag\",  # name of the repo\n",
                "    Key=\"life_begin.pdf\",  #  remote path from where to download the file\n",
                "    Filename=\"life_begin.pdf\",  # local path where to download the file\n",
                ")"
            ]
        },
        {
            "cell_type": "code",
            "source": [
                "from dagshub.notebook import save_notebook\n",
                "\n",
                "save_notebook(repo=f\"{USER_NAME}/{REPO_NAME}\", path=\"./notebooks/exploratory-colab.ipynb\")"
            ],
            "metadata": {
                "id": "tuESoPn5Ecbw"
            },
            "id": "tuESoPn5Ecbw",
            "execution_count": null,
            "outputs": []
        },
        {
            "cell_type": "markdown",
            "source": [
                "# LLM Configuration"
            ],
            "metadata": {
                "id": "SxU-q2FnC8L5"
            },
            "id": "SxU-q2FnC8L5"
        },
        {
            "cell_type": "code",
            "execution_count": null,
            "id": "e7f468bd",
            "metadata": {
                "id": "e7f468bd"
            },
            "outputs": [],
            "source": [
                "model=\"gpt-4o-mini-2024-07-18\""
            ]
        },
        {
            "cell_type": "code",
            "execution_count": null,
            "id": "25036f3c",
            "metadata": {
                "id": "25036f3c"
            },
            "outputs": [],
            "source": [
                "from langchain_openai import AzureChatOpenAI\n",
                "\n",
                "llm = AzureChatOpenAI(model=model, temperature=0, timeout=120)"
            ]
        },
        {
            "cell_type": "code",
            "source": [
                "from langchain_together import ChatTogether\n",
                "\n",
                "# choose from our 50+ models here: https://docs.together.ai/docs/inference-models\n",
                "chat = ChatTogether(\n",
                "    together_api_key=userdata.get(\"TOGETHER_KEY\"),\n",
                "    model=\"meta-llama/Llama-3.2-11B-Vision-Instruct-Turbo\",\n",
                "    timeout=120\n",
                ")"
            ],
            "metadata": {
                "id": "Se1Y40hrDAuu"
            },
            "id": "Se1Y40hrDAuu",
            "execution_count": null,
            "outputs": []
        },
        {
            "cell_type": "code",
            "execution_count": null,
            "id": "6b10fe05",
            "metadata": {
                "id": "6b10fe05",
                "executionInfo": {
                    "status": "ok",
                    "timestamp": 1729362672456,
                    "user_tz": -180,
                    "elapsed": 661,
                    "user": {
                        "displayName": "",
                        "userId": ""
                    }
                },
                "outputId": "d5923794-50f1-48d4-a5b6-e9dc8f0e4111",
                "colab": {
                    "base_uri": "https://localhost:8080/"
                }
            },
            "outputs": [
                {
                    "output_type": "execute_result",
                    "data": {
                        "text/plain": [
                            "AIMessage(content='\u0414\u0430, \u044f \u0437\u043d\u0430\u044e \u0440\u0443\u0441\u0441\u043a\u0438\u0439! (Yes, I know Russian!) \\n\\n\u0412\u0430\u043c \u0447\u0442\u043e-\u043d\u0438\u0431\u0443\u0434\u044c \u0433\u043e\u0432\u043e\u0440\u044f\u0442? (Do you want me to say something?)', additional_kwargs={'refusal': None}, response_metadata={'token_usage': {'completion_tokens': 33, 'prompt_tokens': 22, 'total_tokens': 55, 'completion_tokens_details': None, 'prompt_tokens_details': None}, 'model_name': 'meta-llama/Llama-3.2-11B-Vision-Instruct-Turbo', 'system_fingerprint': None, 'finish_reason': 'stop', 'logprobs': None}, id='run-81d9dd5b-fe7f-4da6-acff-172dc25c07d2-0', usage_metadata={'input_tokens': 22, 'output_tokens': 33, 'total_tokens': 55, 'input_token_details': {}, 'output_token_details': {}})"
                        ]
                    },
                    "metadata": {},
                    "execution_count": 11
                }
            ],
            "source": [
                "chat.invoke(\"Hello, do you know russian? Write a response in it\")"
            ]
        },
        {
            "cell_type": "code",
            "execution_count": 13,
            "id": "bfb9e663",
            "metadata": {
                "id": "bfb9e663",
                "executionInfo": {
                    "status": "ok",
                    "timestamp": 1729420255031,
                    "user_tz": -180,
                    "elapsed": 2387,
                    "user": {
                        "displayName": "",
                        "userId": ""
                    }
                }
            },
            "outputs": [],
            "source": [
                "from langchain_openai import OpenAIEmbeddings\n",
                "\n",
                "embeddings = OpenAIEmbeddings(model=\"text-embedding-3-small\", dimensions=768, api_key=userdata.get(\"OPENAI-KEY\"))"
            ]
        },
        {
            "cell_type": "code",
            "source": [
                "from langchain_together import TogetherEmbeddings\n",
                "\n",
                "embeddings = TogetherEmbeddings(\n",
                "    together_api_key=userdata.get(\"TOGETHER_KEY\"),\n",
                "    model=\"togethercomputer/m2-bert-80M-8k-retrieval\",\n",
                ")\n",
                "\n"
            ],
            "metadata": {
                "id": "vzqW0JyhDHNf"
            },
            "id": "vzqW0JyhDHNf",
            "execution_count": null,
            "outputs": []
        },
        {
            "cell_type": "code",
            "execution_count": 14,
            "id": "b7c33949",
            "metadata": {
                "id": "b7c33949",
                "executionInfo": {
                    "status": "ok",
                    "timestamp": 1729420259523,
                    "user_tz": -180,
                    "elapsed": 892,
                    "user": {
                        "displayName": "",
                        "userId": ""
                    }
                },
                "outputId": "84294e72-c61d-42dd-bd05-890a40f59b64",
                "colab": {
                    "base_uri": "https://localhost:8080/"
                }
            },
            "outputs": [
                {
                    "output_type": "execute_result",
                    "data": {
                        "text/plain": [
                            "768"
                        ]
                    },
                    "metadata": {},
                    "execution_count": 14
                }
            ],
            "source": [
                "len(embeddings.embed_query(\"\u041f\u0440\u0438\u0432\u0435\u0442\u044b, \u043a\u0430\u043a \u0434\u0435\u043b\u0430?\"))"
            ]
        },
        {
            "cell_type": "markdown",
            "source": [
                "# Loading"
            ],
            "metadata": {
                "id": "FwAzQy45Czxp"
            },
            "id": "FwAzQy45Czxp"
        },
        {
            "cell_type": "code",
            "execution_count": null,
            "id": "19c93bc0",
            "metadata": {
                "id": "19c93bc0"
            },
            "outputs": [],
            "source": [
                "file_path = \"life_begin.pdf\""
            ]
        },
        {
            "cell_type": "code",
            "execution_count": null,
            "id": "37dc715e",
            "metadata": {
                "id": "37dc715e"
            },
            "outputs": [],
            "source": [
                "from langchain_community.document_loaders import PyPDFLoader\n",
                "\n",
                "loader = PyPDFLoader(file_path)\n",
                "pages = []\n",
                "async for page in loader.alazy_load():\n",
                "    pages.append(page)"
            ]
        },
        {
            "cell_type": "code",
            "execution_count": null,
            "id": "57547153",
            "metadata": {
                "id": "57547153",
                "executionInfo": {
                    "status": "ok",
                    "timestamp": 1729362749817,
                    "user_tz": -180,
                    "elapsed": 491,
                    "user": {
                        "displayName": "",
                        "userId": ""
                    }
                },
                "outputId": "67d07ab4-1d49-4aac-f4e6-e73b196b57db",
                "colab": {
                    "base_uri": "https://localhost:8080/"
                }
            },
            "outputs": [
                {
                    "output_type": "execute_result",
                    "data": {
                        "text/plain": [
                            "449"
                        ]
                    },
                    "metadata": {},
                    "execution_count": 16
                }
            ],
            "source": [
                "len(pages)"
            ]
        },
        {
            "cell_type": "markdown",
            "source": [
                "# Text cleanup"
            ],
            "metadata": {
                "id": "9MRcohVaDRxV"
            },
            "id": "9MRcohVaDRxV"
        },
        {
            "cell_type": "code",
            "execution_count": null,
            "id": "04775fd4",
            "metadata": {
                "id": "04775fd4"
            },
            "outputs": [],
            "source": [
                "template=\"\"\"\n",
                "You will receive a text in Russian extracted using an OCR tool.\n",
                "Your task is to clean and format this text to enhance readability.\n",
                "The text may contain various artifacts introduced during the OCR process, such as:\n",
                "\n",
                " - Special characters or symbols that do not belong.\n",
                " - Inconsistent casing of letters (e.g., random uppercase or lowercase letters).\n",
                " - Incorrect spacing within words or between words (e.g., words glued together or unnecessary spaces).\n",
                " - Hyphenation errors, such as words split across lines.\n",
                " - Incorrect punctuation or misplaced commas and periods.\n",
                " - New line characters\n",
                "\n",
                "Please ensure the final output is free from these artifacts and is well-formatted.\n",
                "Pay attention to punctuation, paragraph structure, and overall coherence.\n",
                "The goal is to produce a clean, easy-to-read text.\n",
                "Output ONLY the cleaned text.\n",
                "\n",
                "\n",
                "### TEXT ###\n",
                "\n",
                "{text}\n",
                "\n",
                "\"\"\""
            ]
        },
        {
            "cell_type": "code",
            "execution_count": null,
            "id": "31bee8be",
            "metadata": {
                "id": "31bee8be"
            },
            "outputs": [],
            "source": [
                "from langchain_core.output_parsers import StrOutputParser\n",
                "from langchain_core.prompts import ChatPromptTemplate\n",
                "\n",
                "prompt = ChatPromptTemplate.from_template(template)"
            ]
        },
        {
            "cell_type": "code",
            "execution_count": null,
            "id": "fa793c0e",
            "metadata": {
                "id": "fa793c0e"
            },
            "outputs": [],
            "source": [
                "chain = prompt | chat | StrOutputParser()"
            ]
        },
        {
            "cell_type": "code",
            "execution_count": null,
            "id": "f7051164",
            "metadata": {
                "id": "f7051164",
                "executionInfo": {
                    "status": "ok",
                    "timestamp": 1729362761746,
                    "user_tz": -180,
                    "elapsed": 3985,
                    "user": {
                        "displayName": "",
                        "userId": ""
                    }
                },
                "outputId": "e7a54bee-d794-4063-81c0-4b09db478c0d",
                "colab": {
                    "base_uri": "https://localhost:8080/"
                }
            },
            "outputs": [
                {
                    "output_type": "stream",
                    "name": "stdout",
                    "text": [
                        "\u0414\u041e \u0411\u0415\u0420\u0415\u041c\u0415\u041d\u041d\u041e\u0421\u0422\u0418\n",
                        "\n",
                        "\u041b\u0435\u0447\u0435\u043d\u0438\u0435 \u0438 \u043c\u0435\u0434\u0438\u0446\u0438\u043d\u0441\u043a\u0438\u0435 \u043f\u0440\u043e\u0446\u0435\u0434\u0443\u0440\u044b\n",
                        "\n",
                        "1.3.1. \u041f\u0420\u0418\u0412\u0418\u0412\u041a\u0418. \u041a\u0410\u041a\u0418\u0415, \u041a\u041e\u041c\u0423, \u041a\u041e\u0413\u0414\u0410?\n",
                        "\n",
                        "\u0422\u0435\u043c\u0430 \u0432\u0430\u043a\u0446\u0438\u043d\u0430\u0446\u0438\u0438 \u043e\u0431\u044f\u0437\u0430\u0442\u0435\u043b\u044c\u043d\u0430 \u043a \u043e\u0431\u0441\u0443\u0436\u0434\u0435\u043d\u0438\u044e \u0441 \u0432\u0430\u0448\u0438\u043c \u0441\u0435\u043c\u0435\u0439\u043d\u044b\u043c \u0432\u0440\u0430\u0447\u043e\u043c. \u041d\u0430\u0434\u0435\u044e\u0441\u044c, \u0432\u044b \u043f\u0440\u0438\u0432\u0438\u0442\u044b \u0432 \u0441\u043e\u043e\u0442\u0432\u0435\u0442\u0441\u0442\u0432\u0438\u0438 \u0441 \u043d\u0430\u0446\u0438\u043e\u043d\u0430\u043b\u044c\u043d\u044b\u043c \u043a\u0430\u043b\u0435\u043d\u0434\u0430\u0440\u0435\u043c. \u00ab\u0412\u044b\u00bb \u2014 \u044d\u0442\u043e \u0431\u0443\u0434\u0443\u0449\u0438\u0435 \u0440\u043e\u0434\u0438\u0442\u0435\u043b\u0438, \u0441\u0442\u0430\u0440\u0448\u0438\u0435 \u0434\u0435\u0442\u0438, \u0434\u0440\u0443\u0433\u0438\u0435 \u0447\u043b\u0435\u043d\u044b \u0441\u0435\u043c\u044c\u0438.\n",
                        "\n",
                        "\u041e \u0447\u0435\u043c \u0441\u043b\u0435\u0434\u0443\u0435\u0442 \u043f\u043e\u043c\u043d\u0438\u0442\u044c \u0438 \u043d\u0430 \u0447\u0442\u043e \u043e\u0431\u0440\u0430\u0442\u0438\u0442\u044c \u0432\u043d\u0438\u043c\u0430\u043d\u0438\u0435:\n",
                        "\n",
                        "- \u0412\u0430\u043a\u0446\u0438\u043d\u0430\u0446\u0438\u044f \u043e\u0442 \u043a\u043e\u043a\u043b\u044e\u0448\u0430, \u0434\u0438\u0444\u0442\u0435\u0440\u0438\u0438 \u0438 \u0441\u0442\u043e\u043b\u0431\u043d\u044f\u043a\u0430. \u041f\u043e\u0441\u043b\u0435\u0434\u043d\u044f\u044f \u00ab\u0434\u0435\u0442\u0441\u043a\u0430\u044f\u00bb \u0438\u043d\u044a\u0435\u043a\u0446\u0438\u044f \u0434\u0435\u043b\u0430\u0435\u0442\u0441\u044f \u0432 16 \u043b\u0435\u0442. \u041f\u043e\u0441\u043b\u0435 \u044d\u0442\u043e\u0433\u043e \u043d\u0435\u043e\u0431\u0445\u043e\u0434\u0438\u043c\u043e \u043f\u0440\u0438\u0432\u0438\u0432\u0430\u0442\u044c\u0441\u044f \u043a\u0430\u0436\u0434\u044b\u0435 10 \u043b\u0435\u0442. \u0412\u0441\u0435\u043c. \u0414\u0430\u0436\u0435 \u0442\u0435\u043c, \u043a\u0442\u043e \u043d\u0435 \u043f\u043b\u0430\u043d\u0438\u0440\u0443\u0435\u0442 \u0431\u0435\u0440\u0435\u043c\u0435\u043d\u043d\u043e\u0441\u0442\u044c.\n",
                        "- \u0421\u043b\u0435\u0434\u0443\u0435\u0442 \u0437\u043d\u0430\u0442\u044c, \u0447\u0442\u043e \u0447\u0443\u0442\u044c \u043b\u0438 \u043d\u0435 \u0441\u0430\u043c\u0430\u044f \u043e\u043f\u0430\u0441\u043d\u0430\u044f \u0438\u043d\u0444\u0435\u043a\u0446\u0438\u044f \u0434\u043b\u044f \u043c\u043b\u0430\u0434\u0435\u043d\u0446\u0430 \u2014 \u043a\u043e\u043a\u043b\u044e\u0448, \u043a\u043e\u0442\u043e\u0440\u044b\u0439 \u043e\u043d \u043c\u043e\u0436\u0435\u0442 \u00ab\u043f\u043e\u043b\u0443\u0447\u0438\u0442\u044c\u00bb \u043e\u0442 \u0431\u043b\u0438\u0436\u0430\u0439\u0448\u0438\u0445 \u043d\u0435\u043f\u0440\u0438\u0432\u0438\u0442\u044b\u0445 \u0440\u043e\u0434\u0441\u0442\u0432\u0435\u043d\u043d\u0438\u043a\u043e\u0432. \u0418\u043c\u0435\u043d\u043d\u043e \u043f\u043e\u044d\u0442\u043e\u043c\u0443 \u0441\u043b\u0435\u0434\u0443\u0435\u0442 \u0443\u0431\u0435\u0434\u0438\u0442\u044c\u0441\u044f \u0432 \u0442\u043e\u043c, \u0447\u0442\u043e \u043e\u0442 \u043a\u043e\u043a\u043b\u044e\u0448\u0430 \u043f\u0440\u0438\u0432\u0438\u0442\u044b \u0432\u0441\u0435 \u0442\u0435, \u043a\u0442\u043e \u0431\u0443\u0434\u0435\u0442 \u043a\u043e\u043d\u0442\u0430\u043a\u0442\u0438\u0440\u043e\u0432\u0430\u0442\u044c \u0441 \u043c\u043b\u0430\u0434\u0435\u043d\u0446\u0435\u043c \u0432 \u043f\u0435\u0440\u0432\u044b\u0435 2 \u043c\u0435\u0441\u044f\u0446\u0430 \u0435\u0433\u043e \u0436\u0438\u0437\u043d\u0438 (\u0442. \u0435. \u0434\u043e \u0442\u043e\u0433\u043e, \u043a\u0430\u043a \u043f\u0440\u0438\u0432\u0438\u0432\u043a\u0438 \u043d\u0430\u0447\u043d\u0443\u0442 \u0434\u0435\u043b\u0430\u0442\u044c \u0441\u0430\u043c\u043e\u043c\u0443 \u0440\u0435\u0431\u0435\u043d\u043a\u0443).\n",
                        "- \u041a\u0440\u0430\u0441\u043d\u0443\u0445\u0430 \u2014 \u0447\u0440\u0435\u0437\u0432\u044b\u0447\u0430\u0439\u043d\u043e \u043e\u043f\u0430\u0441\u043d\u0430\u044f \u0438\u043d\u0444\u0435\u043a\u0446\u0438\u044f \u0438\u043c\u0435\u043d\u043d\u043e \u0434\u043b\u044f \u043f\u043b\u043e\u0434\u0430. \u0415\u0441\u0442\u044c \u043b\u0438 \u0434\u043e\u043a\u0443\u043c\u0435\u043d\u0442\u0430\u043b\u044c\u043d\u043e\u0435 \u043f\u043e\u0434\u0442\u0432\u0435\u0440\u0436\u0434\u0435\u043d\u0438\u0435 \u0442\u043e\u043c\u0443, \u0447\u0442\u043e \u0432\u044b \u043f\u043e\u043b\u0443\u0447\u0438\u043b\u0438 2 \u0434\u043e\u0437\u044b \u0432\u0430\u043a\u0446\u0438\u043d\u044b \u041a\u041f\u041a (\u043a\u043e\u0440\u044c, \u043f\u0430\u0440\u043e\u0442\u0438\u0442, \u043a\u0440\u0430\u0441\u043d\u0443\u0445\u0430)? \u041d\u0435\u0442 \u043f\u043e\u0434\u0442\u0432\u0435\u0440\u0436\u0434\u0435\u043d\u0438\u044f, \u043f\u0440\u0438\u0441\u0443\u0442\u0441\u0442\u0432\u0443\u044e\u0442 \u0441\u043e\u043c\u043d\u0435\u043d\u0438\u044f? \u0412 \u044d\u0442\u043e\u0439 \u0441\u0438\u0442\u0443\u0430\u0446\u0438\u0438 \u043c\u043e\u0436\u043d\u043e \u043f\u0440\u043e\u0432\u0435\u0441\u0442\u0438 \u0438\u0441\u0441\u043b\u0435\u0434\u043e\u0432\u0430\u043d\u0438\u0435 \u043a\u0440\u043e\u0432\u0438 \u0438 \u043f\u043e\u0434\u0442\u0432\u0435\u0440\u0434\u0438\u0442\u044c \u043d\u0430\u043b\u0438\u0447\u0438\u0435 \u0437\u0430\u0449\u0438\u0442\u043d\u044b\u0445 \u0430\u043d\u0442\u0438\u0442\u0435\u043b. \u0415\u0441\u0442\u044c \u0430\u043d\u0442\u0438\u0442\u0435\u043b\u0430 \u2014 \u0440\u0430\u0441\u0441\u043b\u0430\u0431\u0438\u043b\u0438\u0441\u044c, \u043d\u0435\u0442 \u2014 \u043f\u043e\u043a\u0430\u0437\u0430\u043d\u0430 \u0432\u0430\u043a\u0446\u0438\u043d\u0430\u0446\u0438\u044f.\n",
                        "- \u0415\u0441\u043b\u0438 \u0432\u044b \u043d\u0435 \u0431\u043e\u043b\u0435\u043b\u0438 \u0432\u0435\u0442\u0440\u044f\u043d\u043e\u0439 \u043e\u0441\u043f\u043e\u0439 (\u0438 \u043d\u0435 \u043f\u0440\u0438\u0432\u0438\u0442\u044b) \u2014 \u043e\u0431\u0441\u0443\u0434\u0438\u0442\u0435 \u0441 \u0432\u0440\u0430\u0447\u043e\u043c \u0432\u043e\u0437\u043c\u043e\u0436\u043d\u043e\u0441\u0442\u044c \u0432\u0430\u043a\u0446\u0438\u043d\u0430\u0446\u0438\u0438 \u043e\u0442 \u0432\u0435\u0442\u0440\u044f\u043d\u043a\u0438.\n",
                        "- \u0414\u043b\u044f \u0431\u0443\u0434\u0443\u0449\u0435\u0439 \u043c\u0430\u043c\u044b \u043e\u0447\u0435\u043d\u044c \u0430\u043a\u0442\u0443\u0430\u043b\u044c\u043d\u0430 \u0432\u0430\u043a\u0446\u0438\u043d\u0430\u0446\u0438\u044f \u043e\u0442 \u0433\u0435\u043f\u0430\u0442\u0438\u0442\u0430 \u0412. \u0423\u0442\u043e\u0447\u043d\u0438\u0442\u0435!\n",
                        "- \u0418\u043c\u0435\u043d\u043d\u043e \u0443 \u0431\u0435\u0440\u0435\u043c\u0435\u043d\u043d\u044b\u0445 \u0433\u0440\u0438\u043f\u043f \u043f\u0440\u043e\u0442\u0435\u043a\u0430\u0435\u0442 \u043e\u0441\u043e\u0431\u0435\u043d\u043d\u043e \u0442\u044f\u0436\u0435\u043b\u043e! \u041f\u043e\u0448\u0435\u043b \u0433\u0440\u0438\u043f\u043f\u043e\u0437\u043d\u044b\u0439 \u0441\u0435\u0437\u043e\u043d, \u043f\u043e\u044f\u0432\u0438\u043b\u0438\u0441\u044c \u0430\u043a\u0442\u0443\u0430\u043b\u044c\u043d\u044b\u0435 \u0434\u043b\u044f \u044d\u0442\u043e\u0433\u043e \u0441\u0435\u0437\u043e\u043d\u0430 \u0432\u0430\u043a\u0446\u0438\u043d\u044b \u2014 \u0437\u0430\u0449\u0438\u0442\u0438\u0442\u0435 \u0432\u0441\u0435\u0445 \u0447\u043b\u0435\u043d\u043e\u0432 \u0441\u0435\u043c\u044c\u0438.\n"
                    ]
                }
            ],
            "source": [
                "print(chain.invoke({\"text\": pages[30].page_content}))"
            ]
        },
        {
            "cell_type": "code",
            "execution_count": null,
            "id": "7ee18968",
            "metadata": {
                "id": "7ee18968"
            },
            "outputs": [],
            "source": [
                "def clean_text(text):\n",
                "    # try up to 3 times if no success return text as is\n",
                "    for _ in range(3):\n",
                "        try:\n",
                "            return (chain.invoke({\"text\": text}), True)\n",
                "        except Exception as e:\n",
                "            print(f\"Error cleaning text: {e}\")\n",
                "    return (text, False)"
            ]
        },
        {
            "cell_type": "code",
            "execution_count": null,
            "id": "7b56db50",
            "metadata": {
                "id": "7b56db50"
            },
            "outputs": [],
            "source": [
                "from tqdm import tqdm\n",
                "\n",
                "failures = []\n",
                "for p in tqdm(pages, desc=\"Cleaning text\", unit=\"page\"):\n",
                "  text, suc = clean_text(p.page_content)\n",
                "  if not suc:\n",
                "    failures.append(p)\n",
                "  else:\n",
                "    p.page_content = text"
            ]
        },
        {
            "cell_type": "code",
            "execution_count": null,
            "id": "83e02440",
            "metadata": {
                "id": "83e02440"
            },
            "outputs": [],
            "source": [
                "print(pages[3].page_content)"
            ]
        },
        {
            "cell_type": "markdown",
            "source": [
                "# Splitting"
            ],
            "metadata": {
                "id": "10e5l1W0Di3d"
            },
            "id": "10e5l1W0Di3d"
        },
        {
            "cell_type": "code",
            "execution_count": null,
            "id": "7d4c2faf",
            "metadata": {
                "id": "7d4c2faf"
            },
            "outputs": [],
            "source": [
                "from langchain_text_splitters import RecursiveCharacterTextSplitter\n",
                "\n",
                "text_splitter = RecursiveCharacterTextSplitter(\n",
                "    chunk_size=1000, chunk_overlap=200, add_start_index=True\n",
                ")\n",
                "splits = text_splitter.split_documents(pages)\n",
                "\n",
                "len(splits)"
            ]
        },
        {
            "cell_type": "code",
            "execution_count": null,
            "id": "fa0201fe",
            "metadata": {
                "id": "fa0201fe"
            },
            "outputs": [],
            "source": [
                "splits[8]"
            ]
        },
        {
            "cell_type": "markdown",
            "source": [
                "# Indexing"
            ],
            "metadata": {
                "id": "2vTMIQfYDl8T"
            },
            "id": "2vTMIQfYDl8T"
        },
        {
            "cell_type": "code",
            "execution_count": null,
            "id": "d710dfce",
            "metadata": {
                "id": "d710dfce"
            },
            "outputs": [],
            "source": [
                "from pinecone import Pinecone, ServerlessSpec\n",
                "\n",
                "pc = pinecone.Pinecone(api_key=os.environ['PINECONE_API_KEY'])"
            ]
        },
        {
            "cell_type": "code",
            "execution_count": null,
            "id": "0edc53c1",
            "metadata": {
                "id": "0edc53c1"
            },
            "outputs": [],
            "source": [
                "from pinecone import Pinecone, ServerlessSpec\n",
                "\n",
                "\n",
                "pc = pinecone.Pinecone(api_key=userdata.get('PINECONE_KEY'))"
            ]
        },
        {
            "cell_type": "code",
            "execution_count": null,
            "id": "8555fe4c",
            "metadata": {
                "id": "8555fe4c",
                "executionInfo": {
                    "status": "ok",
                    "timestamp": 1729362896543,
                    "user_tz": -180,
                    "elapsed": 348,
                    "user": {
                        "displayName": "",
                        "userId": ""
                    }
                },
                "outputId": "a7a2cb65-793f-43c9-9f17-d1f679635ba6",
                "colab": {
                    "base_uri": "https://localhost:8080/"
                }
            },
            "outputs": [
                {
                    "output_type": "execute_result",
                    "data": {
                        "text/plain": [
                            "{'indexes': [{'deletion_protection': 'disabled',\n",
                            "              'dimension': 768,\n",
                            "              'host': 'komrag-mcvbmc1.svc.aped-4627-b74a.pinecone.io',\n",
                            "              'metric': 'cosine',\n",
                            "              'name': 'komrag',\n",
                            "              'spec': {'serverless': {'cloud': 'aws', 'region': 'us-east-1'}},\n",
                            "              'status': {'ready': True, 'state': 'Ready'}}]}"
                        ]
                    },
                    "metadata": {},
                    "execution_count": 23
                }
            ],
            "source": [
                "pc.list_indexes()"
            ]
        },
        {
            "cell_type": "code",
            "execution_count": null,
            "id": "ddff0d32",
            "metadata": {
                "id": "ddff0d32"
            },
            "outputs": [],
            "source": [
                "import time\n",
                "\n",
                "index_name = \"komrag\"  # change if desired\n",
                "\n",
                "existing_indexes = [index_info[\"name\"] for index_info in pc.list_indexes()]\n",
                "\n",
                "if index_name not in existing_indexes:\n",
                "    pc.create_index(\n",
                "        name=index_name,\n",
                "        dimension=768,\n",
                "        metric=\"cosine\",\n",
                "        spec=ServerlessSpec(cloud=\"aws\", region=\"us-east-1\"),\n",
                "    )\n",
                "    while not pc.describe_index(index_name).status[\"ready\"]:\n",
                "        time.sleep(1)\n",
                "\n",
                "index = pc.Index(index_name)"
            ]
        },
        {
            "cell_type": "code",
            "execution_count": null,
            "id": "d46865d7",
            "metadata": {
                "id": "d46865d7"
            },
            "outputs": [],
            "source": [
                "pc.list_indexes()"
            ]
        },
        {
            "cell_type": "code",
            "execution_count": null,
            "id": "d4b8effa",
            "metadata": {
                "id": "d4b8effa"
            },
            "outputs": [],
            "source": [
                "from langchain_pinecone import PineconeVectorStore\n",
                "\n",
                "vector_store = PineconeVectorStore(index=index, embedding=embeddings)"
            ]
        },
        {
            "cell_type": "code",
            "execution_count": null,
            "id": "f053d5fe",
            "metadata": {
                "id": "f053d5fe"
            },
            "outputs": [],
            "source": [
                "import hashlib\n",
                "\n",
                "def generate_id(content):\n",
                "    # Ensure the content is in bytes\n",
                "    if isinstance(content, str):\n",
                "        content = content.encode('utf-8')\n",
                "\n",
                "    # Create a SHA-256 hash object\n",
                "    hash_object = hashlib.sha256()\n",
                "\n",
                "    # Update the hash object with the content\n",
                "    hash_object.update(content)\n",
                "\n",
                "    # Get the hexadecimal representation of the hash\n",
                "    unique_id = hash_object.hexdigest()\n",
                "\n",
                "    return unique_id"
            ]
        },
        {
            "cell_type": "code",
            "execution_count": null,
            "id": "e67901e8",
            "metadata": {
                "id": "e67901e8"
            },
            "outputs": [],
            "source": [
                "def index_all_docs(docs):\n",
                "  # process docs by batches of 100 docs using tqdm\n",
                "  for i in tqdm(range(0, len(docs), 100), desc=\"Indexing\", unit=\"batch\"):\n",
                "    index_batch(docs[i:i+100])\n",
                "\n",
                "def index_batch(docs):\n",
                "  ids = [generate_id(doc.page_content) for doc in docs]\n",
                "  vector_store.add_documents(documents=docs, ids=ids)"
            ]
        },
        {
            "cell_type": "code",
            "execution_count": null,
            "id": "c8e0e989",
            "metadata": {
                "id": "c8e0e989"
            },
            "outputs": [],
            "source": [
                "index_all_docs(pages)"
            ]
        }
    ],
    "metadata": {
        "colab": {
            "provenance": []
        },
        "language_info": {
            "name": "python"
        },
        "kernelspec": {
            "name": "python3",
            "display_name": "Python 3"
        }
    },
    "nbformat": 4,
    "nbformat_minor": 5
}